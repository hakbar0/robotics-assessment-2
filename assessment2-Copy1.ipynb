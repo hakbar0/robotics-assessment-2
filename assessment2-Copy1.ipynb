{
 "cells": [
  {
   "cell_type": "markdown",
   "id": "a6f91285",
   "metadata": {},
   "source": [
    "step 1 run roscore to prevent losing of training data\n",
    "\n",
    "step 2 roslaunch turtlebot3_gazebo turtlebot3_simple.launch"
   ]
  },
  {
   "cell_type": "code",
   "execution_count": 1,
   "id": "622dd12d",
   "metadata": {},
   "outputs": [],
   "source": [
    "import rospy as ros\n",
    "import os\n",
    "from sensor_msgs.msg import LaserScan\n",
    "import numpy as np\n",
    "from numpy import Inf\n",
    "from geometry_msgs.msg import Twist, Pose\n",
    "from nav_msgs.msg import Odometry\n",
    "from std_srvs.srv import Empty\n",
    "from gazebo_msgs.srv import SpawnModel\n",
    "import random\n",
    "from math import atan2, pi\n",
    "import matplotlib.pyplot as plt"
   ]
  },
  {
   "cell_type": "code",
   "execution_count": 2,
   "id": "4cf31b39",
   "metadata": {},
   "outputs": [],
   "source": [
    "%matplotlib inline"
   ]
  },
  {
   "cell_type": "code",
   "execution_count": 3,
   "id": "5f5bf1fa",
   "metadata": {},
   "outputs": [],
   "source": [
    "import rospy as ros\n",
    "from sensor_msgs.msg import LaserScan\n",
    "import numpy as np\n",
    "from numpy import Inf\n",
    "from geometry_msgs.msg import Twist\n",
    "from nav_msgs.msg  import Odometry\n",
    "from std_srvs.srv import Empty\n",
    "import random\n",
    "from math import pi\n",
    "import time\n",
    "import math"
   ]
  },
  {
   "cell_type": "code",
   "execution_count": 4,
   "id": "c47912ca",
   "metadata": {},
   "outputs": [],
   "source": [
    "# global hyperparamter how many areas full cricle divided\n",
    "θres = 4\n",
    "# global hyperparamter how times publisher publisehs\n",
    "hz = 5"
   ]
  },
  {
   "cell_type": "code",
   "execution_count": 135,
   "id": "72aba085",
   "metadata": {},
   "outputs": [],
   "source": [
    "class GridE:\n",
    "    \n",
    "    # the goals default values are set just in front of the robot for testing, \n",
    "    # change according to the brief and as you see fit\n",
    "    def __init__(self, xdim=4, ydim=4, hz=5,  \n",
    "                 \n",
    "                 xgoal1min=1.6, xgoal1max=2.2,\n",
    "                 ygoal1min=1.2, ygoal1max=1.7,\n",
    "                 quadrant = 3,\n",
    "                 x= -0.000021, y = -0.000021, θ=0,\n",
    "                 speed=0.46, θspeed=0.14,\n",
    "                 resol=0.3, θresol=2*pi/θres,\n",
    "                 range_min=0.30,\n",
    "                 rewards=[100, -10, 0, -1,],\n",
    "                 \n",
    "                 visual=False):\n",
    "        \n",
    "        ros.init_node('RoboEnv2')\n",
    "        ros.loginfo('Robot Environment node has been created')\n",
    "        \n",
    "        self.sub_scan = ros.Subscriber('/scan', LaserScan, self.scan, queue_size=None)\n",
    "        self.sub_odom = ros.Subscriber('/odom', Odometry, self.odom, queue_size=1)\n",
    "        self.pub_robot = ros.Publisher('/cmd_vel', Twist, queue_size=1)\n",
    "        \n",
    "        self.Vstar = None # for compatibility\n",
    "        \n",
    "        #visual\n",
    "        self.visual = visual\n",
    "        \n",
    "        # coordinates of the goal must be changed to match the given environment\n",
    "        self.xgoal1min = xgoal1min\n",
    "        self.xgoal1max = xgoal1max\n",
    "        \n",
    "        self.ygoal1min = ygoal1min\n",
    "        self.ygoal1max = ygoal1max\n",
    "        \n",
    "        #size of env         \n",
    "        self.xdim = xdim\n",
    "        self.ydim = ydim\n",
    "        \n",
    "                 \n",
    "        # $ rostopic hz /scan, rostopic hz /odom\n",
    "        self.hz = hz  # frequency of scan\n",
    "        self.rate = ros.Rate(self.hz)\n",
    "        \n",
    "        self.speed = speed    # linear speed, change as you see fit\n",
    "        self.θspeed = θspeed # angular speed, change as you see fi\n",
    "        \n",
    "        self.resol = round(resol,2)\n",
    "        self.θresol = round(θresol,2)\n",
    "        \n",
    "        self.cols = int(self.xdim//self.resol) \n",
    "        self.rows = int(self.ydim//self.resol)\n",
    "        self.orts = int(2*pi//self.θresol)    \n",
    "        \n",
    "        self.x = x\n",
    "        self.y = y\n",
    "        self.θ = θ\n",
    "    \n",
    "        self.nC = self.rows*self.cols           # Grid size\n",
    "        self.nS = self.rows*self.cols*self.orts # State space size\n",
    "        self.nA = 3\n",
    "        \n",
    "        self.range_max = 3.5\n",
    "        self.range_min = 0.3  # change as you see fit\n",
    "        \n",
    "        print('Grid  size = ', self.rows,'x', self.cols,'=', self.nC)\n",
    "        print('State size = ', self.rows,'x', self.cols, 'x', self.orts,'=',self.nS)\n",
    "        \n",
    "        self.robot = Twist()\n",
    "        self.crashes = []\n",
    "        self.crash = 0;\n",
    "        \n",
    "        self.pos = 'down'\n",
    "\n",
    "    # change as you see fit\n",
    "    def scan(self, scans):\n",
    "        scans = np.array(scans.ranges)\n",
    "        scans[scans==Inf] = self.range_max\n",
    "        self.scans = scans\n",
    "\n",
    "    # change the reward to produce a suitable policy\n",
    "    def reward(self):\n",
    "        reward = -10\n",
    "        done = False\n",
    "        \n",
    "        if self.xgoal1max >= self.x >= self.xgoal1min and self.ygoal1max >= self.y >= self.ygoal1min: \n",
    "            reward =  100\n",
    "            done = True\n",
    "            self.crashes.append(self.crash) \n",
    "            self.crash = 0\n",
    "            \n",
    "        if self.scans[:3].min() < self.range_min or self.scans[-3:].min() < self.range_min:\n",
    "            reward =  -10000 \n",
    "            self.crash +=1\n",
    "            done = True\n",
    "#             self.reset()\n",
    "           \n",
    "            \n",
    "        return reward, done\n",
    "    \n",
    "    # change as you see fit\n",
    "    def odom(self, odoms):\n",
    "        self.x = round(odoms.pose.pose.position.x, 1)   \n",
    "        self.y = round(odoms.pose.pose.position.y, 1) \n",
    "        \n",
    "        self.z = round(odoms.pose.pose.orientation.z, 3)\n",
    "        self.w = round(odoms.pose.pose.orientation.w, 3)\n",
    "        self.current_yaw = math.atan2(2 * (self.w * self.z), 1 - 2 * (self.z**2))\n",
    "\n",
    "        self.rate.sleep() \n",
    "    \n",
    "    # change this to generate a suitable state representation\n",
    "    def s_(self):\n",
    "        x_index = int((self.x + self.xdim/2) // self.resol)\n",
    "        y_index = int((self.y + self.ydim/2) // self.resol)\n",
    "        θ_index = int((self.θ + 2 * pi) % (2 * pi) // self.θresol)\n",
    "        \n",
    "        state = x_index + y_index * self.cols + θ_index * self.cols * self.rows\n",
    "        return state\n",
    "    \n",
    "    def reset(self):\n",
    "#        reset_world service\n",
    "        try:    ros.ServiceProxy('/gazebo/reset_world', Empty).call()\n",
    "        except: print('could not reset world')\n",
    "        self.rate.sleep()\n",
    "        self.pos = 'down'\n",
    "        return self.s_()\n",
    "\n",
    "    def step(self, a):\n",
    "        \n",
    "        # commented out for testing\n",
    "        if a==0: self.left()\n",
    "        if a==1: self.forward()\n",
    "        if a==2: self.right()\n",
    "            \n",
    "        self.s = self.s_() # get the stat\n",
    "        self.r, self.done = self.reward()\n",
    "        return self.s, self.r, self.done, {}\n",
    "    \n",
    "    def nodeslist(self):\n",
    "        nodes = os.popen('rosnode list').readlines()\n",
    "        for i in range(len(nodes)):\n",
    "            nodes[i] = nodes[i].replace('\\n', '')\n",
    "            print(nodes[i])\n",
    "    \n",
    "    # for compatibility, no need to change\n",
    "    def render(self, **kw):\n",
    "        pass\n",
    "    \n",
    "    def left(self):\n",
    "        self.pos = self.nextPos(self.pos,'left')\n",
    "        self.rotate(self.pos)\n",
    "\n",
    "    def forward(self):\n",
    "        self.robot.linear.x  = self.speed\n",
    "        self.robot.angular.z =  0\n",
    "        self.pub_robot.publish(self.robot)\n",
    "        time.sleep(5)\n",
    "        self.rate.sleep()\n",
    "        self.stop()\n",
    "    def right(self):\n",
    "        self.pos = self.nextPos(self.pos,'right')\n",
    "        self.rotate(self.pos)\n",
    "    def stop(self):\n",
    "        self.robot.linear.x = 0\n",
    "        self.robot.angular.z = 0\n",
    "        self.pub_robot.publish(self.robot)\n",
    "        self.rate.sleep()\n",
    "        \n",
    "    def nextPos(self, pos, turn):\n",
    "        if(turn == 'left'):\n",
    "            if(pos == 'up'):\n",
    "                return 'right'\n",
    "            elif(pos == 'right'):\n",
    "                 return 'down'\n",
    "            elif(pos == 'down'):\n",
    "                 return 'left'\n",
    "            else:\n",
    "                 return 'up'\n",
    "        else:\n",
    "            if(pos == 'up'):\n",
    "                return 'left'\n",
    "            elif(pos == 'left'):\n",
    "                 return 'down'\n",
    "            elif(pos == 'down'):\n",
    "                 return 'right'\n",
    "            else:\n",
    "                 return 'up'    \n",
    "        \n",
    "    def normalize_angle(self, angle):\n",
    "        while angle > math.pi:\n",
    "            angle -= 2 * math.pi\n",
    "        while angle < -math.pi:\n",
    "            angle += 2 * math.pi\n",
    "        return angle\n",
    "\n",
    "    def rotate(self, turn):\n",
    "        if turn == 'down':\n",
    "            target_yaw = 0\n",
    "        elif turn == 'left':\n",
    "            target_yaw = math.radians(90)\n",
    "        elif turn == 'up':\n",
    "            target_yaw = math.radians(180)\n",
    "        elif turn == 'right':\n",
    "            target_yaw = math.radians(270)\n",
    "        else:\n",
    "            raise ValueError('Invalid direction, must be \"down\", \"left\", \"up\", or \"right\".')\n",
    "\n",
    "        angle_tolerance = 0.02  # Adjust this value based on the required precision\n",
    "        angular_velocity = self.θspeed # rad/s, set this to the desired angular velocity\n",
    "\n",
    "        target_yaw = self.normalize_angle(target_yaw)\n",
    "        current_yaw_normalized = self.normalize_angle(self.current_yaw)\n",
    "\n",
    "        while abs(current_yaw_normalized - target_yaw) > angle_tolerance:\n",
    "            clockwise_angle_diff = (current_yaw_normalized - target_yaw) % (2 * math.pi)\n",
    "            counterclockwise_angle_diff = (target_yaw - current_yaw_normalized) % (2 * math.pi)\n",
    "\n",
    "            if clockwise_angle_diff < counterclockwise_angle_diff:\n",
    "                self.robot.angular.z = -angular_velocity  # Rotate clockwise\n",
    "            else:\n",
    "                self.robot.angular.z = angular_velocity  # Rotate counterclockwise\n",
    "            \n",
    "            self.pub_robot.publish(self.robot)\n",
    "            self.rate.sleep()\n",
    "            current_yaw_normalized = self.normalize_angle(self.current_yaw)\n",
    "\n",
    "        self.robot.angular.z = 0  # Stop rotating\n",
    "        self.pub_robot.publish(self.robot)\n",
    "        self.rate.sleep()"
   ]
  },
  {
   "cell_type": "code",
   "execution_count": 136,
   "id": "3cacc93b",
   "metadata": {},
   "outputs": [
    {
     "name": "stdout",
     "output_type": "stream",
     "text": [
      "[INFO] [1682858474.905618, 8.680000]: Robot Environment node has been created\n",
      "Grid  size =  4 x 4 = 16\n",
      "State size =  4 x 4 x 4 = 64\n"
     ]
    }
   ],
   "source": [
    "gride = GridE(xdim=4, ydim=4,\n",
    "                          xgoal1min=1.0,xgoal1max=1.6,\n",
    "                          ygoal1min=-1, ygoal1max=1,\n",
    "                          speed=0.22, θspeed=0.3, hz=hz,\n",
    "                          resol=1, θresol=(2*pi/θres),\n",
    "                          range_min=0.38)"
   ]
  },
  {
   "cell_type": "code",
   "execution_count": 116,
   "id": "02c8b0f2",
   "metadata": {},
   "outputs": [],
   "source": [
    "def straight(env):\n",
    "    env.visual = True\n",
    "    env.reset()\n",
    "    done = False\n",
    "    done = env.step(1)[2]\n",
    "\n",
    "\n",
    "straight(gride)"
   ]
  },
  {
   "cell_type": "code",
   "execution_count": 125,
   "id": "e540a7e7",
   "metadata": {},
   "outputs": [],
   "source": [
    "# gride.rotate('right')\n",
    "# gride.rotate('right')\n",
    "# gride.rotate('right')\n",
    "# gride.rotate('right')\n",
    "\n",
    "gride.right()\n",
    "# gride.current_yaw"
   ]
  },
  {
   "cell_type": "code",
   "execution_count": 126,
   "id": "6274ff40",
   "metadata": {},
   "outputs": [
    {
     "data": {
      "text/plain": [
       "10"
      ]
     },
     "execution_count": 126,
     "metadata": {},
     "output_type": "execute_result"
    }
   ],
   "source": [
    "gride.reset()"
   ]
  },
  {
   "cell_type": "code",
   "execution_count": 137,
   "id": "9712bead",
   "metadata": {},
   "outputs": [],
   "source": [
    "import nbimporter\n",
    "from Lesson5_TemporalDifferenceMethods import *"
   ]
  },
  {
   "cell_type": "code",
   "execution_count": 138,
   "id": "4883f6d2",
   "metadata": {},
   "outputs": [
    {
     "data": {
      "image/png": "[encoded data removed]",
      "text/plain": [
       "<Figure size 1296x288 with 2 Axes>"
      ]
     },
     "metadata": {
      "needs_background": "light"
     },
     "output_type": "display_data"
    }
   ],
   "source": [
    "sarsa = Sarsa(env=gride,ε=0.1, α=0.3, episodes=10, seed=10, **demoGame()).interact()\n",
    "gride.stop()"
   ]
  },
  {
   "cell_type": "code",
   "execution_count": null,
   "id": "d98dbba9",
   "metadata": {},
   "outputs": [
    {
     "data": {
      "image/png": "[encoded data removed]",
      "text/plain": [
       "<Figure size 1296x288 with 2 Axes>"
      ]
     },
     "metadata": {
      "needs_background": "light"
     },
     "output_type": "display_data"
    }
   ],
   "source": [
    "sarsa.episodes = 200\n",
    "%time sarsa.interact(resume=True)\n",
    "gride.stop()"
   ]
  },
  {
   "cell_type": "code",
   "execution_count": null,
   "id": "f2d82b91",
   "metadata": {},
   "outputs": [],
   "source": []
  }
 ],
 "metadata": {
  "kernelspec": {
   "display_name": "Python 3",
   "language": "python",
   "name": "python3"
  },
  "language_info": {
   "codemirror_mode": {
    "name": "ipython",
    "version": 3
   },
   "file_extension": ".py",
   "mimetype": "text/x-python",
   "name": "python",
   "nbconvert_exporter": "python",
   "pygments_lexer": "ipython3",
   "version": "3.6.9"
  }
 },
 "nbformat": 4,
 "nbformat_minor": 5
}
