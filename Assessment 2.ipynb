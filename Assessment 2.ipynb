{
 "cells": [
  {
   "cell_type": "markdown",
   "id": "2c28c21e",
   "metadata": {},
   "source": [
    "# Robotics Assessment 2"
   ]
  },
  {
   "cell_type": "markdown",
   "id": "2ecfba6e",
   "metadata": {},
   "source": [
    "## Student Info"
   ]
  },
  {
   "cell_type": "markdown",
   "id": "111872ae",
   "metadata": {},
   "source": [
    "**Student ID Number:** 201663463<br>\n",
    "**Name:** Haseeb Akbar<br>\n",
    "**Email:** od21h2a@leeds.ac.uk"
   ]
  },
  {
   "cell_type": "markdown",
   "id": "510a7a35",
   "metadata": {},
   "source": [
    "###  Summary and Introduction (3) \n",
    "Need to create three trainable robot navigation models for this task. Your robot models will navigate in an indoor environment without hitting the walls to reach a goal destination near one of the pillars in the environment. \n",
    "\n",
    "\n",
    "command to run: roslaunch turtlebot3_gazebo turtlebot3_assessment2.launch"
   ]
  },
  {
   "cell_type": "markdown",
   "id": "8c9ceccb",
   "metadata": {},
   "source": [
    "### ENV Class\n",
    "Creating a suitable Env class that communicates with the provided environment and isolates the ROS requirements from the RL solution (10)"
   ]
  },
  {
   "cell_type": "markdown",
   "id": "4a67d438",
   "metadata": {},
   "source": [
    "### Robot model 1: Tabular Solution\n",
    "\n",
    "Use a tabular RL method (2)\n",
    "Correctly divide the environment into a grid and use odometry only for state representation (2)\n",
    "Use a suitable reward function (2)\n",
    "Parameters tuning and justification (2) \n",
    "Learning plots, model’s success rate (2)\n",
    "Analysis of the results (2) "
   ]
  },
  {
   "cell_type": "code",
   "execution_count": 74,
   "id": "c015fcb5",
   "metadata": {},
   "outputs": [
    {
     "data": {
      "image/png": "[encoded data removed]",
      "text/plain": [
       "<Figure size 432x288 with 1 Axes>"
      ]
     },
     "metadata": {
      "needs_background": "light"
     },
     "output_type": "display_data"
    }
   ],
   "source": [
    "import matplotlib.pyplot as plt\n",
    "\n",
    "walls = {\n",
    "       \"Wall_Top\": {\"left_x\": 2.5, \"right_x\": -2.5, \"bottom_y\": -2.35, \"top_y\": -2.5},\n",
    "       \"Wall_Bottom\": {\"left_x\": 2.5, \"right_x\": -2.5, \"bottom_y\": 2.5, \"top_y\": 2.35},\n",
    "       \"Wall_Right\": {\"left_x\": 2.5, \"right_x\": 2.35, \"bottom_y\": 2.5, \"top_y\": -2.5},\n",
    "       \"Wall_Left\": {\"left_x\": -2.5, \"right_x\": -2.35, \"bottom_y\": 2.5, \"top_y\": -2.5},\n",
    "        ## Verticals\n",
    "       \"Wall_11\": {\"left_x\": -1.392, \"right_x\": -1.542, \"bottom_y\": -1.437, \"top_y\": -2.437},\n",
    "       \"Wall_7\": {\"left_x\": 1.623, \"right_x\": 1.473, \"bottom_y\": -0.564, \"top_y\": -1.564},\n",
    "       \"Wall_19\": {\"left_x\": 0.5382, \"right_x\": 0.3882, \"bottom_y\": 2.41128, \"top_y\": 1.41128},\n",
    "       ## Horizontals\n",
    "       \"Wall_9\":{\"left_x\": 0.592, \"right_x\": -0.408, \"bottom_y\": -1.427, \"top_y\": -1.577},\n",
    "       \"Wall_13\":{\"left_x\": -1.36, \"right_x\": -2.36, \"bottom_y\": -0.145, \"top_y\": -0.295},\n",
    "       \"Wall_21\":{\"left_x\": 0.715, \"right_x\": -0.285, \"bottom_y\": 0.279, \"top_y\": 0.129},\n",
    "       \"Wall_15\":{\"left_x\": -0.502, \"right_x\": -1.502, \"bottom_y\": 1.27, \"top_y\": 1.12},\n",
    "       \"Wall_17\":{\"left_x\": 2.43, \"right_x\": 1.43, \"bottom_y\": 1.363, \"top_y\": 1.213},\n",
    "}\n",
    "\n",
    "robot = {\n",
    "       \"Robot\":{\"left_x\": 0.43017, \"right_x\":0.57017 , \"bottom_y\": -0.570048, \"top_y\": -0.430048},\n",
    "}\n",
    "\n",
    "goals = {\n",
    "    \"Goal1\":{\"left_x\": -2.125, \"right_x\":-1.875, \"bottom_y\": -2.125, \"top_y\": -1.875},\n",
    "    \"Goal1\":{\"left_x\": 1.875, \"right_x\":2.125, \"bottom_y\": 1.875, \"top_y\": 2.125},\n",
    "}\n",
    "\n",
    "fig, ax = plt.subplots()\n",
    "\n",
    "# Draw the walls\n",
    "for wall, coords in walls.items():\n",
    "    ax.fill([coords[\"left_x\"], coords[\"right_x\"], coords[\"right_x\"], coords[\"left_x\"]],\n",
    "            [coords[\"bottom_y\"], coords[\"bottom_y\"], coords[\"top_y\"], coords[\"top_y\"]],\n",
    "            label=wall, alpha=0.5)\n",
    "\n",
    "# Draw the robot\n",
    "for r, robot_coords in robot.items():\n",
    "    ax.fill([robot_coords[\"left_x\"], robot_coords[\"right_x\"], robot_coords[\"right_x\"], robot_coords[\"left_x\"]],\n",
    "            [robot_coords[\"bottom_y\"], robot_coords[\"bottom_y\"], robot_coords[\"top_y\"], robot_coords[\"top_y\"]],\n",
    "            label=r, alpha=1, color=\"yellow\", linewidth=2, linestyle=\"-\", edgecolor=\"black\")\n",
    "    \n",
    "# Draw the goals\n",
    "for g, goal_coords in goals.items():\n",
    "    ax.plot((goal_coords[\"left_x\"] + goal_coords[\"right_x\"])/2, (goal_coords[\"bottom_y\"] + goal_coords[\"top_y\"])/2,\n",
    "            marker=\"*\", markersize=12, markerfacecolor=\"yellow\", markeredgecolor=\"black\")\n",
    "    \n",
    "plt.xlabel(\"X\")\n",
    "plt.ylabel(\"Y\")\n",
    "plt.legend(bbox_to_anchor=(1.05, 1), loc='upper left')\n",
    "plt.title(\"Walls with Thickness\")\n",
    "plt.axis(\"equal\")\n",
    "\n",
    "# Invert the y-axis\n",
    "ax.invert_yaxis()\n",
    "\n",
    "plt.show()\n"
   ]
  },
  {
   "cell_type": "code",
   "execution_count": null,
   "id": "f767d858",
   "metadata": {},
   "outputs": [],
   "source": [
    "\n"
   ]
  },
  {
   "cell_type": "code",
   "execution_count": null,
   "id": "90d5a567",
   "metadata": {},
   "outputs": [],
   "source": []
  },
  {
   "cell_type": "code",
   "execution_count": null,
   "id": "dae229de",
   "metadata": {},
   "outputs": [],
   "source": []
  }
 ],
 "metadata": {
  "kernelspec": {
   "display_name": "Python 3 (ipykernel)",
   "language": "python",
   "name": "python3"
  },
  "language_info": {
   "codemirror_mode": {
    "name": "ipython",
    "version": 3
   },
   "file_extension": ".py",
   "mimetype": "text/x-python",
   "name": "python",
   "nbconvert_exporter": "python",
   "pygments_lexer": "ipython3",
   "version": "3.9.7"
  }
 },
 "nbformat": 4,
 "nbformat_minor": 5
}
