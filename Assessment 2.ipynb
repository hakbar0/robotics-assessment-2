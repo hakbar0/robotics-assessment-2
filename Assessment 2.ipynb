{
 "cells": [
  {
   "cell_type": "markdown",
   "id": "d1883413",
   "metadata": {},
   "source": [
    "# Robotics Assessment 2"
   ]
  },
  {
   "cell_type": "markdown",
   "id": "1c094dcb",
   "metadata": {},
   "source": [
    "## Student Info"
   ]
  },
  {
   "cell_type": "markdown",
   "id": "27525a2e",
   "metadata": {},
   "source": [
    "**Student ID Number:** 201663463<br>\n",
    "**Name:** Haseeb Akbar<br>\n",
    "**Email:** od21h2a@leeds.ac.uk"
   ]
  },
  {
   "cell_type": "markdown",
   "id": "acab728f",
   "metadata": {},
   "source": [
    "###  Summary and Introduction (3) \n",
    "Need to create three trainable robot navigation models for this task. Your robot models will navigate in an indoor environment without hitting the walls to reach a goal destination near one of the pillars in the environment. "
   ]
  },
  {
   "cell_type": "markdown",
   "id": "607613c5",
   "metadata": {},
   "source": [
    "### ENV Class\n",
    "Creating a suitable Env class that communicates with the provided environment and isolates the ROS requirements from the RL solution (10)"
   ]
  },
  {
   "cell_type": "markdown",
   "id": "6be31b9a",
   "metadata": {},
   "source": [
    "### Robot model 1: Tabular Solution\n",
    "\n"
   ]
  },
  {
   "cell_type": "code",
   "execution_count": null,
   "id": "f329db42",
   "metadata": {},
   "outputs": [],
   "source": []
  },
  {
   "cell_type": "code",
   "execution_count": null,
   "id": "700a8aa1",
   "metadata": {},
   "outputs": [],
   "source": []
  },
  {
   "cell_type": "code",
   "execution_count": null,
   "id": "945faa6b",
   "metadata": {},
   "outputs": [],
   "source": []
  }
 ],
 "metadata": {
  "kernelspec": {
   "display_name": "Python 3 (ipykernel)",
   "language": "python",
   "name": "python3"
  },
  "language_info": {
   "codemirror_mode": {
    "name": "ipython",
    "version": 3
   },
   "file_extension": ".py",
   "mimetype": "text/x-python",
   "name": "python",
   "nbconvert_exporter": "python",
   "pygments_lexer": "ipython3",
   "version": "3.9.7"
  }
 },
 "nbformat": 4,
 "nbformat_minor": 5
}
