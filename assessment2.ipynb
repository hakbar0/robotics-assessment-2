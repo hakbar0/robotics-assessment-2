{
 "cells": [
  {
   "cell_type": "markdown",
   "id": "a6f91285",
   "metadata": {},
   "source": [
    "step 1 run roscore to prevent losing of training data\n",
    "\n",
    "step 2 roslaunch turtlebot3_gazebo turtlebot3_simple.launch"
   ]
  },
  {
   "cell_type": "code",
   "execution_count": 1,
   "id": "622dd12d",
   "metadata": {},
   "outputs": [],
   "source": [
    "import rospy as ros\n",
    "import os\n",
    "from sensor_msgs.msg import LaserScan\n",
    "import numpy as np\n",
    "from numpy import Inf\n",
    "from geometry_msgs.msg import Twist, Pose\n",
    "from nav_msgs.msg import Odometry\n",
    "from std_srvs.srv import Empty\n",
    "from gazebo_msgs.srv import SpawnModel\n",
    "import random\n",
    "from math import atan2, pi\n",
    "import matplotlib.pyplot as plt"
   ]
  },
  {
   "cell_type": "markdown",
   "id": "970b40b6",
   "metadata": {},
   "source": [
    "Author: Abdulrahman Altahhan, Jan 2023.\n",
    "\n",
    "The notebook use a library of functionality in RL that aims for simplicity and general insight into how algorithms work, these libraries are written from scratch using standard python libraries (numpy, matplotlib etc.).\n",
    "Please note that you will need to take a permission from the author to use the code for research, commercially or otherwise."
   ]
  },
  {
   "cell_type": "markdown",
   "id": "22b352bd",
   "metadata": {},
   "source": [
    "# Lesson 11: RL on Robotics"
   ]
  },
  {
   "cell_type": "markdown",
   "id": "b20d482b",
   "metadata": {},
   "source": [
    "**Learning outcomes**\n",
    "1. understand how to create a simple Robot environment that links to Gazebo\n",
    "1. understand how to deal with the simulated environment in a grid world fashion\n",
    "1. appreciate the intricacy of applying RL to the robotics domain\n",
    "1. build on previous concepts to come up with a suitable solution to a problem at hand\n",
    "1. understand how a replay buffer helps us to come closer to supervised learning and appreciate the important role it plays in reaching convergence\n",
    "1. understand how to combine deep reinforcement learning with deep learning to create a powerful framework that allows automatic agent learning by observation or self-play.\n",
    "1. understand how a replay buffer helps us to come closer to supervised learning and appreciate the important role it plays in reaching convergence for difficult problems that involve image processing and reinforcement learning\n"
   ]
  },
  {
   "cell_type": "markdown",
   "id": "abbe78bc",
   "metadata": {},
   "source": [
    "**Reading**:\n",
    "We cover applications of RL on robotics based on previouse units which you can refere to."
   ]
  },
  {
   "cell_type": "markdown",
   "id": "8ef686b3",
   "metadata": {},
   "source": [
    "In this notebook, we deal with how to set up a robot environment class that can handle the publish-subscribe on topics and deal with services in ROS. We must have ROS and Gazebo installed and set up on our machine. The code is a starting point and is not fully developed. You will need to write the necessary functionality to address a specific requirement. The main idea of tackling robotics applications in a Jupyter notebook is to utilise the provided infrastructure and libraries of code we covered in earlier units."
   ]
  },
  {
   "cell_type": "markdown",
   "id": "ee6e65a6",
   "metadata": {},
   "source": [
    "## Running Gazebo\n",
    "You will need to launch a gazebo environment with Turtlebot3 in it. So long as the /scan(LaserScan), /odom (Odometry) and /cmd_vel(Twist) topics are available, the environment should work fine. Our target is to build an environment that will allow us to use the algorithms we developed in earlier units directly.\n",
    "\n",
    "To launch an environment, you should open a terminal and run the following command"
   ]
  },
  {
   "cell_type": "markdown",
   "id": "7112d011",
   "metadata": {},
   "source": [
    "roslaunch turtlebot3_gazebo turtlebot3_house.launch"
   ]
  },
  {
   "cell_type": "markdown",
   "id": "1838aceb",
   "metadata": {},
   "source": [
    "Note that you cannot do that here because that will block the notebook from executing other code. \n",
    "You must select restart your notebook kernel, ex. Kernel-> Restart and Run ALL, whenever you want to re-establish a connection with the environment.\n"
   ]
  },
  {
   "cell_type": "code",
   "execution_count": 2,
   "id": "4cf31b39",
   "metadata": {},
   "outputs": [],
   "source": [
    "%matplotlib inline"
   ]
  },
  {
   "cell_type": "code",
   "execution_count": 3,
   "id": "5f5bf1fa",
   "metadata": {},
   "outputs": [],
   "source": [
    "import rospy as ros\n",
    "from sensor_msgs.msg import LaserScan\n",
    "import numpy as np\n",
    "from numpy import Inf\n",
    "from geometry_msgs.msg import Twist\n",
    "from nav_msgs.msg  import Odometry\n",
    "from std_srvs.srv import Empty\n",
    "import random\n",
    "from math import pi"
   ]
  },
  {
   "cell_type": "code",
   "execution_count": 4,
   "id": "c47912ca",
   "metadata": {},
   "outputs": [],
   "source": [
    "# global hyperparamter how many areas full cricle divided\n",
    "θres = 10\n",
    "# global hyperparamter how times publisher publisehs\n",
    "hz = 5"
   ]
  },
  {
   "cell_type": "code",
   "execution_count": 77,
   "id": "ab2f807a",
   "metadata": {},
   "outputs": [],
   "source": [
    "class RoboGridEnv:\n",
    "    \n",
    "    # the goals default values are set just in front of the robot for testing, \n",
    "    # change according to the brief and as you see fit\n",
    "    def __init__(self, xdim=4, ydim=4, hz=hz,  \n",
    "                 xgoal=1.3, ygoal=0, tol=0.5,\n",
    "                 x= -0.000021, y = -0.000021, θ=0,\n",
    "                 speed=0.3, θspeed=1,\n",
    "                 resol=3, θresol=2*pi/θres,\n",
    "                 range_min=0.30,\n",
    "                 rewards=[1000, -10, 0, -1,],\n",
    "                 \n",
    "                 visual=False):\n",
    "        \n",
    "        ros.init_node('RoboEnv')\n",
    "        ros.loginfo('Robot Environment node has been created')\n",
    "        \n",
    "        self.sub_scan = ros.Subscriber('/scan', LaserScan, self.scan, queue_size=None)\n",
    "        self.sub_odom = ros.Subscriber('/odom', Odometry, self.odom, queue_size=1)\n",
    "        self.pub_robot = ros.Publisher('/cmd_vel', Twist, queue_size=1)\n",
    "        \n",
    "        self.Vstar = None # for compatibility\n",
    "        \n",
    "        #visual\n",
    "        self.visual = visual\n",
    "        \n",
    "        # coordinates of the goal must be changed to match the given environment\n",
    "        self.xgoal = xgoal\n",
    "        self.ygoal = ygoal\n",
    "        \n",
    "        #size of env         \n",
    "        self.xdim = xdim\n",
    "        self.ydim = ydim\n",
    "        \n",
    "                 \n",
    "        # $ rostopic hz /scan, rostopic hz /odom\n",
    "        self.hz = hz  # frequency of scan\n",
    "        self.rate = ros.Rate(self.hz)\n",
    "        \n",
    "        self.speed = speed    # linear speed, change as you see fit\n",
    "        self.θspeed = θspeed # angular speed, change as you see fit\n",
    "        self.tol = tol     # tolerance to goal recognition, within 2 feet\n",
    "        \n",
    "        self.resol = round(resol,2)\n",
    "        self.θresol = round(θresol,2)\n",
    "        \n",
    "        self.cols = int(self.xdim//self.resol) +1\n",
    "        self.rows = int(self.ydim//self.resol) +1\n",
    "        self.orts = int(2*pi//self.θresol)     +1\n",
    "        \n",
    "        self.x = x\n",
    "        self.y = y\n",
    "        self.θ = θ\n",
    "    \n",
    "        self.nC = self.rows*self.cols           # Grid size\n",
    "        self.nS = self.rows*self.cols*self.orts # State space size\n",
    "        self.nA = 3\n",
    "        \n",
    "        self.range_max = 3.5\n",
    "        self.range_min = 0.3  # change as you see fit\n",
    "        \n",
    "        print('Grid  size = ', self.rows,'x', self.cols,'=', self.nC)\n",
    "        print('State size = ', self.rows,'x', self.cols, 'x', self.orts,'=',self.nS)\n",
    "        \n",
    "        self.robot = Twist()\n",
    "        self.crashes = []\n",
    "        self.crash = 0;\n",
    "\n",
    "    # change as you see fit\n",
    "    def scan(self, scans):\n",
    "        scans = np.array(scans.ranges)\n",
    "        scans[scans==Inf] = self.range_max\n",
    "        self.scans = scans\n",
    "    \n",
    "\n",
    "    # change the reward to produce a suitable policy\n",
    "    def reward(self):\n",
    "        reward = -1\n",
    "        done = False\n",
    "        \n",
    "        # cheacking for goal\n",
    "        tol = self.tol \n",
    "        \n",
    "        if self.xgoal + tol > self.x > self.xgoal - tol and self.ygoal + tol > self.y > self.ygoal - tol: \n",
    "            reward =  1000 \n",
    "            done = True\n",
    "            self.crashes.append(self.crash) \n",
    "            self.crash = 0\n",
    "            \n",
    "        if self.scans[:3].min() < self.range_min or self.scans[-3:].min() < self.range_min:\n",
    "            reward =  -100 \n",
    "            self.crash +=1\n",
    "            self.reset()\n",
    "            \n",
    "        return reward, done\n",
    "    \n",
    "    # change as you see fit\n",
    "    def odom(self, odoms):\n",
    "        self.x = round(odoms.pose.pose.position.x, 1)   \n",
    "        self.y = round(odoms.pose.pose.position.y, 1)   \n",
    "\n",
    "        self.rate.sleep() \n",
    "    \n",
    "    # change this to generate a suitable state representation\n",
    "    def s_(self):\n",
    "         # the return is provided for testing only\n",
    "         # you must return the state of the robot instead\n",
    "        return random.randint(0, self.nS)\n",
    "    \n",
    "    def reset(self):\n",
    "#        reset_world service\n",
    "        try:    ros.ServiceProxy('/gazebo/reset_world', Empty).call()\n",
    "        except: print('could not reset world')\n",
    "        self.rate.sleep()\n",
    "        self.done = False\n",
    "        return self.s_()\n",
    "\n",
    "    def step(self, a):\n",
    "        \n",
    "        # commented out for testing\n",
    "        if a==0: self.left(self.θspeed)\n",
    "        if a==1: self.forward()\n",
    "        if a==2: self.right(self.θspeed)\n",
    "            \n",
    "        self.s = self.s_() # get the stat\n",
    "        self.r, self.done = self.reward()\n",
    "        return self.s, self.r, self.done, {}\n",
    "    \n",
    "    def nodeslist(self):\n",
    "        nodes = os.popen('rosnode list').readlines()\n",
    "        for i in range(len(nodes)):\n",
    "            nodes[i] = nodes[i].replace('\\n', '')\n",
    "            print(nodes[i])\n",
    "    \n",
    "    # for compatibility, no need to change\n",
    "    def render(self, **kw):\n",
    "        pass\n",
    "    \n",
    "    def left(self, θspeed):\n",
    "        self.robot.linear.x  =  0\n",
    "        self.robot.angular.z = θspeed\n",
    "        self.pub_robot.publish(self.robot)\n",
    "        self.rate.sleep()\n",
    "    def forward(self):\n",
    "        self.robot.linear.x  = self.speed\n",
    "        self.robot.angular.z =  0\n",
    "        self.pub_robot.publish(self.robot)\n",
    "        self.rate.sleep()\n",
    "    def right(self, θspeed):\n",
    "        self.robot.linear.x  =  0\n",
    "        self.robot.angular.z =-θspeed\n",
    "        self.pub_robot.publish(self.robot)\n",
    "        self.rate.sleep()\n",
    "    def stop(self):\n",
    "        self.robot.linear.x = 0\n",
    "        self.robot.angular.z = 0\n",
    "        self.pub_robot.publish(self.robot)\n",
    "        self.rate.sleep()"
   ]
  },
  {
   "cell_type": "code",
   "execution_count": 78,
   "id": "a1674d01",
   "metadata": {},
   "outputs": [
    {
     "name": "stdout",
     "output_type": "stream",
     "text": [
      "[INFO] [1682692385.520579, 847.493000]: Robot Environment node has been created\n",
      "Grid  size =  10 x 10 = 100\n",
      "State size =  10 x 10 x 10 = 1000\n"
     ]
    }
   ],
   "source": [
    "robogrid2x2 = RoboGridEnv(xdim=4, ydim=4,\n",
    "                          xgoal=1.5, ygoal=0, tol =0.8,\n",
    "                          speed=0.3, θspeed=1.2, hz=hz,\n",
    "                          resol=0.4, θresol=(2*pi/θres),\n",
    "                          range_min=0.38)"
   ]
  },
  {
   "cell_type": "code",
   "execution_count": 37,
   "id": "15fada64",
   "metadata": {},
   "outputs": [],
   "source": [
    "def revolve(env):\n",
    "    env.visual = True\n",
    "    env.reset()\n",
    "    env.step(-1)\n",
    "    for i in range(20):\n",
    "        env.step(0)\n",
    "        env.stop()\n",
    "\n",
    "    env.visual = False\n",
    "revolve(robogrid2x2)"
   ]
  },
  {
   "cell_type": "code",
   "execution_count": 57,
   "id": "c6cfb169",
   "metadata": {},
   "outputs": [
    {
     "name": "stdout",
     "output_type": "stream",
     "text": [
      "[0, 0, 1, 1, 1, 1]\n"
     ]
    }
   ],
   "source": [
    "def straight(env):\n",
    "    env.visual = True\n",
    "#     env.reset()\n",
    "    done = False\n",
    "    \n",
    "    while not done:\n",
    "        done = env.step(1)[2]\n",
    "    \n",
    "    env.stop()\n",
    "    env.visual= False\n",
    "    \n",
    "revolve(robogrid2x2)\n",
    "# straight(robogrid2x2)\n",
    "\n",
    "print(robogrid2x2.crashes)"
   ]
  },
  {
   "cell_type": "markdown",
   "id": "95df35a0",
   "metadata": {},
   "source": [
    "## Training Headless\n",
    "To train more efficiently, turn off the gui in gazebo. To do so, go to the .launch file that you have launched gazebo with and set the values of gui and headless as follows:\n",
    "\n",
    "    <arg name=\"gui\" value=\"false\"/>\n",
    "    <arg name=\"headless\" value=\"true\"/>"
   ]
  },
  {
   "cell_type": "markdown",
   "id": "08cc5402",
   "metadata": {},
   "source": [
    "Now it is time to apply Sarsa on robotics! Note that this will not generate a useful policy yet. You must adjust the above code and tune your RL method hyperparameters."
   ]
  },
  {
   "cell_type": "code",
   "execution_count": 79,
   "id": "a464e34c",
   "metadata": {},
   "outputs": [],
   "source": [
    "import nbimporter\n",
    "from Lesson5_TemporalDifferenceMethods import *"
   ]
  },
  {
   "cell_type": "code",
   "execution_count": 80,
   "id": "c33a114a",
   "metadata": {
    "scrolled": false
   },
   "outputs": [
    {
     "data": {
      "image/png": "[encoded data removed]",
      "text/plain": [
       "<Figure size 1296x288 with 2 Axes>"
      ]
     },
     "metadata": {
      "needs_background": "light"
     },
     "output_type": "display_data"
    }
   ],
   "source": [
    "sarsa = Sarsa(env=robogrid2x2, α=0.3, episodes=40, seed=8, **demoGame()).interact()\n",
    "robogrid2x2.stop()"
   ]
  },
  {
   "cell_type": "code",
   "execution_count": 81,
   "id": "470278aa",
   "metadata": {},
   "outputs": [
    {
     "data": {
      "text/plain": [
       "[0, 1]"
      ]
     },
     "execution_count": 81,
     "metadata": {},
     "output_type": "execute_result"
    }
   ],
   "source": [
    "robogrid2x2.crashes"
   ]
  },
  {
   "cell_type": "code",
   "execution_count": null,
   "id": "f789529e",
   "metadata": {},
   "outputs": [
    {
     "data": {
      "image/png": "[encoded data removed]",
      "text/plain": [
       "<Figure size 1296x288 with 2 Axes>"
      ]
     },
     "metadata": {
      "needs_background": "light"
     },
     "output_type": "display_data"
    },
    {
     "name": "stdout",
     "output_type": "stream",
     "text": [
      "training was interrupted.......!\n"
     ]
    }
   ],
   "source": [
    "sarsa.interact(resume=True)\n",
    "robogrid2x2.stop()"
   ]
  },
  {
   "cell_type": "code",
   "execution_count": 1,
   "id": "decd9337",
   "metadata": {},
   "outputs": [
    {
     "ename": "NameError",
     "evalue": "name 'sarsa' is not defined",
     "output_type": "error",
     "traceback": [
      "\u001b[0;31m------------------------------------\u001b[0m",
      "\u001b[0;31mNameError\u001b[0mTraceback (most recent call last)",
      "\u001b[0;32m<ipython-input-1-ce85c1c8d69b>\u001b[0m in \u001b[0;36m<module>\u001b[0;34m\u001b[0m\n\u001b[0;32m----> 1\u001b[0;31m \u001b[0msarsa\u001b[0m\u001b[0;34m.\u001b[0m\u001b[0mepisodes\u001b[0m \u001b[0;34m=\u001b[0m \u001b[0;36m100\u001b[0m\u001b[0;34m\u001b[0m\u001b[0;34m\u001b[0m\u001b[0m\n\u001b[0m\u001b[1;32m      2\u001b[0m \u001b[0mget_ipython\u001b[0m\u001b[0;34m(\u001b[0m\u001b[0;34m)\u001b[0m\u001b[0;34m.\u001b[0m\u001b[0mrun_line_magic\u001b[0m\u001b[0;34m(\u001b[0m\u001b[0;34m'time'\u001b[0m\u001b[0;34m,\u001b[0m \u001b[0;34m'sarsa.interact(resume=True)'\u001b[0m\u001b[0;34m)\u001b[0m\u001b[0;34m\u001b[0m\u001b[0;34m\u001b[0m\u001b[0m\n\u001b[1;32m      3\u001b[0m \u001b[0;31m# robogrid2x2.stop()\u001b[0m\u001b[0;34m\u001b[0m\u001b[0;34m\u001b[0m\u001b[0;34m\u001b[0m\u001b[0m\n",
      "\u001b[0;31mNameError\u001b[0m: name 'sarsa' is not defined"
     ]
    }
   ],
   "source": [
    "sarsa.episodes = 100\n",
    "%time sarsa.interact(resume=True)\n",
    "# robogrid2x2.stop()"
   ]
  },
  {
   "cell_type": "code",
   "execution_count": null,
   "id": "2783e834",
   "metadata": {},
   "outputs": [],
   "source": []
  },
  {
   "cell_type": "markdown",
   "id": "df028fe3",
   "metadata": {},
   "source": [
    "Continue by adding more cells to address the requirements"
   ]
  },
  {
   "cell_type": "code",
   "execution_count": null,
   "id": "e353011e",
   "metadata": {},
   "outputs": [],
   "source": []
  }
 ],
 "metadata": {
  "kernelspec": {
   "display_name": "Python 3",
   "language": "python",
   "name": "python3"
  },
  "language_info": {
   "codemirror_mode": {
    "name": "ipython",
    "version": 3
   },
   "file_extension": ".py",
   "mimetype": "text/x-python",
   "name": "python",
   "nbconvert_exporter": "python",
   "pygments_lexer": "ipython3",
   "version": "3.6.9"
  }
 },
 "nbformat": 4,
 "nbformat_minor": 5
}
