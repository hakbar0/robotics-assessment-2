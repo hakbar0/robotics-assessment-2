{
 "cells": [
  {
   "cell_type": "markdown",
   "id": "44dbc30b",
   "metadata": {},
   "source": [
    "Author: Abdulrahman Altahhan, Jan 2023.\n",
    "\n",
    "The notebook use a library of functionality in RL that aims for simplicity and general insight into how algorithms work, these libraries are written from scratch using standard python libraries (numpy, matplotlib etc.).\n",
    "Please note that you will need to take a permission from the author to use the code for research, commercially or otherwise."
   ]
  },
  {
   "cell_type": "markdown",
   "id": "d656b465",
   "metadata": {},
   "source": [
    "# Lesson 12: RL on Robotics"
   ]
  },
  {
   "cell_type": "markdown",
   "id": "d83198b8",
   "metadata": {},
   "source": [
    "**Learning outcomes**\n",
    "1. understand how to create a simple Robot environment that links to Gazebo\n",
    "1. understand how to deal with the simulated environment in a grid world fashion\n",
    "1. appreciate the intricacy of applying RL to the robotics domain\n",
    "1. build on previous concepts to come up with a suitable solution to a problem at hand\n",
    "1. understand how a replay buffer helps us to come closer to supervised learning and appreciate the important role it plays in reaching convergence\n",
    "1. understand how to combine deep reinforcement learning with deep learning to create a powerful framework that allows automatic agent learning by observation or self-play.\n",
    "1. understand how a replay buffer helps us to come closer to supervised learning and appreciate the important role it plays in reaching convergence for difficult problems that involve image processing and reinforcement learning\n"
   ]
  },
  {
   "cell_type": "markdown",
   "id": "8faa3d15",
   "metadata": {},
   "source": [
    "**Reading**:\n",
    "We cover applications of RL on robotics based on previouse units which you can refere to."
   ]
  },
  {
   "cell_type": "markdown",
   "id": "86f5f0e1",
   "metadata": {},
   "source": [
    "In this notebook, we deal with how to set up a robot environment class that can handle the publish-subscribe on topics and deal with services in ROS. We must have ROS and Gazebo installed and set up on our machine. The code is a starting point and is not fully developed. You will need to write the necessary functionality to address a specific requirement. The main idea of tackling robotics applications in a Jupyter notebook is to utilise the provided infrastructure and libraries of code we covered in earlier units."
   ]
  },
  {
   "cell_type": "markdown",
   "id": "bf16027d",
   "metadata": {},
   "source": [
    "## Running Gazebo\n",
    "You will need to launch a gazebo environment with Turtlebot3 in it. So long as the /scan(LaserScan), /odom (Odometry) and /cmd_vel(Twist) topics are available, the environment should work fine. Our target is to build an environment that will allow us to use the algorithms we developed in earlier units directly.\n",
    "\n",
    "To launch an environment, you should open a terminal and run the following command"
   ]
  },
  {
   "cell_type": "markdown",
   "id": "1bd7ffb8",
   "metadata": {},
   "source": [
    "roslaunch turtlebot3_gazebo turtlebot3_house.launch"
   ]
  },
  {
   "cell_type": "markdown",
   "id": "ebe5a1b7",
   "metadata": {},
   "source": [
    "Note that you cannot do that here because that will block the notebook from executing other code. \n",
    "You must select restart your notebook kernel, ex. Kernel-> Restart and Run ALL, whenever you want to re-establish a connection with the environment.\n"
   ]
  },
  {
   "cell_type": "code",
   "execution_count": 1,
   "id": "0ccf3216",
   "metadata": {},
   "outputs": [],
   "source": [
    "%matplotlib inline"
   ]
  },
  {
   "cell_type": "code",
   "execution_count": 1,
   "id": "a27480d7",
   "metadata": {},
   "outputs": [
    {
     "ename": "ModuleNotFoundError",
     "evalue": "No module named 'rospy'",
     "output_type": "error",
     "traceback": [
      "\u001b[1;31m---------------------------------------------------------------------------\u001b[0m",
      "\u001b[1;31mModuleNotFoundError\u001b[0m                       Traceback (most recent call last)",
      "\u001b[1;32m~\\AppData\\Local\\Temp/ipykernel_13316/2949864434.py\u001b[0m in \u001b[0;36m<module>\u001b[1;34m\u001b[0m\n\u001b[1;32m----> 1\u001b[1;33m \u001b[1;32mimport\u001b[0m \u001b[0mrospy\u001b[0m \u001b[1;32mas\u001b[0m \u001b[0mros\u001b[0m\u001b[1;33m\u001b[0m\u001b[1;33m\u001b[0m\u001b[0m\n\u001b[0m\u001b[0;32m      2\u001b[0m \u001b[1;32mfrom\u001b[0m \u001b[0msensor_msgs\u001b[0m\u001b[1;33m.\u001b[0m\u001b[0mmsg\u001b[0m \u001b[1;32mimport\u001b[0m \u001b[0mLaserScan\u001b[0m\u001b[1;33m\u001b[0m\u001b[1;33m\u001b[0m\u001b[0m\n\u001b[0;32m      3\u001b[0m \u001b[1;32mimport\u001b[0m \u001b[0mnumpy\u001b[0m \u001b[1;32mas\u001b[0m \u001b[0mnp\u001b[0m\u001b[1;33m\u001b[0m\u001b[1;33m\u001b[0m\u001b[0m\n\u001b[0;32m      4\u001b[0m \u001b[1;32mfrom\u001b[0m \u001b[0mnumpy\u001b[0m \u001b[1;32mimport\u001b[0m \u001b[0mInf\u001b[0m\u001b[1;33m\u001b[0m\u001b[1;33m\u001b[0m\u001b[0m\n\u001b[0;32m      5\u001b[0m \u001b[1;32mfrom\u001b[0m \u001b[0mgeometry_msgs\u001b[0m\u001b[1;33m.\u001b[0m\u001b[0mmsg\u001b[0m \u001b[1;32mimport\u001b[0m \u001b[0mTwist\u001b[0m\u001b[1;33m\u001b[0m\u001b[1;33m\u001b[0m\u001b[0m\n",
      "\u001b[1;31mModuleNotFoundError\u001b[0m: No module named 'rospy'"
     ]
    }
   ],
   "source": [
    "import rospy as ros\n",
    "from sensor_msgs.msg import LaserScan\n",
    "import numpy as np\n",
    "from numpy import Inf\n",
    "from geometry_msgs.msg import Twist\n",
    "from nav_msgs.msg  import Odometry\n",
    "from std_srvs.srv import Empty\n",
    "import random"
   ]
  },
  {
   "cell_type": "code",
   "execution_count": 3,
   "id": "6682c935",
   "metadata": {},
   "outputs": [],
   "source": [
    "class RoboGridEnv:\n",
    "    \n",
    "    # the goals default values are set just in front of the robot for testing, \n",
    "    # change according to the brief and as you see fit\n",
    "    def __init__(self,  xgoal=-.1, ygoal=1):\n",
    "        \n",
    "        ros.init_node('RoboEnv')\n",
    "        ros.loginfo('Robot Environment node has been created')\n",
    "        \n",
    "        self.sub_scan = ros.Subscriber('/scan', LaserScan, self.scan, queue_size=None)\n",
    "        self.sub_odom = ros.Subscriber('/odom', Odometry, self.odom, queue_size=1)\n",
    "        self.pub_robot = ros.Publisher('/cmd_vel', Twist, queue_size=1)\n",
    "        \n",
    "        self.Vstar = None # for compatibility\n",
    "        \n",
    "        # coordinates of the goal must be changed to match the given environment\n",
    "        self.xgoal = xgoal\n",
    "        self.ygoal = ygoal \n",
    "        \n",
    "        # $ rostopic hz /scan, rostopic hz /odom\n",
    "        self.hz = 5  # frequency of scan\n",
    "        self.rate = ros.Rate(self.hz)\n",
    "        \n",
    "        self.speed = .3    # linear speed, change as you see fit\n",
    "        self.aspeed = .3   # angular speed, change as you see fit\n",
    "        self.tol = .55     # tolerance to goal recognition, within 2 feet\n",
    "        \n",
    "        self.cols  = 20    # number of grid columns, realted to linear speed\n",
    "        self.rows  = 20    # number of grid rows,    realted to linear speed\n",
    "        self.orts  = 16    # number of angles,       related to angular speed\n",
    "        \n",
    "        self.nC = self.rows*self.cols           # Grid size\n",
    "        self.nS = self.rows*self.cols*self.orts # State space size\n",
    "        self.nA = 3\n",
    "        \n",
    "        self.range_max = 3.5\n",
    "        self.range_min = .25  # change as you see fit\n",
    "        \n",
    "        print('Grid  size = ', self.rows,'x', self.cols,'=', self.nC)\n",
    "        print('State size = ', self.rows,'x', self.cols, 'x', self.orts,'=',self.nS)\n",
    "        \n",
    "        self.robot = Twist()\n",
    "\n",
    "    # change as you see fit\n",
    "    def scan(self, scans):\n",
    "        scans = np.array(scans.ranges)\n",
    "        scans[scans==Inf] = self.range_max\n",
    "        # print('scans = ', scans[:10].round(2))\n",
    "        self.scans = scans\n",
    "        self.rate.sleep()\n",
    "    \n",
    "    # change the reward to produce a suitable policy\n",
    "    def reward(self):\n",
    "        reward = -1\n",
    "        done = False\n",
    "        \n",
    "        # cheacking for goal\n",
    "        tol = self.tol \n",
    "        if self.xgoal + tol > self.x > self.xgoal - tol and self.ygoal + tol > self.y > self.ygoal - tol: \n",
    "            reward =  100 \n",
    "            done = True\n",
    "        \n",
    "        # add code to make your robot stops when it hit a wall\n",
    "        \n",
    "        return reward, done\n",
    "    \n",
    "    # change as you see fit\n",
    "    def odom(self, odoms):\n",
    "        self.x = round(odoms.pose.pose.position.x, 1)   \n",
    "        self.y = round(odoms.pose.pose.position.y, 1)   \n",
    "\n",
    "        self.rate.sleep() \n",
    "    \n",
    "    # change this to generate a suitable state representation\n",
    "    def s_(self):\n",
    "         # the return is provided for testing only\n",
    "         # you must return the state of the robot instead\n",
    "        return random.randint(0, self.nS)\n",
    "    \n",
    "    def reset(self):\n",
    "        # reset_world service\n",
    "        try:    ros.ServiceProxy('/gazebo/reset_world', Empty).call()\n",
    "        except: print('could not reset world')\n",
    "        self.rate.sleep()\n",
    "        self.done = False\n",
    "        return self.s_()\n",
    "\n",
    "    def step(self, a):\n",
    "        \n",
    "        # commented out for testing\n",
    "        #if a==0: self.left()\n",
    "        #if a==1: self.forward()\n",
    "        #if a==2: self.right()\n",
    "            \n",
    "        self.forward() # comment this out, as it will force the robot always to move forward\n",
    "        \n",
    "        self.s = self.s_() # get the stat\n",
    "        self.r, self.done = self.reward()\n",
    "        return self.s, self.r, self.done, {}\n",
    "    \n",
    "    # for compatibility, no need to change\n",
    "    def render(self, **kw):\n",
    "        pass\n",
    "    \n",
    "    def left(self):\n",
    "        self.robot.linear.x  =  0\n",
    "        self.robot.angular.z = self.aspeed\n",
    "        self.pub_robot.publish(self.robot)\n",
    "        self.rate.sleep()\n",
    "    def forward(self):\n",
    "        self.robot.linear.x  = self.speed\n",
    "        self.robot.angular.z =  0\n",
    "        self.pub_robot.publish(self.robot)\n",
    "        self.rate.sleep()\n",
    "    def right(self):\n",
    "        self.robot.linear.x  =  0\n",
    "        self.robot.angular.z =-self.aspeed\n",
    "        self.pub_robot.publish(self.robot)\n",
    "        self.rate.sleep()\n",
    "    def stop(self):\n",
    "        self.robot.linear.x = 0\n",
    "        self.robot.angular.z = 0\n",
    "        self.pub_robot.publish(self.robot)\n",
    "        self.rate.sleep()"
   ]
  },
  {
   "cell_type": "markdown",
   "id": "efbaf881",
   "metadata": {},
   "source": [
    "## Training Headless\n",
    "To train more efficiently, turn off the gui in gazebo. To do so, go to the .launch file that you have launched gazebo with and set the values of gui and headless as follows:\n",
    "\n",
    "    <arg name=\"gui\" value=\"false\"/>\n",
    "    <arg name=\"headless\" value=\"true\"/>"
   ]
  },
  {
   "cell_type": "markdown",
   "id": "da5ed577",
   "metadata": {},
   "source": [
    "Now it is time to apply Sarsa on robotics! Note that this will not generate a useful policy yet. You must adjust the above code and tune your RL method hyperparameters."
   ]
  },
  {
   "cell_type": "code",
   "execution_count": 4,
   "id": "3546e88e",
   "metadata": {},
   "outputs": [],
   "source": [
    "import nbimporter\n",
    "from Lesson5_TemporalDifferenceMethods import *"
   ]
  },
  {
   "cell_type": "code",
   "execution_count": 5,
   "id": "fc6ab8fa",
   "metadata": {
    "scrolled": false
   },
   "outputs": [
    {
     "data": {
      "image/png": "[encoded data removed]",
      "text/plain": [
       "<Figure size 1296x288 with 2 Axes>"
      ]
     },
     "metadata": {
      "needs_background": "light"
     },
     "output_type": "display_data"
    }
   ],
   "source": [
    "env=RoboGridEnv()\n",
    "sarsa = Sarsa(env=env, α=.1, episodes=10, seed=10, **demoGame()).interact()\n",
    "env.stop()"
   ]
  },
  {
   "cell_type": "markdown",
   "id": "1dde62cc",
   "metadata": {},
   "source": [
    "Continue by adding more cells to address the requirements"
   ]
  },
  {
   "cell_type": "code",
   "execution_count": null,
   "id": "38b2198c",
   "metadata": {},
   "outputs": [],
   "source": []
  }
 ],
 "metadata": {
  "kernelspec": {
   "display_name": "Python 3 (ipykernel)",
   "language": "python",
   "name": "python3"
  },
  "language_info": {
   "codemirror_mode": {
    "name": "ipython",
    "version": 3
   },
   "file_extension": ".py",
   "mimetype": "text/x-python",
   "name": "python",
   "nbconvert_exporter": "python",
   "pygments_lexer": "ipython3",
   "version": "3.9.7"
  }
 },
 "nbformat": 4,
 "nbformat_minor": 5
}
