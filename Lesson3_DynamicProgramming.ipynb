{
 "cells": [
  {
   "cell_type": "markdown",
   "id": "81b92453",
   "metadata": {},
   "source": [
    "Author: Abdulrahman Altahhan, Jan 2023.\n",
    "\n",
    "The notebook use a library of functionality in RL that aims for simplicity and general insight into how algorithms work, these libraries are written from scratch using standard python libraries (numpy, matplotlib etc.).\n",
    "Please note that you will need to take a permission from the author to use the code for research, commercially or otherwise."
   ]
  },
  {
   "cell_type": "markdown",
   "id": "89ae6ef3",
   "metadata": {},
   "source": [
    "# Lesson 3- Dynamic Programming: Model-Based Approach\n",
    "\n",
    "**Learning outcomes**\n",
    "1. understand what we mean by the dynamics of the environment\n",
    "2. understand how the environment's dynamics are used in the Bellman equation\n",
    "3. use the dynamics to estimate the value function and the action-value function via dynamic programming \n",
    "4. understand the policy improvement theorem\n",
    "5. understand the policy-iteration and value-iteration algorithms as the backbone of many RL algorithms"
   ]
  },
  {
   "cell_type": "markdown",
   "id": "1d5f1ca1",
   "metadata": {},
   "source": [
    "In the first lesson, you looked at a basic RL problem, the k-arm bandit, which involves only actions and no states (non-associative problem). In general, in RL, we are faced with different situations, and we need to take different actions in each situation in order to achieve a certain goal. This general type of environment with states and actions imposes a different flavour to the solution we can design. From now on, we will tackle associative problems. For associative problems, there are two approaches:\n",
    "\n",
    "1. Model-based approach\n",
    "2. Model-free approach\n",
    "\n",
    "In this lesson, we will take the first approach. We will learn how to use a model of the environment to solve an RL problem. The model is given in the form of the dynamics of the environment. These usually come in the form of 4 dimensions of conditional probability involving an answer to the following question: what is the probability of obtaining a certain reward r in a certain state s' given that the agent was previously in a state s and applied action a.\n",
    "\n",
    "We will assume that there is already a model for the environment and try to take advantage of this model to come up with the best policy. Nevertheless, we will see simple ways to build such models and come back to this question later when we tackle planning algorithms in RL."
   ]
  },
  {
   "cell_type": "markdown",
   "id": "9ff0ad52",
   "metadata": {},
   "source": [
    "**Reading**:\n",
    "The accompanying reading of this lesson are **chapters 3 and 4** from our text book by Sutton and Barto available online [here](http://incompleteideas.net/book/RLbook2020.pdf)."
   ]
  },
  {
   "cell_type": "markdown",
   "id": "3ba261a3",
   "metadata": {},
   "source": [
    "**Plan**\n",
    "As usual, in general there are two types of RL problems that we will attempt to design methods to deal with \n",
    "1. Prediction problem\n",
    "For These problems we will design Policy Evaluation Methods that attempt to find the best estimate for the value-function given a policy.\n",
    "\n",
    "\n",
    "2. Control problems \n",
    "For These problems we will design Value Iteration methods which utilise the idea of Generalised Policy Iteration. They attempt to find the best policy, via estimating an action-value function for a current policy then moving to a better and improved policy by choosing a greedy action often.\n"
   ]
  },
  {
   "cell_type": "code",
   "execution_count": 1,
   "id": "964aa507",
   "metadata": {},
   "outputs": [],
   "source": [
    "%matplotlib inline"
   ]
  },
  {
   "cell_type": "code",
   "execution_count": 2,
   "id": "4433e98f",
   "metadata": {},
   "outputs": [],
   "source": [
    "import nbimporter\n",
    "from Lesson2_GridWorldMDPs import * #Grid, randwalk, grid, cliffwalk, windy, cliffwalk, maze, maze8"
   ]
  },
  {
   "cell_type": "markdown",
   "id": "a9dc74e3",
   "metadata": {},
   "source": [
    "We start by generating conditional probabilities from random joint probabilities, then we move into generating them from a model."
   ]
  },
  {
   "cell_type": "markdown",
   "id": "1df0b1e5",
   "metadata": {},
   "source": [
    "## 1D Probability\n",
    "Let us start by defining a 1D probability function "
   ]
  },
  {
   "cell_type": "code",
   "execution_count": 3,
   "id": "0ca14d61",
   "metadata": {},
   "outputs": [
    {
     "name": "stdout",
     "output_type": "stream",
     "text": [
      "[0.35513626 0.29148414 0.008207   0.03123475 0.31393786] 1.0\n"
     ]
    }
   ],
   "source": [
    "def P(nS):\n",
    "    p = np.zeros(nS)\n",
    "    for s in range(nS):\n",
    "        p[s] = rand()\n",
    "        \n",
    "    return p/p.sum()\n",
    "p = P(5)\n",
    "print(p, p.sum())\n"
   ]
  },
  {
   "cell_type": "markdown",
   "id": "edcf017d",
   "metadata": {},
   "source": [
    "## 2D Probability: Joint Probability\n",
    "Let us move to defining a joint probability function "
   ]
  },
  {
   "cell_type": "code",
   "execution_count": 5,
   "id": "a0a2f6e3",
   "metadata": {},
   "outputs": [
    {
     "name": "stdout",
     "output_type": "stream",
     "text": [
      "[[0.13859115 0.13435588]\n",
      " [0.05054938 0.14326937]\n",
      " [0.13463159 0.07785564]\n",
      " [0.09074469 0.01708724]\n",
      " [0.10158592 0.11132915]] 1.0\n"
     ]
    }
   ],
   "source": [
    "def P(nS,nA):\n",
    "    p = np.zeros((nS,nA))\n",
    "    for s in range(nS):\n",
    "        for a in range(nA):\n",
    "            p[s,a] = rand()\n",
    "            \n",
    "        \n",
    "    # /p.sum() to make sure that this is a joint probability density, i.e. p.sum()==1\n",
    "    return p/p.sum() \n",
    "p = P(5,2)\n",
    "print(p, p.sum())"
   ]
  },
  {
   "cell_type": "markdown",
   "id": "571717df",
   "metadata": {},
   "source": [
    "Note that p[s,a] in the above is interpreted as the probability of being in state *s* and taking action *a* at the same time"
   ]
  },
  {
   "cell_type": "markdown",
   "id": "a2f7f19e",
   "metadata": {},
   "source": [
    "## 2D Probability: Conditional Probability\n",
    "Let us move to defining a conditional probability function. Remember that a conditional probability must satisfy that Bayes rule.\n",
    "\n",
    "In the below pr[sn,a] is interpreted as pr[sn|a] the probability of moving to state sn given that we took action a "
   ]
  },
  {
   "cell_type": "code",
   "execution_count": 6,
   "id": "226157a8",
   "metadata": {},
   "outputs": [
    {
     "name": "stdout",
     "output_type": "stream",
     "text": [
      "[[0.31867449 0.23421998]\n",
      " [0.23175184 0.20671174]\n",
      " [0.13190003 0.30968032]\n",
      " [0.10519547 0.24294188]\n",
      " [0.21247818 0.00644607]]\n",
      "[1. 1.]\n"
     ]
    }
   ],
   "source": [
    "def P(nS,nA):\n",
    "    pr = np.zeros((nS,nA)) # joint\n",
    "    p  = np.zeros((nS,nA)) # conditional\n",
    "    \n",
    "    # first create a joint probability\n",
    "    for sn in range(nS):\n",
    "        for a in range(nA):\n",
    "            pr[sn,a] = rand()\n",
    "\n",
    "    # to make sure that this is a joint probability density\n",
    "    pr=pr/pr.sum() \n",
    "    \n",
    "    # now create a conditional probability via Bayes rule\n",
    "    for a in range(nA):\n",
    "        p[:,a] = pr[:,a]/pr[:,a].sum()\n",
    "            \n",
    "            \n",
    "    return p\n",
    "\n",
    "p = P(5,2)\n",
    "print(p)\n",
    "print(p.sum(0))"
   ]
  },
  {
   "cell_type": "markdown",
   "id": "dd12f07d",
   "metadata": {},
   "source": [
    "## 4D Probability: Random Dynamic"
   ]
  },
  {
   "cell_type": "markdown",
   "id": "4fcc5adf",
   "metadata": {},
   "source": [
    "Our goal now is to be able to obtain a probability that can represent a random environment dynamics. Such a probability has the form of p[sn,rn | s,a] which represents the probability of moving to next state sn and obtaining the reward rn given that the agent was in state s and took action a.\n",
    "\n",
    "We generalise the above method of obtaining conditional probabilities from random joint probability density to 4-d. We have not dealt with 3-d cases for brevity. This time we will make it a bit more efficient by avoiding the four for loops and utilising the vectorised version of the rand() function in numpy and we convert to a conditional in-place to avoid having two probabilities p and pr."
   ]
  },
  {
   "cell_type": "code",
   "execution_count": 8,
   "id": "bb0143ef",
   "metadata": {},
   "outputs": [
    {
     "name": "stdout",
     "output_type": "stream",
     "text": [
      "[[[[0.32046774 0.26616449]\n",
      "   [0.0976896  0.00035689]\n",
      "   [0.26008775 0.19550748]]\n",
      "\n",
      "  [[0.03013506 0.03301488]\n",
      "   [0.30733709 0.21549492]\n",
      "   [0.00581461 0.17453613]]]\n",
      "\n",
      "\n",
      " [[[0.11984678 0.18982569]\n",
      "   [0.21331026 0.04930323]\n",
      "   [0.29765206 0.19934832]]\n",
      "\n",
      "  [[0.23475825 0.27352042]\n",
      "   [0.09998503 0.26218639]\n",
      "   [0.10319729 0.02678356]]]\n",
      "\n",
      "\n",
      " [[[0.13053225 0.12565188]\n",
      "   [0.15617915 0.203724  ]\n",
      "   [0.12914727 0.25886976]]\n",
      "\n",
      "  [[0.16425992 0.11182264]\n",
      "   [0.12549887 0.26893457]\n",
      "   [0.20410102 0.14495475]]]]\n",
      "[[1. 1.]\n",
      " [1. 1.]\n",
      " [1. 1.]]\n"
     ]
    }
   ],
   "source": [
    "def dynrand(nS, nA, nR): # states, actions, rewards dimensions \n",
    "    #first joint: p[sn,rn, s,a]\n",
    "    p  = np.random.rand(nS,nR,  nS,nA)\n",
    "    p /= p.sum()\n",
    "    \n",
    "    #convert it to conditional: p[sn,rn| s,a] \n",
    "    for s in range(nS):\n",
    "        for a in range(nA):\n",
    "            p[:,:, s,a] /= p[:,:, s,a].sum()\n",
    "        \n",
    "    return p\n",
    "\n",
    "p = dynrand(3,2,2)\n",
    "print(p)\n",
    "print(p.sum(0).sum(0))"
   ]
  },
  {
   "cell_type": "markdown",
   "id": "beed1b3f",
   "metadata": {},
   "source": [
    "## Inducing the dynamics by interacting with the environment"
   ]
  },
  {
   "cell_type": "markdown",
   "id": "0cd0fd6b",
   "metadata": {},
   "source": [
    "Now we move into obtaining the dynamics form an actual environment instead of generating the dynamics randomly as we did earlier.\n",
    "\n",
    "We will use mainly the random walk environment and the grid world environment and generate their dynamics. These are deterministic simple environments. Nevertheless, they are very useful to demonstrate the ideas of RL. \n",
    "\n",
    "Note that when we move to the real world the dynamics becomes much more complex and building or obtaining the dynamic becomes impractical form most cases. Therefore, towards that end instead of dealing directly with the environment dynamics we will see later how we can substitute this requirement by having to *interact* with the environment to gain *experience* which will help us *infer* a good *estimate* of the *expected* value function (discounted sum of rewards) which in turn will help us to *infer* a close to *optimal policy* for the task in hand. \n",
    "\n",
    "The exercise of dealing with probabilities and then using it in designing a Dynamic Programming solution is valuable since most of other solutions utilise the basic ideas (policy iteration, value iteration algorithms and policy improvements theorem) that we cover here and will mainly show us that we can devise a from of Bellman equation that is suitable for interaction instead of probabilities.\n",
    "\n",
    "Dynamic programming suffers from what Bellman described as the curse of dimensionality which basically dictates that the computational resources required to solve a problem grows exponentially with the dimensionality of the problem. So in our case the dimensionality is the number of states (as well as actions and rewards). So for example if the dynamic programming solution computational complexity is $2^{|S|}$ and the number of states $|S|=10$ then it costs $2^{10}=1024$ but when the number of states $|S|$ grows to 100 the cost become $2^{100}=1267650600228229401496703205376$"
   ]
  },
  {
   "cell_type": "code",
   "execution_count": 11,
   "id": "a5f18a93",
   "metadata": {},
   "outputs": [
    {
     "name": "stdout",
     "output_type": "stream",
     "text": [
      "1024\n",
      "1267650600228229401496703205376\n"
     ]
    }
   ],
   "source": [
    "print(2**10)\n",
    "print(2**100)\n"
   ]
  },
  {
   "cell_type": "code",
   "execution_count": 9,
   "id": "4e625ad3",
   "metadata": {
    "scrolled": false
   },
   "outputs": [],
   "source": [
    "def dynamics(env=randwalk(), show=True, stoch=True, repeat=1000 ): #, maxjump=1\n",
    "    rewards = env.rewards_set()\n",
    "    nS, nA, nR = env.nS, env.nA, rewards.shape[0]\n",
    "    p  = np.zeros((nS,nR,  nS,nA))\n",
    "    \n",
    "    for i in range(repeat if not stoch else 1): # in case the env is stochastic (non-deterministic)\n",
    "        for s in range(nS):\n",
    "            for a in range(nA):\n",
    "                if not i and show: env.render() # render the first repitition only\n",
    "                env.s = s\n",
    "                sn,rn,_,_ = env.step(a)\n",
    "                rd = np.where(rewards==rn)[0][0] # get which reward index we need to update\n",
    "                #if (s!=sn) ^ (s in env.goals): p[sn,rd, s,a] +=1 # xor this would give terminal states a pr 1!\n",
    "                if (s!=sn) and not (s in env.goals): p[sn,rd, s,a] +=1\n",
    "            \n",
    "    # making sure that it is a conditional probability that satisfies Bayes rule\n",
    "    for s in range(nS):\n",
    "        for a in range(nA):\n",
    "            sm=p[:,:, s,a].sum()\n",
    "            if sm: p[:,:, s,a] /= sm\n",
    "            \n",
    "    return p"
   ]
  },
  {
   "cell_type": "markdown",
   "id": "2fb586cc",
   "metadata": {},
   "source": [
    "Note that states and actions can be immediately interpreted as indexes, rewards on the other hand are allowed to be real values. Therefore, we need to obtain the index of the reward value that we need to update since p[sn, rn, s,a] expects an index in rn."
   ]
  },
  {
   "cell_type": "markdown",
   "id": "91915422",
   "metadata": {},
   "source": [
    "Let us now test our dynamics extraction procedure on a deterministic random walk environment:"
   ]
  },
  {
   "cell_type": "code",
   "execution_count": 11,
   "id": "effed4b6",
   "metadata": {},
   "outputs": [
    {
     "data": {
      "image/png": "[encoded data removed]",
      "text/plain": [
       "<Figure size 1080x36 with 1 Axes>"
      ]
     },
     "metadata": {},
     "output_type": "display_data"
    },
    {
     "name": "stdout",
     "output_type": "stream",
     "text": [
      "(7, 2, 7, 2)\n",
      "[[0. 0.]\n",
      " [1. 1.]\n",
      " [1. 1.]\n",
      " [1. 1.]\n",
      " [1. 1.]\n",
      " [1. 1.]\n",
      " [0. 0.]]\n"
     ]
    }
   ],
   "source": [
    "p = dynamics(env=randwalk())\n",
    "print(p.shape)\n",
    "print(p.sum(0).sum(0))\n",
    "# print(p)"
   ]
  },
  {
   "cell_type": "markdown",
   "id": "7422958c",
   "metadata": {},
   "source": [
    "The above shows that the probabilities of agent having been in state 0:6 (rows) and have gone left (column 0) all sum up to 1 except for the last terminal state 6 because once the agent is there it stays there and cannot move left. Also it shows equally that the probabilities of agent having been in state 0:6 and have gone right (column 1) all sum up to 1 except for the first terminal state 0 because once the agent is there it stays there and cannot move right. \n",
    "\n",
    "To further explain and dissect the generated probability dynamics we examine different states probabilities with different rewards."
   ]
  },
  {
   "cell_type": "code",
   "execution_count": 12,
   "id": "c21dcd55",
   "metadata": {},
   "outputs": [],
   "source": [
    "def print_dynamcis(s):\n",
    "    print('-----------------------------Agent was in non-terminal state %d---------------------------------'%s)\n",
    "    print('Pr[of moving to states 0:6 and obtaining reward 0 |give agent was in state %d and moved left(0)]'%s)\n",
    "    print(p[:,0, s,0])\n",
    "\n",
    "    print('Pr[of moving to states 0:6 and obtaining reward 0 |give agent was in state %d and moved right(1)]'%s)\n",
    "    print(p[:,0, s,1])\n",
    "\n",
    "    print('Pr[of moving to states 0:6 and obtaining reward 1 |give agent was in state %d and moved left(0)]'%s)\n",
    "    print(p[:,1, s,0])\n",
    "\n",
    "    print('Pr[of moving to states 0:6 and obtaining reward 1 |give agent was in state %d and moved right(1)]'%s)\n",
    "    print(p[:,1, s,1])"
   ]
  },
  {
   "cell_type": "code",
   "execution_count": 13,
   "id": "c54fdc8d",
   "metadata": {},
   "outputs": [
    {
     "name": "stdout",
     "output_type": "stream",
     "text": [
      "-----------------------------Agent was in non-terminal state 2---------------------------------\n",
      "Pr[of moving to states 0:6 and obtaining reward 0 |give agent was in state 2 and moved left(0)]\n",
      "[0. 1. 0. 0. 0. 0. 0.]\n",
      "Pr[of moving to states 0:6 and obtaining reward 0 |give agent was in state 2 and moved right(1)]\n",
      "[0. 0. 0. 1. 0. 0. 0.]\n",
      "Pr[of moving to states 0:6 and obtaining reward 1 |give agent was in state 2 and moved left(0)]\n",
      "[0. 0. 0. 0. 0. 0. 0.]\n",
      "Pr[of moving to states 0:6 and obtaining reward 1 |give agent was in state 2 and moved right(1)]\n",
      "[0. 0. 0. 0. 0. 0. 0.]\n"
     ]
    }
   ],
   "source": [
    "print_dynamcis(s=2)"
   ]
  },
  {
   "cell_type": "code",
   "execution_count": 14,
   "id": "401489ee",
   "metadata": {},
   "outputs": [
    {
     "name": "stdout",
     "output_type": "stream",
     "text": [
      "-----------------------------Agent was in non-terminal state 5---------------------------------\n",
      "Pr[of moving to states 0:6 and obtaining reward 0 |give agent was in state 5 and moved left(0)]\n",
      "[0. 0. 0. 0. 1. 0. 0.]\n",
      "Pr[of moving to states 0:6 and obtaining reward 0 |give agent was in state 5 and moved right(1)]\n",
      "[0. 0. 0. 0. 0. 0. 0.]\n",
      "Pr[of moving to states 0:6 and obtaining reward 1 |give agent was in state 5 and moved left(0)]\n",
      "[0. 0. 0. 0. 0. 0. 0.]\n",
      "Pr[of moving to states 0:6 and obtaining reward 1 |give agent was in state 5 and moved right(1)]\n",
      "[0. 0. 0. 0. 0. 0. 1.]\n"
     ]
    }
   ],
   "source": [
    "print_dynamcis(s=5)"
   ]
  },
  {
   "cell_type": "markdown",
   "id": "eb72e4d1",
   "metadata": {},
   "source": [
    "Note that the probability of the penultimate state is a bit different than a mid-state such as 2. The reason is that when the agent move left it will get a 0 reward while when it moves right it will get a reward of 1."
   ]
  },
  {
   "cell_type": "code",
   "execution_count": 27,
   "id": "c9872032",
   "metadata": {},
   "outputs": [
    {
     "name": "stdout",
     "output_type": "stream",
     "text": [
      "-----------------------------Agent was in non-terminal state 0---------------------------------\n",
      "Pr[of moving to states 0:6 and obtaining reward 0 |give agent was in state 0 and moved left(0)]\n",
      "[0. 0. 0. 0. 0. 0. 0.]\n",
      "Pr[of moving to states 0:6 and obtaining reward 0 |give agent was in state 0 and moved right(1)]\n",
      "[0. 0. 0. 0. 0. 0. 0.]\n",
      "Pr[of moving to states 0:6 and obtaining reward 1 |give agent was in state 0 and moved left(0)]\n",
      "[0. 0. 0. 0. 0. 0. 0.]\n",
      "Pr[of moving to states 0:6 and obtaining reward 1 |give agent was in state 0 and moved right(1)]\n",
      "[0. 0. 0. 0. 0. 0. 0.]\n"
     ]
    }
   ],
   "source": [
    "print_dynamcis(s=0)"
   ]
  },
  {
   "cell_type": "code",
   "execution_count": 14,
   "id": "cd68e839",
   "metadata": {},
   "outputs": [
    {
     "name": "stdout",
     "output_type": "stream",
     "text": [
      "-----------------------------Agent was in non-terminal state 6---------------------------------\n",
      "Pr[of moving to states 0:6 and obtaining reward 0 |give agent was in state 6 and moved left(0)]\n",
      "[0. 0. 0. 0. 0. 0. 0.]\n",
      "Pr[of moving to states 0:6 and obtaining reward 0 |give agent was in state 6 and moved right(1)]\n",
      "[0. 0. 0. 0. 0. 0. 0.]\n",
      "Pr[of moving to states 0:6 and obtaining reward 1 |give agent was in state 6 and moved left(0)]\n",
      "[0. 0. 0. 0. 0. 0. 0.]\n",
      "Pr[of moving to states 0:6 and obtaining reward 1 |give agent was in state 6 and moved right(1)]\n",
      "[0. 0. 0. 0. 0. 0. 0.]\n"
     ]
    }
   ],
   "source": [
    "print_dynamcis(s=6)"
   ]
  },
  {
   "cell_type": "markdown",
   "id": "48e0f514",
   "metadata": {},
   "source": [
    "Uncomment the xor relationship and see the effect on the resultant policy."
   ]
  },
  {
   "cell_type": "markdown",
   "id": "44f6069c",
   "metadata": {},
   "source": [
    "## Accommodating for jumps in the environment\n",
    "Some environments might allow the agent to jump over some obstacles or simply skip cells. For these we define a slightly altered dynamics to take the jumps into account. Below we show the definition."
   ]
  },
  {
   "cell_type": "code",
   "execution_count": 15,
   "id": "41091ef0",
   "metadata": {},
   "outputs": [],
   "source": [
    "def dynamics(env=randwalk(), show=True, stoch=False, repeat=1000): # , maxjump=1\n",
    "\n",
    "    rewards = env.rewards_set()\n",
    "    nS, nA, nR = env.nS, env.nA, rewards.shape[0]\n",
    "    p  = np.zeros((nS,nR,  nS,nA))\n",
    "    randjump = env.randjump\n",
    "    env.randjump = False # this is needed so that the probability calculations of all intermediate jumps is correctly calculated\n",
    "    for i in trange(repeat if stoch else 1): # in case the env is stochastic (non-deterministic)\n",
    "        for s in range(nS):\n",
    "            for a in range(nA):\n",
    "                for jump in (range(1,env.jump+1) if randjump else [env.jump]):\n",
    "                    if not i and show: env.render() # render the first repitition only\n",
    "                    env.s = s\n",
    "                    env.jump = jump\n",
    "                    rn = env.step(a)[1]\n",
    "                    sn = env.s\n",
    "                    rd = np.where(rewards==rn)[0][0] # get which reward index we need to update\n",
    "                    #if (s!=sn) ^ (s in env.goals): p[sn,rd, s,a] +=1 # xor this would give terminal states a pr 1!\n",
    "                    if (s!=sn) and not (s in env.goals): p[sn,rd, s,a] +=1\n",
    "    env.randjump = randjump\n",
    "    # making sure that it is a conditional probability that satisfies Bayes rule\n",
    "    for s in range(nS):\n",
    "        for a in range(nA):\n",
    "            sm=p[:,:, s,a].sum()\n",
    "            if sm: p[:,:, s,a] /= sm\n",
    "            \n",
    "    return p"
   ]
  },
  {
   "cell_type": "markdown",
   "id": "30a6a1e4",
   "metadata": {},
   "source": [
    "### State-Transition probability: reward marginalisation"
   ]
  },
  {
   "cell_type": "markdown",
   "id": "3ca847ac",
   "metadata": {},
   "source": [
    "Now that we have induced the dynamics from the *environment*, we are ready to infer the state-transition probability from the *dynamics*.  Note that many older papers of RL refer to the 3-d state-transition probability without referring to the 4-d dynamics. The state-transition probability p[sn | s,a] is a conditional probability that specifies the probability of moving to the next state sn given that the agent was in state s and applied action a regardless of the rewards. In other words, the state-transition probability does not refer to the reward altogether. Therefore, all we have to do to infer it from the dynamics is to marginalise the dynamics with respect to the reward, which is what the below code snippet is doing."
   ]
  },
  {
   "cell_type": "code",
   "execution_count": 16,
   "id": "599bc7c2",
   "metadata": {},
   "outputs": [],
   "source": [
    "# state-transition probability induced from the dynamics\n",
    "def ssa(p): \n",
    "    # states dim, action dim\n",
    "    nS, nA = p.shape[0], p.shape[3]\n",
    "    tr = np.zeros((nS, nS, nA))\n",
    "    for s in range(nS):\n",
    "        for a in range(nA):\n",
    "            for sn in range(nS):\n",
    "                tr[sn, s,a] = p[sn,:,s,a].sum()\n",
    "    return tr"
   ]
  },
  {
   "cell_type": "markdown",
   "id": "db076617",
   "metadata": {},
   "source": [
    "Let us now apply this function on the obtained random walk dynamics."
   ]
  },
  {
   "cell_type": "code",
   "execution_count": 17,
   "id": "410426fb",
   "metadata": {},
   "outputs": [
    {
     "name": "stdout",
     "output_type": "stream",
     "text": [
      "[[0. 0.]\n",
      " [1. 1.]\n",
      " [1. 1.]\n",
      " [1. 1.]\n",
      " [1. 1.]\n",
      " [1. 1.]\n",
      " [0. 0.]]\n"
     ]
    }
   ],
   "source": [
    "tr = ssa(p)\n",
    "print(tr.sum(0))\n",
    "# print(tr)"
   ]
  },
  {
   "cell_type": "markdown",
   "id": "87ccc979",
   "metadata": {},
   "source": [
    "Again the state-transition probability satisfies similar properties of the dynamics."
   ]
  },
  {
   "cell_type": "markdown",
   "id": "8e5cf7d8",
   "metadata": {},
   "source": [
    "Finally, we can apply a similar logic to obtain the reward function, see page 49 of the book."
   ]
  },
  {
   "cell_type": "code",
   "execution_count": 18,
   "id": "aa21b32d",
   "metadata": {},
   "outputs": [],
   "source": [
    "# reward function induced from the dynamics\n",
    "def rsa(p, rewards):\n",
    "    # state dim, reward dim\n",
    "    nS, nA, nR = p.shape[0], p.shape[3], p.shape[1]\n",
    "    r = np.zeros((nS,nA))\n",
    "    for s in range(nS):\n",
    "        for a in range(nA):\n",
    "             for rd, rn in enumerate(rewards):\n",
    "                r[s,a] += rn*p[:,rd, s,a].sum()\n",
    "    return r\n"
   ]
  },
  {
   "cell_type": "code",
   "execution_count": 19,
   "id": "4d06ea75",
   "metadata": {},
   "outputs": [
    {
     "name": "stdout",
     "output_type": "stream",
     "text": [
      "[[0. 0.]\n",
      " [0. 0.]\n",
      " [0. 0.]\n",
      " [0. 0.]\n",
      " [0. 0.]\n",
      " [0. 1.]\n",
      " [0. 0.]]\n"
     ]
    }
   ],
   "source": [
    "rewards = randwalk().rewards_set()\n",
    "r = rsa(p, rewards)\n",
    "print(r)"
   ]
  },
  {
   "cell_type": "markdown",
   "id": "4043aaf5",
   "metadata": {},
   "source": [
    "This shows us that the expected reward of state-aciton pair (5,right)=1 and (6,right)=1. This is because we expect the agent to obtain a reward of 1 in the future when it move right while it was in state 5 because it will end up in the right terminal state which has a reward of 1. Also we have (6,right)=1 because once the agent is at the terminal state 6 it will stay there."
   ]
  },
  {
   "cell_type": "markdown",
   "id": "6dcf0ba4",
   "metadata": {},
   "source": [
    "# Dynamic Programming Methods"
   ]
  },
  {
   "cell_type": "markdown",
   "id": "62b038b1",
   "metadata": {},
   "source": [
    "Ok so we are ready now to move to Dynamic programming algorithms to solve the RL problem of finding a best estimate of a value function and or finding an optimal policy."
   ]
  },
  {
   "cell_type": "markdown",
   "id": "586865f3",
   "metadata": {},
   "source": [
    "## Policy evaluation"
   ]
  },
  {
   "cell_type": "markdown",
   "id": "4399b069",
   "metadata": {},
   "source": [
    "The first step to improving any policy is to evaluate how good or bad the policy is for the given task. This fundamental question can be addressed by tying up the task with a reward function that basically rewards the agent for achieving the task or a subtask that leads to the final goal. The agent's aim then becomes to collect as many rewards as possible (or to incur as few losses as possible), which should help the agent achieve the given task. One example is when a robot is moving in an environment, and we want it to reach a specific location, then we can reward/punish the robot for each step that is taking it close to the goal or away from it. But this awareness of the goal location is usually difficult to attain in real environments. Hence it is replaced by rewarding the agent when it reaches the goal or punishing the agent for each step taken without reaching the goal location.\n",
    "\n",
    "We can devise an evaluation strategy based on the discounted sum of rewards the agent is *expected* to collect while executing the task. The strategy depends on the dynamics of the environment. You may want to read section 4.1 and come back here to continue reading the code for the policy evaluation algorithm to get an insight into how it works."
   ]
  },
  {
   "cell_type": "code",
   "execution_count": 20,
   "id": "7227f313",
   "metadata": {},
   "outputs": [],
   "source": [
    "np.random.seed(1) # change the seed to get a different dynamics\n",
    "\n",
    "def Policy_evaluation(env=randwalk(), π=None, p=None, show=True, v0=.01, V0=None, θ=1e-3, γ=1, \n",
    "                      isrand=False, stoch=False): \n",
    "    nS, nA, nR = env.nS, env.nA, env.nR\n",
    "    \n",
    "    # m states, k actions and d rewards returns a 4-d dynamics\n",
    "    if isrand:      p = dynrand(nS, nA, nR);          rewards = [-1,1] \n",
    "    elif p is None: p = dynamics(env=env, show=show, stoch=stoch); rewards = env.rewards_set() #maxjump=maxjump\n",
    "    else:                                             rewards = env.rewards_set()# obtain a model of the env\n",
    "        \n",
    "    #V  = np.ones(nS )*v0; V[env.goals] = 0 \n",
    "    V = np.ones(nS )*v0 if V0 is None else V0.copy()\n",
    "    V[env.goals] = 0 \n",
    "\n",
    "    #if π is None: π=np.zeros((nS, nA), dtype=np.uint32); π[:,1]=1 \n",
    "    if π is None: π=np.ones(nS, dtype=np.uint32) # if π is not passed then always move right\n",
    "    i=0\n",
    "    # policy evaluation--------------------------------------------------------------\n",
    "    while True:\n",
    "        Δ = 0\n",
    "        i+= 1\n",
    "        if not show: clear_output(wait=True); rng = trange(nS) # show some further indication to keep use infromed\n",
    "        else: rng = range(nS)\n",
    "        for s in rng:\n",
    "            v, V[s] = V[s], 0            \n",
    "            for sn in range(nS):\n",
    "                for rn, r in enumerate(rewards):\n",
    "                        if π.ndim == 1: V[s] += p[sn,rn, s,π[s]]*(r + γ*V[sn])# deterministic policy\n",
    "                        else:\n",
    "                            for a in range(nA): V[s] += π[s,a]*p[sn,rn, s,a]*(r + γ*V[sn]) # probabilistic policy              \n",
    "            Δ = max(Δ, abs(v-V[s]))\n",
    "        if Δ<θ:\n",
    "            if show: print('policy evaluation stopped @ iteration %d:'%i)\n",
    "            break\n",
    "    \n",
    "    return V"
   ]
  },
  {
   "cell_type": "markdown",
   "id": "de89ea89",
   "metadata": {},
   "source": [
    "Note that we assume that when the policy is deterministic, it takes the shape (nS,) and its entries are actions ex. π[s]=1 means take right(1) when in state s.\n",
    "\n",
    "On the other hand if the policy is probabilistic, it has a shape of (nS, nA) and its entries are probabilities of each action given a state s, i.e π[a|s] written as π[s,a] in the code."
   ]
  },
  {
   "cell_type": "markdown",
   "id": "8989c74f",
   "metadata": {},
   "source": [
    "Note that γ must be < 1 to guarantee convergence of the Bellman equation because we do not know whether the policy guarantees reaching a terminal(goal) state. This condition can be relaxed when we move to sampling instead of dynamic programming in the next consequent lessons."
   ]
  },
  {
   "cell_type": "markdown",
   "id": "71bf88bd",
   "metadata": {},
   "source": [
    "Ok, let us test our policy evaluation method on a default policy where the agent goes right always (embedded in the code)."
   ]
  },
  {
   "cell_type": "code",
   "execution_count": 21,
   "id": "554b4f27",
   "metadata": {},
   "outputs": [
    {
     "data": {
      "image/png": "[encoded data removed]",
      "text/plain": [
       "<Figure size 1080x36 with 1 Axes>"
      ]
     },
     "metadata": {},
     "output_type": "display_data"
    },
    {
     "name": "stderr",
     "output_type": "stream",
     "text": [
      "100%|██████████| 1/1 [00:00<00:00,  1.53it/s]"
     ]
    },
    {
     "name": "stdout",
     "output_type": "stream",
     "text": [
      "policy evaluation stopped @ iteration 6:\n"
     ]
    },
    {
     "name": "stderr",
     "output_type": "stream",
     "text": [
      "\n"
     ]
    },
    {
     "data": {
      "text/plain": [
       "array([0., 1., 1., 1., 1., 1., 0.])"
      ]
     },
     "execution_count": 21,
     "metadata": {},
     "output_type": "execute_result"
    }
   ],
   "source": [
    "Policy_evaluation()"
   ]
  },
  {
   "cell_type": "markdown",
   "id": "ae8c29f1",
   "metadata": {},
   "source": [
    "As we can see, the values for the default deterministic policy that always move the agent to the right produce a set of state values of 1 for the non-terminal states 1:5. This is what we expect since the accumulated return of this policy, given that γ=1, is 1 for these states since the agent is rewarded with 1 only when it reaches the far right terminal state, while when it is terminated at the far left state, it is rewarded with 0 (all other intermediate states also has a reward of 0)."
   ]
  },
  {
   "cell_type": "markdown",
   "id": "3aac185b",
   "metadata": {},
   "source": [
    "To further test our policy evaluation method, we will pass a different policy to it. This time we pass a simple probabilistic policy that gives left and right actions the same probability of 0.5. In this case, since γ=1, the expected analytical values of the intermediate states are given as 1/6, 2/6, 3/6, 4/6, 5/6, which represent the probabilities of ending up in the far right state given the agent has started in them (so pr(s=1)=1/6)."
   ]
  },
  {
   "cell_type": "code",
   "execution_count": 22,
   "id": "6a78d74e",
   "metadata": {},
   "outputs": [
    {
     "data": {
      "image/png": "[encoded data removed]",
      "text/plain": [
       "<Figure size 1080x36 with 1 Axes>"
      ]
     },
     "metadata": {},
     "output_type": "display_data"
    },
    {
     "name": "stderr",
     "output_type": "stream",
     "text": [
      "100%|██████████| 1/1 [00:00<00:00,  1.47it/s]"
     ]
    },
    {
     "name": "stdout",
     "output_type": "stream",
     "text": [
      "policy evaluation stopped @ iteration 20:\n"
     ]
    },
    {
     "name": "stderr",
     "output_type": "stream",
     "text": [
      "\n"
     ]
    },
    {
     "data": {
      "text/plain": [
       "array([0.        , 0.16481679, 0.33055852, 0.49722519, 0.66458556,\n",
       "       0.83229278, 0.        ])"
      ]
     },
     "execution_count": 22,
     "metadata": {},
     "output_type": "execute_result"
    }
   ],
   "source": [
    "env = randwalk()\n",
    "π = np.ones((env.nS,env.nA))*.5 # probability of moving left and right are equal\n",
    "Policy_evaluation(env, π)"
   ]
  },
  {
   "cell_type": "code",
   "execution_count": 23,
   "id": "132fdb04",
   "metadata": {},
   "outputs": [
    {
     "data": {
      "text/plain": [
       "array([0.16666667, 0.33333333, 0.5       , 0.66666667, 0.83333333])"
      ]
     },
     "execution_count": 23,
     "metadata": {},
     "output_type": "execute_result"
    }
   ],
   "source": [
    "np.array([1/6, 2/6, 3/6, 4/6, 5/6])"
   ]
  },
  {
   "cell_type": "markdown",
   "id": "e871807a",
   "metadata": {},
   "source": [
    "As we can see the values of this optimal policy (moving always right) progressively increase from left to right towards the goal that is most rewarding and the obtained values are exactly what we expected which is reassuring."
   ]
  },
  {
   "cell_type": "markdown",
   "id": "4796c21b",
   "metadata": {},
   "source": [
    "Let us try to evaluate a random policy"
   ]
  },
  {
   "cell_type": "code",
   "execution_count": 23,
   "id": "f19cd40e",
   "metadata": {},
   "outputs": [
    {
     "name": "stdout",
     "output_type": "stream",
     "text": [
      "[1 1 0 0 1 1 1]\n"
     ]
    }
   ],
   "source": [
    "env = randwalk()\n",
    "π = np.random.randint(env.nA, size=env.nS, dtype=np.uint32)\n",
    "print(π)"
   ]
  },
  {
   "cell_type": "markdown",
   "id": "c71b0b9d",
   "metadata": {},
   "source": [
    "Now we call our policy evaluaiton subroutine."
   ]
  },
  {
   "cell_type": "code",
   "execution_count": 24,
   "id": "bdc781d0",
   "metadata": {},
   "outputs": [
    {
     "data": {
      "image/png": "[encoded data removed]",
      "text/plain": [
       "<Figure size 1080x36 with 1 Axes>"
      ]
     },
     "metadata": {},
     "output_type": "display_data"
    },
    {
     "name": "stderr",
     "output_type": "stream",
     "text": [
      "100%|██████████| 1/1 [00:00<00:00,  1.61it/s]"
     ]
    },
    {
     "name": "stdout",
     "output_type": "stream",
     "text": [
      "policy evaluation stopped @ iteration 3:\n"
     ]
    },
    {
     "name": "stderr",
     "output_type": "stream",
     "text": [
      "\n"
     ]
    },
    {
     "data": {
      "text/plain": [
       "array([0.  , 0.01, 0.01, 0.01, 1.  , 1.  , 0.  ])"
      ]
     },
     "execution_count": 24,
     "metadata": {},
     "output_type": "execute_result"
    }
   ],
   "source": [
    "Policy_evaluation(env, π)"
   ]
  },
  {
   "cell_type": "markdown",
   "id": "0d5b213b",
   "metadata": {},
   "source": [
    "As we can see the set of values are different than the above optimal policy and they are in harmony with the policy."
   ]
  },
  {
   "cell_type": "markdown",
   "id": "9bec294b",
   "metadata": {},
   "source": [
    "### Policy Evaluation for Grid world"
   ]
  },
  {
   "cell_type": "markdown",
   "id": "36ba884b",
   "metadata": {},
   "source": [
    "Let us now try this on a slightly more complex env such as a grid world"
   ]
  },
  {
   "cell_type": "code",
   "execution_count": 25,
   "id": "a54887af",
   "metadata": {},
   "outputs": [
    {
     "data": {
      "image/png": "[encoded data removed]",
      "text/plain": [
       "<Figure size 1224x216 with 1 Axes>"
      ]
     },
     "metadata": {},
     "output_type": "display_data"
    },
    {
     "name": "stderr",
     "output_type": "stream",
     "text": [
      "100%|██████████| 1/1 [00:11<00:00, 11.86s/it]\n"
     ]
    },
    {
     "name": "stdout",
     "output_type": "stream",
     "text": [
      "policy evaluation stopped @ iteration 7:\n",
      "[0. 0. 0. 0. 0. 0. 0. 0. 1. 0. 0. 0. 0. 0. 0. 0. 0. 1. 0. 0. 0. 0. 0. 0.\n",
      " 0. 0. 1. 0. 0. 0. 0. 0. 0. 0. 0. 1. 0. 0. 0. 0. 0. 0. 0. 0. 1. 0. 0. 0.\n",
      " 0. 0. 0. 0. 0. 0.]\n"
     ]
    }
   ],
   "source": [
    "env = maze()\n",
    "π = np.ones(env.nS, dtype=np.uint32)*3 # always go up\n",
    "V = Policy_evaluation(env=env, π=π)\n",
    "print(V)"
   ]
  },
  {
   "cell_type": "code",
   "execution_count": 26,
   "id": "7b730964",
   "metadata": {},
   "outputs": [
    {
     "data": {
      "image/png": "[encoded data removed]",
      "text/plain": [
       "<Figure size 1224x216 with 1 Axes>"
      ]
     },
     "metadata": {},
     "output_type": "display_data"
    }
   ],
   "source": [
    "env.render(underhood='V', V=V)"
   ]
  },
  {
   "cell_type": "markdown",
   "id": "368d34bd",
   "metadata": {},
   "source": [
    "As we can see moving up yeild some benefits mainly in the cells that lead to the goal."
   ]
  },
  {
   "cell_type": "markdown",
   "id": "2a79ff17",
   "metadata": {},
   "source": [
    "Let us now generate a random policy and evaluate it for a maze environment."
   ]
  },
  {
   "cell_type": "code",
   "execution_count": 27,
   "id": "2ee3a392",
   "metadata": {},
   "outputs": [
    {
     "name": "stdout",
     "output_type": "stream",
     "text": [
      "[1 3 0 0 1 0 3 1 0 2 1 2 0 2 1 2 0 3 0 2 0 1 2 2 0 3 3 1 1 3 2 0 2 1 1 1 3\n",
      " 3 1 2 1 1 0 0 1 0 0 1 3 3 2 1 0 2]\n"
     ]
    }
   ],
   "source": [
    "env = maze()\n",
    "π = np.random.randint(env.nA, size=env.nS, dtype=np.uint32)\n",
    "print(π)"
   ]
  },
  {
   "cell_type": "code",
   "execution_count": 28,
   "id": "a2f58faf",
   "metadata": {
    "scrolled": true
   },
   "outputs": [
    {
     "data": {
      "image/png": "[encoded data removed]",
      "text/plain": [
       "<Figure size 1224x216 with 1 Axes>"
      ]
     },
     "metadata": {},
     "output_type": "display_data"
    }
   ],
   "source": [
    "env.render(underhood='π', π=π)"
   ]
  },
  {
   "cell_type": "code",
   "execution_count": 29,
   "id": "830b5e74",
   "metadata": {},
   "outputs": [
    {
     "data": {
      "image/png": "[encoded data removed]",
      "text/plain": [
       "<Figure size 1224x216 with 1 Axes>"
      ]
     },
     "metadata": {},
     "output_type": "display_data"
    },
    {
     "name": "stderr",
     "output_type": "stream",
     "text": [
      "100%|██████████| 1/1 [00:11<00:00, 11.85s/it]"
     ]
    },
    {
     "name": "stdout",
     "output_type": "stream",
     "text": [
      "policy evaluation stopped @ iteration 4:\n"
     ]
    },
    {
     "name": "stderr",
     "output_type": "stream",
     "text": [
      "\n"
     ]
    },
    {
     "data": {
      "text/plain": [
       "array([0.01, 0.01, 0.01, 0.01, 0.01, 0.01, 0.01, 0.01, 0.01, 0.01, 0.01,\n",
       "       0.01, 0.01, 0.01, 0.01, 0.01, 0.01, 0.  , 0.  , 0.01, 0.01, 0.01,\n",
       "       0.01, 0.  , 0.  , 0.  , 0.  , 0.  , 0.  , 0.  , 0.01, 0.01, 0.  ,\n",
       "       0.  , 0.  , 0.  , 0.  , 0.  , 0.01, 0.01, 0.01, 0.01, 0.01, 0.01,\n",
       "       0.  , 0.  , 0.  , 0.  , 0.  , 0.  , 0.01, 0.  , 0.  , 0.  ])"
      ]
     },
     "execution_count": 29,
     "metadata": {},
     "output_type": "execute_result"
    }
   ],
   "source": [
    "Policy_evaluation(env, π)"
   ]
  },
  {
   "cell_type": "markdown",
   "id": "0e7ff08e",
   "metadata": {},
   "source": [
    "As we can see, the randomly generated policy is chaotic and carry little value for the agent. However, evaluating different policies is highly important for an agent since it can guide the improvement of its adopted policy (based on this ability). One example is to keep evaluating random policies until some computational resources are consumed and pick the best. Below we show such a strategy of searching for an optimal policy. You can apply all other search algorithms that you have come across before in conventional AI (breadth-first etc.)."
   ]
  },
  {
   "cell_type": "code",
   "execution_count": 30,
   "id": "4bc4235e",
   "metadata": {},
   "outputs": [
    {
     "data": {
      "image/png": "[encoded data removed]",
      "text/plain": [
       "<Figure size 1224x216 with 1 Axes>"
      ]
     },
     "metadata": {},
     "output_type": "display_data"
    },
    {
     "name": "stderr",
     "output_type": "stream",
     "text": [
      "100%|██████████| 1/1 [00:11<00:00, 11.81s/it]\n"
     ]
    }
   ],
   "source": [
    "from tqdm import trange\n",
    "env = maze()\n",
    "Vmax= np.zeros((env.nS))\n",
    "p = dynamics(env)"
   ]
  },
  {
   "cell_type": "code",
   "execution_count": 31,
   "id": "d8c38af6",
   "metadata": {},
   "outputs": [
    {
     "data": {
      "image/png": "[encoded data removed]",
      "text/plain": [
       "<Figure size 1224x216 with 1 Axes>"
      ]
     },
     "metadata": {},
     "output_type": "display_data"
    }
   ],
   "source": [
    "for _ in trange(200):\n",
    "    π = np.random.randint(env.nA, size=env.nS, dtype=np.uint32)\n",
    "    V = Policy_evaluation(env, π, p, False)\n",
    "    if Vmax.sum() < V.sum(): \n",
    "        Vmax = V\n",
    "        πmax = π\n",
    "\n",
    "env.render(underhood='π', π=πmax)"
   ]
  },
  {
   "cell_type": "markdown",
   "id": "c56d3677",
   "metadata": {},
   "source": [
    "As we can see, finding the optimal policy by random search is difficult since the space of policies is huge, making exhaustive or random search infeasible (dimensionality problem). We need a way to take and maintain a step in the right direction of improving the policy. As you have already seen in another module, a greedy search can often lead to a good result. The next section shows a simple but effective strategy to gradually improve a policy by taking a greedy step towards the solution."
   ]
  },
  {
   "cell_type": "markdown",
   "id": "64da4ba2",
   "metadata": {},
   "source": [
    "## Policy Iteration \n",
    "Now that we know how to evaluate a policy, it is time to improve it. Policy iteration is a basic and simple algorithm. It explicitly and iteratively tries first to reach a highly accurate estimate of the value function of the current policy, then it tries to improve the policy by maximising the probability of greedy actions as per the current value function. Evaluating the current policy fully and then improving it via policy iteration is inefficient, but it shows the fundamental ideas behind reinforcement learning. Please spend some time comprehending the code and reading the corresponding section 4.3 in the book."
   ]
  },
  {
   "cell_type": "code",
   "execution_count": 32,
   "id": "87d9afae",
   "metadata": {},
   "outputs": [],
   "source": [
    "np.random.seed(1) # change the seed to get a different dynamics\n",
    "\n",
    "def Policy_iteration(env=randwalk(), v0=.01, θ=1e-4, γ=.99, isrand=False): \n",
    "    nS, nA, nR = env.nS, env.nA, env.nR\n",
    "    \n",
    "    # m states, k actions and d rewards returns a 4-d dynamics\n",
    "    if isrand: p = dynrand(nS, nA, nR); rewards = [-1,1] \n",
    "    else:      p = dynamics(env);       rewards = env.rewards_set() # obtain a model of the env\n",
    "        \n",
    "    # 1. initialise arbitrarily -------------------------------------------------\n",
    "    V  = np.ones (nS )*v0; V[env.goals] = 0 \n",
    "    π  = np.zeros(nS, dtype=np.uint32) # policy for all states\n",
    "    Qs = np.zeros(nA) # action-values for individual state\n",
    "     \n",
    "    j=0\n",
    "    while True:\n",
    "        j+=1\n",
    "        # 2. policy evaluation---------------------------------------------------\n",
    "        i=0\n",
    "        while True:\n",
    "            Δ = 0\n",
    "            i+= 1\n",
    "            for s in range(nS):\n",
    "                v, V[s] = V[s], 0\n",
    "                for sn in range(nS):\n",
    "                    for rn, r in enumerate(rewards):\n",
    "                        V[s] += p[sn,rn,  s, π[s]]*(r + γ*V[sn])\n",
    "                Δ = max(Δ, abs(v-V[s]))\n",
    "            if Δ<θ: print('policy evaluation stopped @ iteration %d:'%i); break\n",
    "\n",
    "        # 3. policy improvement----------------------------------------------------\n",
    "        policy_stable=True\n",
    "        for s in range(nS):\n",
    "            πs = π[s]\n",
    "            for a in range(nA):\n",
    "                Qs[a]=0\n",
    "                for sn in range(nS):\n",
    "                    for rn, r in enumerate(rewards):\n",
    "                        Qs[a] += p[sn,rn,  s,a]*(r + γ*V[sn]) \n",
    "            π[s] = Qs.argmax() # greedy step\n",
    "            if π[s]!=πs: policy_stable=False\n",
    "        if policy_stable: print('policy improvement stopped @ iteration %d:'%j); break\n",
    "    return π"
   ]
  },
  {
   "cell_type": "markdown",
   "id": "6a153808",
   "metadata": {},
   "source": [
    "We try our policy_iteration() funciton for a random dynamcis:"
   ]
  },
  {
   "cell_type": "code",
   "execution_count": 39,
   "id": "41f3e392",
   "metadata": {},
   "outputs": [
    {
     "name": "stdout",
     "output_type": "stream",
     "text": [
      "policy evaluation stopped @ iteration 6:\n",
      "policy evaluation stopped @ iteration 6:\n",
      "policy improvement stopped @ iteration 2:\n"
     ]
    },
    {
     "data": {
      "text/plain": [
       "array([0, 0, 0, 0, 0, 1, 0], dtype=uint32)"
      ]
     },
     "execution_count": 39,
     "metadata": {},
     "output_type": "execute_result"
    }
   ],
   "source": [
    "Policy_iteration(isrand=True)"
   ]
  },
  {
   "cell_type": "code",
   "execution_count": 41,
   "id": "e80f9bd6",
   "metadata": {},
   "outputs": [
    {
     "name": "stdout",
     "output_type": "stream",
     "text": [
      "policy evaluation stopped @ iteration 5:\n",
      "policy evaluation stopped @ iteration 5:\n",
      "policy improvement stopped @ iteration 2:\n"
     ]
    },
    {
     "data": {
      "text/plain": [
       "array([1, 0, 0, 0, 0, 0, 1], dtype=uint32)"
      ]
     },
     "execution_count": 41,
     "metadata": {},
     "output_type": "execute_result"
    }
   ],
   "source": [
    "Policy_iteration(isrand=True)"
   ]
  },
  {
   "cell_type": "markdown",
   "id": "5ee56795",
   "metadata": {},
   "source": [
    "We can of course try it for a proper Environments. We start by a random walk and then we move into grid world."
   ]
  },
  {
   "cell_type": "code",
   "execution_count": 42,
   "id": "59f54ef6",
   "metadata": {},
   "outputs": [
    {
     "data": {
      "image/png": "[encoded data removed]",
      "text/plain": [
       "<Figure size 1080x36 with 1 Axes>"
      ]
     },
     "metadata": {},
     "output_type": "display_data"
    },
    {
     "name": "stderr",
     "output_type": "stream",
     "text": [
      "100%|██████████| 1/1 [00:00<00:00,  1.62it/s]"
     ]
    },
    {
     "name": "stdout",
     "output_type": "stream",
     "text": [
      "policy evaluation stopped @ iteration 2:\n",
      "policy evaluation stopped @ iteration 2:\n",
      "policy evaluation stopped @ iteration 2:\n",
      "policy evaluation stopped @ iteration 2:\n",
      "policy evaluation stopped @ iteration 2:\n",
      "policy evaluation stopped @ iteration 2:\n",
      "policy improvement stopped @ iteration 6:\n"
     ]
    },
    {
     "name": "stderr",
     "output_type": "stream",
     "text": [
      "\n"
     ]
    }
   ],
   "source": [
    "env=randwalk()\n",
    "π = Policy_iteration(env)"
   ]
  },
  {
   "cell_type": "markdown",
   "id": "858564eb",
   "metadata": {},
   "source": [
    "To visualise the policy we would need to pass the environment explicitly and then render the environment."
   ]
  },
  {
   "cell_type": "code",
   "execution_count": 43,
   "id": "164c03cc",
   "metadata": {},
   "outputs": [
    {
     "name": "stdout",
     "output_type": "stream",
     "text": [
      "[0 1 1 1 1 1 0]\n"
     ]
    }
   ],
   "source": [
    "print(π)"
   ]
  },
  {
   "cell_type": "code",
   "execution_count": 44,
   "id": "07724d47",
   "metadata": {},
   "outputs": [
    {
     "data": {
      "image/png": "[encoded data removed]",
      "text/plain": [
       "<Figure size 1080x36 with 1 Axes>"
      ]
     },
     "metadata": {},
     "output_type": "display_data"
    }
   ],
   "source": [
    "env.render(underhood='π', π=π)"
   ]
  },
  {
   "cell_type": "code",
   "execution_count": 45,
   "id": "0baef785",
   "metadata": {},
   "outputs": [
    {
     "data": {
      "image/png": "[encoded data removed]",
      "text/plain": [
       "<Figure size 1080x36 with 1 Axes>"
      ]
     },
     "metadata": {},
     "output_type": "display_data"
    }
   ],
   "source": [
    "env.render(underhood='π', π=π)"
   ]
  },
  {
   "cell_type": "code",
   "execution_count": 46,
   "id": "3737d08d",
   "metadata": {},
   "outputs": [
    {
     "data": {
      "image/png": "[encoded data removed]",
      "text/plain": [
       "<Figure size 1224x216 with 1 Axes>"
      ]
     },
     "metadata": {},
     "output_type": "display_data"
    },
    {
     "name": "stderr",
     "output_type": "stream",
     "text": [
      "100%|██████████| 1/1 [00:11<00:00, 11.94s/it]\n"
     ]
    },
    {
     "name": "stdout",
     "output_type": "stream",
     "text": [
      "policy evaluation stopped @ iteration 2:\n",
      "policy evaluation stopped @ iteration 2:\n",
      "policy evaluation stopped @ iteration 2:\n",
      "policy evaluation stopped @ iteration 2:\n",
      "policy evaluation stopped @ iteration 2:\n",
      "policy evaluation stopped @ iteration 2:\n",
      "policy evaluation stopped @ iteration 2:\n",
      "policy evaluation stopped @ iteration 2:\n",
      "policy evaluation stopped @ iteration 2:\n",
      "policy evaluation stopped @ iteration 2:\n",
      "policy evaluation stopped @ iteration 2:\n",
      "policy evaluation stopped @ iteration 2:\n",
      "policy evaluation stopped @ iteration 2:\n",
      "policy evaluation stopped @ iteration 2:\n",
      "policy evaluation stopped @ iteration 2:\n",
      "policy evaluation stopped @ iteration 2:\n",
      "policy improvement stopped @ iteration 16:\n"
     ]
    }
   ],
   "source": [
    "env=maze()\n",
    "π = Policy_iteration(env)"
   ]
  },
  {
   "cell_type": "code",
   "execution_count": 47,
   "id": "5f37ad22",
   "metadata": {},
   "outputs": [
    {
     "data": {
      "image/png": "[encoded data removed]",
      "text/plain": [
       "<Figure size 1224x216 with 1 Axes>"
      ]
     },
     "metadata": {},
     "output_type": "display_data"
    }
   ],
   "source": [
    "env.render(underhood='π', π=π)"
   ]
  },
  {
   "cell_type": "markdown",
   "id": "ac88ba30",
   "metadata": {},
   "source": [
    "## Stochastic Policy Iteration\n",
    "We can also create a stochastic policy iteration method. It only differs from the deterministic policy iteration in two places (in the if ε_greedy statements): \n",
    "1. in the policy evaluation, we need to marginalize by multiplying by the action probability as we did earlier for the policy evaluation method\n",
    "2. In calculating the probability of taking an optimal action (to account for the stochastic non-determinism nature of the policy), we allow the agent to take random actions ε% of the time. \n",
    "\n",
    "We show the method below.\n"
   ]
  },
  {
   "cell_type": "code",
   "execution_count": 48,
   "id": "ffdabb6e",
   "metadata": {},
   "outputs": [],
   "source": [
    "np.random.seed(1) # change the seed to get a different dynamics\n",
    "\n",
    "def Policy_iteration_stoch(env=randwalk(), v0=.01, θ=1e-4, γ=.99, ε=.1, isrand=False): \n",
    "    nS, nA, nR = env.nS, env.nA, env.nR\n",
    "    \n",
    "    # m states, k actions and d rewards returns a 4-d dynamics\n",
    "    if isrand: p = dynrand(nS, nA, nR); rewards = [-1,3] \n",
    "    else:      p = dynamics(env);       rewards = env.rewards_set() # obtain a model of the env\n",
    "        \n",
    "    # 1. initialise arbitrarily -------------------------------------------------\n",
    "    V  = np.ones (nS )*v0; V[env.goals] = 0 \n",
    "    π  = np.ones((nS, nA)) # probabilistic policy\n",
    "    for s in range(nS): π[s] /= π[s].sum()\n",
    "    Q  = np.ones((nS, nA))  # action-values for individual state\n",
    "\n",
    "    j=0\n",
    "    while True:\n",
    "        j+=1\n",
    "        # 2. policy evaluation---------------------------------------------------\n",
    "        i=0\n",
    "        while True:\n",
    "            Δ = 0\n",
    "            i+= 1\n",
    "            for s in range(nS):\n",
    "                v, V[s] = V[s], 0\n",
    "                for sn in range(nS):\n",
    "                    for rn, r in enumerate(rewards):\n",
    "                        for a in range(nA): \n",
    "                            V[s] += π[s,a]*p[sn,rn, s,a ]*(r + γ*V[sn]) # probabilistic policy\n",
    "                        \n",
    "                Δ = max(Δ, abs(v-V[s]))\n",
    "            if Δ<θ: print('policy evaluation stopped @ iteration %d:'%i); break\n",
    "\n",
    "        # 3. policy improvement----------------------------------------------------\n",
    "        policy_stable=True\n",
    "        for s in range(nS):\n",
    "            if s in env.goals: π[s]=0; continue\n",
    "            Qs = Q[s]\n",
    "            for a in range(nA):\n",
    "                Q[s,a]=0\n",
    "                for sn in range(nS):\n",
    "                    for rn, r in enumerate(rewards):\n",
    "                        Q[s,a] += p[sn,rn, s,a]*(r + γ*V[sn])\n",
    "                        \n",
    "                if abs(Q[s,a]-Qs[a]) > 1e-4: policy_stable=False\n",
    "            π[s] = Qs*0 + ε/nA\n",
    "            π[s,Q[s].argmax()] += 1-ε     # greedy step  \n",
    "        if policy_stable: print('policy improvement stopped @ iteration %d:'%j); break\n",
    "\n",
    "    return π"
   ]
  },
  {
   "cell_type": "code",
   "execution_count": 49,
   "id": "badb2038",
   "metadata": {},
   "outputs": [
    {
     "data": {
      "image/png": "[encoded data removed]",
      "text/plain": [
       "<Figure size 1800x36 with 1 Axes>"
      ]
     },
     "metadata": {},
     "output_type": "display_data"
    },
    {
     "name": "stderr",
     "output_type": "stream",
     "text": [
      "100%|██████████| 1/1 [00:00<00:00,  1.61it/s]"
     ]
    },
    {
     "name": "stdout",
     "output_type": "stream",
     "text": [
      "policy evaluation stopped @ iteration 27:\n",
      "policy improvement stopped @ iteration 1:\n",
      "[[0.   0.  ]\n",
      " [0.05 0.95]\n",
      " [0.05 0.95]\n",
      " [0.05 0.95]\n",
      " [0.05 0.95]\n",
      " [0.05 0.95]\n",
      " [0.   0.  ]]\n"
     ]
    },
    {
     "name": "stderr",
     "output_type": "stream",
     "text": [
      "\n"
     ]
    }
   ],
   "source": [
    "env=randwalk(figsize=[25,.5])\n",
    "π = Policy_iteration_stoch(env=env)\n",
    "print(π)"
   ]
  },
  {
   "cell_type": "code",
   "execution_count": 50,
   "id": "e2b2acf8",
   "metadata": {},
   "outputs": [
    {
     "data": {
      "image/png": "[encoded data removed]",
      "text/plain": [
       "<Figure size 1800x36 with 1 Axes>"
      ]
     },
     "metadata": {},
     "output_type": "display_data"
    }
   ],
   "source": [
    "env.render(underhood='Q', Q=π)"
   ]
  },
  {
   "cell_type": "markdown",
   "id": "b7efb676",
   "metadata": {},
   "source": [
    "As we can see the policy chooses to take right majority of the times  1-ε+ ε/nA=.95 while taking left occasionally  ε/nA."
   ]
  },
  {
   "cell_type": "markdown",
   "id": "eb6bc2db",
   "metadata": {},
   "source": [
    "## Value Iteration Algorithm"
   ]
  },
  {
   "cell_type": "markdown",
   "id": "28c46f87",
   "metadata": {},
   "source": [
    "Our final step to fully develop the ideas of dynamic programming is to shorten the time it takes for a policy to be evaluated and improved. One simple idea we will follow here is to slightly improve the evaluation and immediately improve the policy. We do these two steps iteratively until our policy has stopped to improve. This is a very effective strategy because we do not wait until the policy is fully evaluated to improve it; we weave and interleave the two loops together in one loop. Below we show this algorithm. Read section 4.4 to further your understanding of this algorithm."
   ]
  },
  {
   "cell_type": "code",
   "execution_count": 51,
   "id": "d32f9fa9",
   "metadata": {},
   "outputs": [],
   "source": [
    "np.random.seed(1) # change the seed to get a different dynamics\n",
    "\n",
    "def π(Q):\n",
    "    return [Q[s].argmax() for s in range(Q.shape[0])]\n",
    "\n",
    "def value_iteration(env=randwalk(), v0=.01, θ=1e-4, γ=.99, isrand=False, show=False): \n",
    "    # initialise V randomly but make sure that terminal states = 0\n",
    "    nS, nA, nR, i = env.nS, env.nA, env.nR, 0\n",
    "    V = np.ones( nS    )*v0; V[env.goals] = 0 \n",
    "    Q = np.ones((nS,nA))*v0; Q[env.goals] = 0 \n",
    "\n",
    "    # p is a 4-d dynamics\n",
    "    if isrand: p = dynrand(nS, nA, nR); rewards = [-1,1] \n",
    "    else:      p = dynamics(env, show); rewards =  env.rewards_set()\n",
    "    \n",
    "    while True:\n",
    "        Δ = 0\n",
    "        i+= 1\n",
    "        for s in range(nS):\n",
    "            v, Q[s] = V[s], 0\n",
    "            for a in range(nA):\n",
    "                for sn in range(nS):\n",
    "                    for rd, rn in enumerate(rewards):\n",
    "                        Q[s,a] += p[sn,rd,  s,a]*(rn + γ*V[sn])  # max operation is embedded now in the evaluation\n",
    "            V[s] = Q[s].max()                                    # step which made the algorithm more concise \n",
    "            Δ = max(Δ, abs(v-V[s]))\n",
    "            \n",
    "        if Δ<θ: print('loop stopped @ iteration: %d , Δ = %2.f'% (i, Δ)); break\n",
    "    return Q"
   ]
  },
  {
   "cell_type": "code",
   "execution_count": 52,
   "id": "4688661d",
   "metadata": {},
   "outputs": [
    {
     "name": "stderr",
     "output_type": "stream",
     "text": [
      "100%|██████████| 1/1 [00:00<?, ?it/s]"
     ]
    },
    {
     "name": "stdout",
     "output_type": "stream",
     "text": [
      "loop stopped @ iteration: 6 , Δ =  0\n",
      "optimal action for state [0, 1, 1, 1, 1, 1, 0]\n"
     ]
    },
    {
     "name": "stderr",
     "output_type": "stream",
     "text": [
      "\n"
     ]
    }
   ],
   "source": [
    "env = randwalk()\n",
    "policy = π(value_iteration(env))\n",
    "print('optimal action for state', policy)"
   ]
  },
  {
   "cell_type": "code",
   "execution_count": 53,
   "id": "5af1268c",
   "metadata": {},
   "outputs": [
    {
     "data": {
      "image/png": "[encoded data removed]",
      "text/plain": [
       "<Figure size 1080x36 with 1 Axes>"
      ]
     },
     "metadata": {},
     "output_type": "display_data"
    }
   ],
   "source": [
    "env.render(underhood='π', π=policy)"
   ]
  },
  {
   "cell_type": "markdown",
   "id": "730b962a",
   "metadata": {},
   "source": [
    "As we can see our value iteration algorithm is effective in finding the optimal policy. Note that for the random walk environment the best policy is to move right to get a reward."
   ]
  },
  {
   "cell_type": "markdown",
   "id": "78362bf8",
   "metadata": {},
   "source": [
    "### Value Iteration on a Grid World"
   ]
  },
  {
   "cell_type": "markdown",
   "id": "abe4dba3",
   "metadata": {},
   "source": [
    "Now that you understand the value-iteration algorithm, you can apply it on a different and more complex envornment such as the grid world. As we did for the random walk, you have access to a grid world via the Grid class and its subroutines."
   ]
  },
  {
   "cell_type": "code",
   "execution_count": 54,
   "id": "585210ad",
   "metadata": {
    "scrolled": true
   },
   "outputs": [
    {
     "name": "stderr",
     "output_type": "stream",
     "text": [
      "100%|██████████| 1/1 [00:00<00:00, 1000.55it/s]\n"
     ]
    },
    {
     "name": "stdout",
     "output_type": "stream",
     "text": [
      "loop stopped @ iteration: 10 , Δ =  0\n",
      "optimal action for state [1, 1, 1, 1, 1, 1, 3, 0, 0, 0, 1, 1, 1, 1, 1, 1, 3, 0, 0, 0, 1, 1, 1, 1, 1, 1, 3, 0, 0, 0, 1, 1, 1, 1, 1, 1, 0, 0, 0, 0, 1, 1, 1, 1, 1, 1, 2, 0, 0, 0, 1, 1, 1, 1, 1, 1, 2, 0, 0, 0, 1, 1, 1, 1, 1, 1, 2, 0, 0, 0, 1, 1, 1, 1, 1, 1, 2, 0, 0, 0]\n"
     ]
    }
   ],
   "source": [
    "env=grid()\n",
    "policy = π(value_iteration(env))\n",
    "print('optimal action for state', policy)"
   ]
  },
  {
   "cell_type": "markdown",
   "id": "8572e080",
   "metadata": {},
   "source": [
    "To interpret the policy we provided you with a useful funciton to rebder the environemt with its policy, we show that below."
   ]
  },
  {
   "cell_type": "code",
   "execution_count": 56,
   "id": "bed3a519",
   "metadata": {
    "scrolled": true
   },
   "outputs": [
    {
     "data": {
      "image/png": "[encoded data removed]",
      "text/plain": [
       "<Figure size 1224x216 with 1 Axes>"
      ]
     },
     "metadata": {},
     "output_type": "display_data"
    }
   ],
   "source": [
    "env.render(underhood='π', π=policy)"
   ]
  },
  {
   "cell_type": "markdown",
   "id": "7b22a652",
   "metadata": {},
   "source": [
    "As we can see the policy-iteration algorithm successfuly gave us the best policy for this simple environment."
   ]
  },
  {
   "cell_type": "markdown",
   "id": "d551da9b",
   "metadata": {},
   "source": [
    "### Value Iteration on a Windy Grid World\n",
    "Below we show the results of applying the value iteration method on a windy grid world. This is almost identical to the previous simple grid world without any obstacles, the only difference is that there is a wind blowing upwards, which shifts the agent 2 or 1 cell depending on its location. See page 130 of the book."
   ]
  },
  {
   "cell_type": "code",
   "execution_count": 73,
   "id": "8f4feb7e",
   "metadata": {},
   "outputs": [
    {
     "data": {
      "image/png": "[encoded data removed]",
      "text/plain": [
       "<Figure size 1224x216 with 1 Axes>"
      ]
     },
     "metadata": {},
     "output_type": "display_data"
    }
   ],
   "source": [
    "env=windy()\n",
    "policy = π(value_iteration(env))\n",
    "print('optimal action for state', policy)\n",
    "env.render(underhood='π', π=policy)"
   ]
  },
  {
   "cell_type": "markdown",
   "id": "55d4220a",
   "metadata": {},
   "source": [
    "### value iteration on a maze\n",
    "Let us now apply the policy-iteration on the maze env."
   ]
  },
  {
   "cell_type": "code",
   "execution_count": 57,
   "id": "794028d7",
   "metadata": {
    "scrolled": false
   },
   "outputs": [
    {
     "data": {
      "image/png": "[encoded data removed]",
      "text/plain": [
       "<Figure size 1224x216 with 1 Axes>"
      ]
     },
     "metadata": {},
     "output_type": "display_data"
    }
   ],
   "source": [
    "env=maze()\n",
    "policy = π(value_iteration(env))\n",
    "print('optimal action for state', policy)\n",
    "env.render(underhood='π', π=policy)"
   ]
  },
  {
   "cell_type": "markdown",
   "id": "da4463cf",
   "metadata": {},
   "source": [
    "## Conclusion\n",
    "In this lesson, we covered the main dynamic programming algorithms. We saw how evaluating a policy was extremely useful in being the key component to allowing us to improve the policy. We then developed a policy iteration algorithm which improves the policy in two main steps:\n",
    "1. a step that evaluates the policy fully to reach an accurate estimation of the action values of the current policy\n",
    "2. a step that improves the policy by adopting a greedy action. The usage of an action-value function Q(s,a) was key in allowing us to choose between actions since the state-value function V(s) does not differentiate between the values of actions\n",
    "\n",
    "We finally saw how the value-iteration algorithm has a similar structure to the policy-iteration algorithm with one important difference; it can arrive at an optimal policy by just taking a step *towards* the optimal policy by slightly refines its estimation of the action-value function without fully evaluating it.  Hence, it improves its policy more concisely and with much less overhead than the full policy iteration method.\n",
    "\n",
    "In the next lesson, we will take a different approach and move to cover sampling methods that do not use the dynamics of the environment explicitly and instead try to improve its policy by interacting with the environment.\n"
   ]
  },
  {
   "cell_type": "markdown",
   "id": "ef3383f3",
   "metadata": {},
   "source": [
    "## Your turn\n",
    "Try the policy iteration on the maze8 which allows the agent to move diagonally, it is fun."
   ]
  },
  {
   "cell_type": "markdown",
   "id": "cc2bef3e",
   "metadata": {},
   "source": [
    "You should arrive to an optimal policy for this maze environment where agent can move diagonally and has 8 actions. You should be able to observe how efficient the policy is and how the agent is able to reach the goal location from anywhere in the environment.\n"
   ]
  },
  {
   "cell_type": "markdown",
   "id": "4348c6aa",
   "metadata": {},
   "source": [
    "## Challenges\n",
    "1. Alter policy_iteration_stoch to use a softmax policy instead of the ε-greedy policy that we used in the policy_iteration_stoch method.\n",
    "2. You can challenge yourself also by trying to combine policy_iteration and policy_iteration_stoch() in one method. Use a flag such as ε_greedy to distinguish between deterministic and probabilistic policies."
   ]
  }
 ],
 "metadata": {
  "kernelspec": {
   "display_name": "Python 3 (ipykernel)",
   "language": "python",
   "name": "python3"
  },
  "language_info": {
   "codemirror_mode": {
    "name": "ipython",
    "version": 3
   },
   "file_extension": ".py",
   "mimetype": "text/x-python",
   "name": "python",
   "nbconvert_exporter": "python",
   "pygments_lexer": "ipython3",
   "version": "3.9.7"
  }
 },
 "nbformat": 4,
 "nbformat_minor": 5
}
