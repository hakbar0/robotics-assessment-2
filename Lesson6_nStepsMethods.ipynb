{
 "cells": [
  {
   "cell_type": "markdown",
   "id": "bb884860",
   "metadata": {},
   "source": [
    "Author: Abdulrahman Altahhan, Feb 2023.\n",
    "\n",
    "The notebook use a library of functionality in RL that aims for simplicity and general insight into how algorithms work, these libraries are written from scratch using standard python libraries (numpy, matplotlib etc.).\n",
    "Please note that you will need to take a permission from the author to use the code for research, commercially or otherwise."
   ]
  },
  {
   "cell_type": "markdown",
   "id": "ecd816dc",
   "metadata": {},
   "source": [
    "# Lesson 6-Tabular Methods: n-steps Bootstrapping Tabular Methods"
   ]
  },
  {
   "cell_type": "markdown",
   "id": "2bddb2c9",
   "metadata": {},
   "source": [
    "**Learning outcomes**\n",
    "1. understand how to generalize a one-step methods to n-step methods\n",
    "2. understand the trend associated with n-steps methods \n",
    "3. understand that intermediate n values usually works the best \n",
    "4. generalise n-step prediction methods to n-step control methods"
   ]
  },
  {
   "cell_type": "markdown",
   "id": "338a4575",
   "metadata": {},
   "source": [
    "**Reading**:\n",
    "The accompanying reading of this lesson is **chapter 7** of our text book available online [here](http://incompleteideas.net/book/RLbook2020.pdf). Please note that we explain the ideas of this topic from a practical perspective and not from a theoretical perspective which is already covered in the textbook."
   ]
  },
  {
   "cell_type": "markdown",
   "id": "b011fb5c",
   "metadata": {},
   "source": [
    "In the previous lesson, we saw how a TD update rule defined in terms of the next reward and state as the target can effectively converge to useful state and action-value functions. It took the form:\n",
    "\n",
    "$V(S_{t}) = V(S_{t}) + \\alpha[R_{t+1} + \\gamma V(S_{t+1}) - V(S_{t}) ]$\n",
    "\n",
    "This is a one-step update because one reward available in the current step is used. It can be written as\n",
    "\n",
    "$G_{t} = R_{t+1} + \\gamma V(S_{t})$\n",
    "\n",
    "$V(S_{t}) = V(S_{t}) + \\alpha[ G_{t} - V(S_{t}) ]$\n",
    "\n",
    "where $G_{t}$ is a one-step return.\n",
    "\n",
    "In this lesson, we study the effect of increasing the number of steps considered for the target. In particular, we study the effect of collecting rewards for n steps and substituting the one-step return with the n-step return written as the discounted sum of the n rewards plus the value function for the n-th step state.\n",
    "\n",
    "In other words, we define the n-step return as\n",
    "\n",
    "$G_{t:t+n} = R_{t+1} + \\gamma R_{t+2} + \\gamma^{2} R_{t+3} +...+ \\gamma^{n-1} R_{t+n} + \\gamma^{n}V(S_{t+n})$\n",
    "\n",
    "And the update rule that uses this n-step return is:\n",
    "\n",
    "$V(S_{t}) = V(S_{t}) + \\alpha[G_{t:t+n} - V(S_{t}) ]$\n",
    "\n",
    "When we want to make in which time step, we are conducting this update, we add a subscript for the V function that represents the time step at which the estimate is referring to \n",
    "\n",
    "$G_{t:t+n} = R_{t+1} + \\gamma R_{t+2} + \\gamma^{2} R_{t+3} +...+ \\gamma^{n-1} R_{t+n} + \\gamma^{n}V_{t+n-1}(S_{t+n})$\n",
    "\n",
    "$V_{t+n}(S_{t}) = V_{t+n-1}(S_{t}) + \\alpha[G_{t:t+n} - V_{t+n-1}(S_{t}) ]$\n"
   ]
  },
  {
   "cell_type": "code",
   "execution_count": 14,
   "id": "9287bead",
   "metadata": {},
   "outputs": [],
   "source": [
    "%matplotlib inline"
   ]
  },
  {
   "cell_type": "code",
   "execution_count": 15,
   "id": "aeee1caf",
   "metadata": {},
   "outputs": [],
   "source": [
    "import nbimporter\n",
    "from Lesson5_TemporalDifferenceMethods import *"
   ]
  },
  {
   "cell_type": "markdown",
   "id": "364442ed",
   "metadata": {},
   "source": [
    "## Adjusting an MRP class"
   ]
  },
  {
   "cell_type": "markdown",
   "id": "c1e00d59",
   "metadata": {},
   "source": [
    "First, let us develop our MRP class to accommodate waiting for n-1 steps before obtaining the $G_{t:t+n}$. In each step, we must also create a G function to obtain the $G_{t:t+n}$. Finally, we would need to alter our stopping criteria to wait for extra n-1 steps at the end to ensure we update the latest n-1 state values since we are always lagging n-1 steps during the episode."
   ]
  },
  {
   "cell_type": "code",
   "execution_count": 16,
   "id": "62b8790c",
   "metadata": {},
   "outputs": [],
   "source": [
    "class MRP(MRP):\n",
    "    \n",
    "    def __init__(self, n=1, **kw):\n",
    "        super().__init__(**kw)\n",
    "        self.n = n\n",
    "\n",
    "    #----------------------------------- 🐾steps as per the algorithm style --------------------------\n",
    "    def stop_ep(self, done):\n",
    "        return self.stop_(done) or (self.t+1 >= self.max_t-1 and self.store)\n",
    "\n",
    "    def stop_(self,done):\n",
    "        if done:\n",
    "            self.skipstep +=1                     # holds the count for how many steps after ep is finished (will reach n-1)\n",
    "            if self.skipstep == self.n: \n",
    "                self.t = self.t+1 - self.skipstep # returns t to its original actual count of number of steps.  it is executed before self.t+=1 in interact and hence +1 is necessary\n",
    "                self.skipstep = 0\n",
    "                return True\n",
    "            return False\n",
    "    \n",
    "        self.skipstep = 0\n",
    "        return False\n",
    "    #-----------------------------------💰 returns --------------------------------------------------\n",
    "    def G(self, τ1, τn):    # n-steps return, called during an episode   \n",
    "        \n",
    "        #if self.γ==1: return self.r[τ1:τn+1].sum() # this saves computation when no dsicount is applied\n",
    "        Gn = 0\n",
    "        for t in range(τn, τ1-1, -1): # yields τn-τ1= (τ+n)-(τ+1)= n-1 setps\n",
    "            Gn = self.γ*Gn + self.r[t] \n",
    "            \n",
    "        return Gn "
   ]
  },
  {
   "cell_type": "markdown",
   "id": "4e0b720e",
   "metadata": {},
   "source": [
    "## Online TDn \n",
    "Now we write our TDn class. It is very similar to TD except that we replace the rn+V[t+1] by the $G_{t:t+n}$. Also as long as the agent did do enough steps (n-1) we skip without doing the update."
   ]
  },
  {
   "cell_type": "code",
   "execution_count": 17,
   "id": "5b747b32",
   "metadata": {},
   "outputs": [],
   "source": [
    "class TDn(MRP):\n",
    "    \n",
    "    def init(self):\n",
    "        self.store = True # there is a way to save storage by using t%(self.n+1) but we left it for clarity\n",
    "\n",
    "    \n",
    "    # ----------------------------- 🌖 online learning ----------------------    \n",
    "    def online(self,*args):\n",
    "        τ = self.t - (self.n-1);  n=self.n\n",
    "        if τ<0: return\n",
    "        \n",
    "        # we take the min so that we do not exceed the episode limit (last step+1)\n",
    "        τn = τ+n ; τn=min(τn, self.t+1 - self.skipstep)\n",
    "        τ1 = τ+1\n",
    "        \n",
    "        sτ = self.s[τ ]\n",
    "        sn = self.s[τn]\n",
    "        done = self.done[τn]\n",
    "        \n",
    "        # n steps τ+1,..., τ+n inclusive of both ends\n",
    "        self.V[sτ] += self.α*(self.G(τ1,τn)+ (1- done)*self.γ**n *self.V[sn] - self.V[sτ])"
   ]
  },
  {
   "cell_type": "markdown",
   "id": "c1066407",
   "metadata": {},
   "source": [
    "Let us now apply TDn on our simple 5-steps random walk problem."
   ]
  },
  {
   "cell_type": "code",
   "execution_count": 18,
   "id": "b144222f",
   "metadata": {
    "scrolled": false
   },
   "outputs": [
    {
     "data": {
      "image/png": "[encoded data removed]",
      "text/plain": [
       "<Figure size 1296x216 with 2 Axes>"
      ]
     },
     "metadata": {
      "needs_background": "light"
     },
     "output_type": "display_data"
    }
   ],
   "source": [
    "np.random.seed(0)\n",
    "TDnwalk = TDn(env=randwalk(), v0=0, α=.05, n=4, episodes=100, **demoV()).interact()"
   ]
  },
  {
   "cell_type": "code",
   "execution_count": 19,
   "id": "d5aba93c",
   "metadata": {},
   "outputs": [
    {
     "data": {
      "text/plain": [
       "18"
      ]
     },
     "execution_count": 19,
     "metadata": {},
     "output_type": "execute_result"
    }
   ],
   "source": [
    "TDnwalk.t"
   ]
  },
  {
   "cell_type": "code",
   "execution_count": 20,
   "id": "3fa092ca",
   "metadata": {},
   "outputs": [
    {
     "data": {
      "text/plain": [
       "array([ 3,  7,  9, 15, 11,  5,  3,  5, 13, 27,  9,  3, 11,  3, 11,  7,  7,\n",
       "        7, 13,  3,  7,  5, 15,  7,  5, 13,  3, 23, 13,  9,  3,  7,  9, 17,\n",
       "       13, 17,  9, 13,  9,  3,  3, 29,  3, 15,  7,  3,  3, 19,  9,  3, 15,\n",
       "        3,  3,  3, 19,  3, 15,  3,  3,  9,  5,  3,  3,  7,  3,  3,  3,  5,\n",
       "        3, 11,  7, 11,  3,  5,  9,  5,  3, 19,  5,  9,  5,  3,  5,  3,  5,\n",
       "        3,  3,  9, 11,  9,  7,  5,  9,  7,  9,  3,  3, 15,  7, 19],\n",
       "      dtype=uint32)"
      ]
     },
     "execution_count": 20,
     "metadata": {},
     "output_type": "execute_result"
    }
   ],
   "source": [
    "TDnwalk.Ts"
   ]
  },
  {
   "cell_type": "markdown",
   "id": "6a2ee687",
   "metadata": {},
   "source": [
    "### TDn and MC Runs on random walk\n",
    "Let us now  see how a TDn for n=1 and n=5 as well as MC behaves on our usual 5-states random walk on average. To that end as usual we execute several runs."
   ]
  },
  {
   "cell_type": "markdown",
   "id": "29d31bad",
   "metadata": {},
   "source": [
    "from MC import MC"
   ]
  },
  {
   "cell_type": "code",
   "execution_count": 21,
   "id": "6dcb61dd",
   "metadata": {},
   "outputs": [],
   "source": [
    "def nstepTD_MC_randwalk(env=randwalk(), algorithm=TDn, alglabel='TD'):\n",
    "    plt.xlim(0, 100)\n",
    "    plt.ylim(0, .25)\n",
    "    plt.title('Empirical RMS error, averaged over states')\n",
    "    n=5\n",
    "    \n",
    "    for α in [.05, .1, .15]:\n",
    "        TDαs = Runs(algorithm=algorithm(env=env, n=1,α=α, v0=.5),  runs=100, plotE=True).interact(label='%s α= %.2f'%(alglabel,α), frmt='.-')\n",
    "    \n",
    "    for α in [.05, .1, .15]:\n",
    "        TDαs = Runs(algorithm=algorithm(env=env,n=n,α=α, v0=.5),  runs=100, plotE=True).interact(label= '%s α= %.2f n=%d'%(alglabel,α,n), frmt='-')\n",
    "\n",
    "    for α in [.01, .02, .03, .04]:\n",
    "        MCs = Runs(algorithm=MC(env=env,α=α, v0=.5),  runs=100, plotE=True).interact(label='MC α= %.2f'%α, frmt='--')"
   ]
  },
  {
   "cell_type": "markdown",
   "id": "5454f920",
   "metadata": {},
   "source": [
    "Note that 5 states random walk environment env=randwalk() is the default environment for MRPs and s we did not need to explicitly pass it in the above."
   ]
  },
  {
   "cell_type": "code",
   "execution_count": 22,
   "id": "ff8b67ee",
   "metadata": {},
   "outputs": [
    {
     "name": "stderr",
     "output_type": "stream",
     "text": [
      "100%|██████████| 100/100 [00:02<00:00, 44.10it/s]\n",
      "100%|██████████| 100/100 [00:02<00:00, 45.25it/s]\n",
      "100%|██████████| 100/100 [00:02<00:00, 45.37it/s]\n",
      "100%|██████████| 100/100 [00:02<00:00, 44.24it/s]\n",
      "100%|██████████| 100/100 [00:02<00:00, 44.24it/s]\n",
      "100%|██████████| 100/100 [00:02<00:00, 44.09it/s]\n",
      "100%|██████████| 100/100 [00:01<00:00, 74.25it/s]\n",
      "100%|██████████| 100/100 [00:01<00:00, 73.74it/s]\n",
      "100%|██████████| 100/100 [00:01<00:00, 74.52it/s]\n",
      "100%|██████████| 100/100 [00:01<00:00, 71.16it/s]\n"
     ]
    },
    {
     "data": {
      "image/png": "[encoded data removed]",
      "text/plain": [
       "<Figure size 432x288 with 1 Axes>"
      ]
     },
     "metadata": {
      "needs_background": "light"
     },
     "output_type": "display_data"
    }
   ],
   "source": [
    "nstepTD_MC_randwalk()"
   ]
  },
  {
   "cell_type": "markdown",
   "id": "4a585a8d",
   "metadata": {},
   "source": [
    "## Comparison of online n-step TD and MC for different α\n",
    "Ok, let us now study the effect of varying the hyperparameter n. n blends the horizon of all methods between bootstrapping algorithms and non-bootstrapping methods. To that end, we will apply TDn with different n values along with MC on a random walk prediction problem. This time we will use 19 states, and the goal to the left has a reward of -1, the goal on the right has a reward of 1, and all of the 19 intermediate states have a reward of 0."
   ]
  },
  {
   "cell_type": "code",
   "execution_count": 23,
   "id": "f961bc9f",
   "metadata": {},
   "outputs": [],
   "source": [
    "def nstepTD_MC_randwalk_αcompare(env=randwalk_(), algorithm=TDn, Vstar=None, runs=10, envlabel='19', \n",
    "                                 MCshow=True, alglabel='online TD'):\n",
    "    \n",
    "    steps0 = list(np.arange(.001,.01,.001))\n",
    "    steps1 = list(np.arange(.011,.2,.025))\n",
    "    steps2 = list(np.arange(.25,1.,.05))\n",
    "\n",
    "    αs = np.round(steps0 +steps1 + steps2, 2)\n",
    "    #αs = np.arange(0,1.05,.1) # quick testing\n",
    "    \n",
    "    plt.xlim(-.02, 1)\n",
    "    plt.ylim(.24, .56)\n",
    "    plt.title('n-steps %s RMS error averaged over %s states and first 10 episodes'%(alglabel,envlabel))\n",
    "    for n in [2**_ for _ in range(10)]:\n",
    "        Compare(algorithm=algorithm(env=env, v0=0, n=n, episodes=10, Vstar=Vstar), \n",
    "                              runs=runs, \n",
    "                              hyper={'α':αs}, \n",
    "                              plotE=True).compare(label='n=%d'%n)\n",
    "    if MCshow:\n",
    "        compare = Compare(algorithm=MC(env=env, v0=0, episodes=10), \n",
    "                                  runs=runs, \n",
    "                                  hyper={'α':αs}, \n",
    "                                  plotE=True).compare(label='MC ≡ TDn(n=$\\infty$)', frmt='-.')"
   ]
  },
  {
   "cell_type": "code",
   "execution_count": null,
   "id": "5281b0e5",
   "metadata": {},
   "outputs": [
    {
     "name": "stderr",
     "output_type": "stream",
     "text": [
      " 47%|████▋     | 15/32 [00:03<00:03,  4.79it/s]"
     ]
    }
   ],
   "source": [
    "figure_7_2 = nstepTD_MC_randwalk_αcompare\n",
    "figure_7_2()"
   ]
  },
  {
   "cell_type": "markdown",
   "id": "e1454035",
   "metadata": {},
   "source": [
    "Note how when n=$\\infty$ TDn converges to an MC. Hence, we could see that TDn represents the full spectrum of algorithms that completely use bootstrapping (TD) and algorithms that do not use bootstrapping (MC). It nicely blends these algorithms and lets us control bootstrapping parametrically by choosing a suitable value for the n hyperparameter."
   ]
  },
  {
   "cell_type": "markdown",
   "id": "d7a3eed6",
   "metadata": {},
   "source": [
    "## Offline TDn \n",
    "Let us now develop an offline TDn method. This method is exactly as its name suggests. We need to be mindful of going n-1 extra steps at the end because of the lag of n-1 steps at the start until the agent accumulates enough steps to obtain the $G_{t:t+n}$."
   ]
  },
  {
   "cell_type": "code",
   "execution_count": null,
   "id": "5a5cbee1",
   "metadata": {},
   "outputs": [],
   "source": [
    "class TDnf(MRP):\n",
    "\n",
    "    def init(self):\n",
    "        self.store = True # must store because it is offline\n",
    "\n",
    "    # ----------------------------- 🌘 offline TD learning ----------------------------   \n",
    "    def offline(self):\n",
    "        n=self.n        \n",
    "        for t in range(self.t+n): # T+n to reach T+n-1\n",
    "            τ  = t - (n-1)\n",
    "            if τ<0: continue\n",
    "        \n",
    "            # we take the min so that we do not exceed the episode limit (last step+1)\n",
    "            τ1 = τ+1\n",
    "            τn = τ+n ; τn=min(τn, self.t+1)\n",
    "            \n",
    "            sτ = self.s[τ ]\n",
    "            sn = self.s[τn]\n",
    "            done = self.done[τn]\n",
    "            \n",
    "            # n steps τ+1,..., τ+n inclusive of both ends\n",
    "            self.V[sτ] += self.α*(self.G(τ1,τn)+ (1- done)*self.γ**n *self.V[sn] - self.V[sτ])"
   ]
  },
  {
   "cell_type": "code",
   "execution_count": null,
   "id": "7210e713",
   "metadata": {},
   "outputs": [],
   "source": [
    "TDnwalk = TDnf(env=randwalk(), v0=0, α=.1, n=4, episodes=100, seed=0, **demoV()).interact()"
   ]
  },
  {
   "cell_type": "code",
   "execution_count": null,
   "id": "80fd028d",
   "metadata": {},
   "outputs": [],
   "source": [
    "TDnwalk.t"
   ]
  },
  {
   "cell_type": "code",
   "execution_count": null,
   "id": "90e6bfd5",
   "metadata": {},
   "outputs": [],
   "source": [
    "TDnwalk.Ts"
   ]
  },
  {
   "cell_type": "code",
   "execution_count": null,
   "id": "cf675234",
   "metadata": {
    "scrolled": false
   },
   "outputs": [],
   "source": [
    "TDnwalk = TDnf(env=randwalk(), v0=0, α=.1, n=4, episodes=100, seed=0, **demoV()).interact()"
   ]
  },
  {
   "cell_type": "code",
   "execution_count": null,
   "id": "7c198393",
   "metadata": {},
   "outputs": [],
   "source": [
    "TDnwalk.t"
   ]
  },
  {
   "cell_type": "code",
   "execution_count": null,
   "id": "eb48927d",
   "metadata": {},
   "outputs": [],
   "source": [
    "TDnwalk.Ts"
   ]
  },
  {
   "cell_type": "markdown",
   "id": "15ea997f",
   "metadata": {},
   "source": [
    "### TDf and TDnf for n=1"
   ]
  },
  {
   "cell_type": "code",
   "execution_count": null,
   "id": "4ea989eb",
   "metadata": {
    "scrolled": false
   },
   "outputs": [],
   "source": [
    "TDnwalk = TDf(env=randwalk_(), v0=0, α=.8, episodes=10, seed=0, **demoV()).interact()"
   ]
  },
  {
   "cell_type": "code",
   "execution_count": null,
   "id": "50dcf585",
   "metadata": {},
   "outputs": [],
   "source": [
    "TDnwalk = TDnf(env=randwalk_(), v0=0, α=.8, n=1, episodes=10, seed=0, **demoV()).interact()"
   ]
  },
  {
   "cell_type": "markdown",
   "id": "86902592",
   "metadata": {},
   "source": [
    "### TDf , TDnf and MC Runs on random walk\n",
    "Let us now  see how a TDnf for n=1 and n=5 as well as MC behaves on our usual 5-states random walk on average. To that end as usual we execute several runs."
   ]
  },
  {
   "cell_type": "code",
   "execution_count": null,
   "id": "9ca0a4b9",
   "metadata": {},
   "outputs": [],
   "source": [
    "nstepTD_MC_randwalk(algorithm=TDnf, alglabel='TDf')"
   ]
  },
  {
   "cell_type": "markdown",
   "id": "ea1f945b",
   "metadata": {},
   "source": [
    "Let us now double check that both TDnf and TDf are identical for n=1."
   ]
  },
  {
   "cell_type": "code",
   "execution_count": null,
   "id": "7054df79",
   "metadata": {},
   "outputs": [],
   "source": [
    "αs = np.arange(0,1.05,.1)\n",
    "n=1\n",
    "compareTDf = Compare(algorithm=TDf(env=randwalk_(), v0=0, episodes=10), runs=2, hyper={'α':αs}, \n",
    "                     plotE=True).compare(label='TD offline')\n",
    "\n",
    "compareTDnf = Compare(algorithm=TDnf(env=randwalk_(), v0=0, n=n, episodes=10), runs=2, hyper={'α':αs}, \n",
    "                      plotE=True).compare(label='TDn offline n=%d'%n)"
   ]
  },
  {
   "cell_type": "markdown",
   "id": "8eb72f0a",
   "metadata": {},
   "source": [
    "## Offline TDnf α comparison \n",
    "Let us now compare how offline n-step TD (TDnf) performs with different values for α (learning-step hyper parameter."
   ]
  },
  {
   "cell_type": "code",
   "execution_count": null,
   "id": "8f03e4c2",
   "metadata": {},
   "outputs": [],
   "source": [
    "nstepTD_MC_randwalk_αcompare(algorithm=TDnf, alglabel='offline TD')"
   ]
  },
  {
   "cell_type": "markdown",
   "id": "6c882716",
   "metadata": {},
   "source": [
    "# n-step Sarsa on-policy Control"
   ]
  },
  {
   "cell_type": "markdown",
   "id": "c6b30229",
   "metadata": {},
   "source": [
    "As you can see, we have imported the class factory MDP to make it inherit the new MRP class that we defined in this lesson (which contains functions to deal with multiple steps updates) without having to restate the definition of MDP again."
   ]
  },
  {
   "cell_type": "code",
   "execution_count": null,
   "id": "3f05656c",
   "metadata": {},
   "outputs": [],
   "source": [
    "class Sarsan(MDP(MRP)):\n",
    "\n",
    "    def init(self):\n",
    "        self.store = True        # although online but we need to access *some* of earlier steps,\n",
    "        self.step = self.step_an # for Sarsa we want to decide the next action in time step t\n",
    "    \n",
    "    # ----------------------------- 🌖 online learning ----------------------    \n",
    "    def online(self,*args):\n",
    "        τ = self.t - (self.n-1);  n=self.n\n",
    "        if τ<0: return\n",
    "        \n",
    "        # we take the min so that we do not exceed the episode limit (last step+1)\n",
    "        τ1 = τ+1\n",
    "        τn = τ+n ; τn=min(τn, self.t+1 - self.skipstep)\n",
    "        \n",
    "        sτ = self.s[τ];  aτ = self.a[τ]\n",
    "        sn = self.s[τn]; an = self.a[τn]\n",
    "        done = self.done[τn]\n",
    "        \n",
    "        # n steps τ+1,..., τ+n inclusive of both ends\n",
    "        self.Q[sτ,aτ] += self.α*(self.G(τ1,τn) + (1- done)*self.γ**n *self.Q[sn,an] - self.Q[sτ,aτ])"
   ]
  },
  {
   "cell_type": "code",
   "execution_count": null,
   "id": "57b1f7da",
   "metadata": {
    "scrolled": true
   },
   "outputs": [],
   "source": [
    "#nsarsa = Sarsan(env=grid(), n=1, α=.4, episodes=50, seed=0,  **demoQ()).interact()\n",
    "grid"
   ]
  },
  {
   "cell_type": "code",
   "execution_count": null,
   "id": "485c2d3c",
   "metadata": {},
   "outputs": [],
   "source": [
    "for seed in range(100):\n",
    "    nsarsa = Sarsan(env=grid(), α=.4, seed=seed, episodes=1).interact()\n",
    "    if len(nsarsa.env.trace) <15: print(seed)"
   ]
  },
  {
   "cell_type": "code",
   "execution_count": null,
   "id": "b79577b6",
   "metadata": {},
   "outputs": [],
   "source": [
    "def figure_7_4(seed=16): \n",
    "    \n",
    "    # draw the path(trace) that the agent took to reach the goal\n",
    "    nsarsa = Sarsan(env=grid(), α=.4, seed=seed, episodes=1).interact()\n",
    "    nsarsa.env.render(underhood='trace', subplot=131, animate=False, label='path of agent')\n",
    "\n",
    "    # now draw the effect of learning to estimate the Q action-value function for n=1\n",
    "    nsarsa = Sarsan(env=grid(), α=.4, seed=seed, episodes=1, underhood='maxQ').interact() \n",
    "    nsarsa.render(subplot=132, animate=False, label='action-value increassed by 1-steps Sarsa\\n')\n",
    "    \n",
    "    n=5 # try 10\n",
    "    # now draw the effect of learning to estimate the Q action-value function for n=10\n",
    "    nsarsa = Sarsan(env=grid(), n=n, α=.4, seed=seed, episodes=1, underhood='maxQ').interact()    \n",
    "    nsarsa.render(subplot=133, animate=False, label='action-value increassed by %d-steps Sarsa\\n'%n)\n",
    "\n",
    "figure_7_4()"
   ]
  },
  {
   "cell_type": "code",
   "execution_count": null,
   "id": "89bf191c",
   "metadata": {},
   "outputs": [],
   "source": [
    "sarsa = Sarsa(env=maze(reward='reward1'),  α=.2, episodes=100, seed=10, **demoQ()).interact()\n",
    "# sarsa = Sarsan(env=maze(reward='reward1'), n=1, α=.2, episodes=100, seed=10, **demoQ()).interact() # same as above"
   ]
  },
  {
   "cell_type": "code",
   "execution_count": null,
   "id": "84e2ef8c",
   "metadata": {},
   "outputs": [],
   "source": [
    "sarsa = Sarsan(env=maze(reward='reward1'), n=10,  α=.2, episodes=100, seed=10, **demoQ()).interact()"
   ]
  },
  {
   "cell_type": "markdown",
   "id": "f2916e7e",
   "metadata": {},
   "source": [
    "Note how the agent reaches a better policy in less number of episodes, i.e. it converges faster when using n-step method. At the end it counted a extra n-1 steps to finish the set of n-1 updates needed at the end of the episode."
   ]
  },
  {
   "cell_type": "markdown",
   "id": "ed3319f6",
   "metadata": {},
   "source": [
    "## n-step Q-learning\n",
    "Can we implement an n-step Q-learning algorithm?\n",
    "\n",
    "If we think about this question superficially, from an implementation perspective, the answer seems simple. All we have to do is to replace the $γ^n*Q[sn,an]$ with $γ^n*Q[sn].max()$. However, this is *not the correct* way to implement the n-step off-policy Q-learning. \n",
    "\n",
    "Remember that Q-learning is an action-value learning method that uses TD learning off-policy, where we learn about a greedy policy while following a more exploratory policy, such as ε-greedy. To be able to generalise the n-step TD update to an off-policy action-value method, we need to take into account the following. In each step of the n-steps that we are considering, we need our method to learn what the agent *would have done* if it had followed a π=greedy policy (instead of the b=εgreedy). \n",
    "\n",
    "One way to compensate for this discrepancy between the behavioural policy b and the target policy π would be to multiply each reward of the $G_{t:t+n}$ with the importance sampling ratio. This ratio divides the probability of taking action *a* from policy π by the probability of taking the same action according to policy b. Importance sampling methods suffer from high variance, and usually, they are not practical for control.\n",
    "\n",
    "Another approach is by using expectation instead of importance sampling. In this case, we use a similar idea to the expected Sarsa but in an off-policy context, where we alter the calculation of $G_{t:t+n}$ in a way that sums over the different actions probabilities in each time step (except the first). This results in an algorithm called the Tree Backup Algorithm.\n",
    "\n",
    "Finally, we can blend the importance sampling with expectation using a hyperparameter σ which results in the Q(σ) control algorithm. All of the above three approaches are outside the scope of our coverage, and there is a theory behind this choice. See section 7.3 of our textbook.\n"
   ]
  },
  {
   "cell_type": "markdown",
   "id": "f7875394",
   "metadata": {},
   "source": [
    "## Conclusion\n",
    "In this lesson, we have covered the n-step TD algorithms for prediction and control. We have seen how the different values of n represent a trade-off between full bootstrapping, as in the one-step TD (n=1), and no bootstrapping, as in the Monte Carlo algorithm (n=T the number of steps in an episode). Intermediate n values give algorithms that lie within the two extremes of the spectrum of bootstrapping algorithms. We also find that the best value is usually an intermediate value >1. As we have seen, creating such an algorithm is challenging and has its drawbacks in terms of implementation. In later lessons, we will see how to achieve similar results without waiting or counting steps. We will adopt a bootstrapping variation mechanism which turns the n-step countable mechanism into an infinite continuum of value by adopting the $\\lambda$ hyperparameter that takes a real value instead of integers."
   ]
  },
  {
   "cell_type": "markdown",
   "id": "14d2a8cd",
   "metadata": {},
   "source": [
    "## Your turn\n",
    "1. implement the incorrect n-step Q-learning and apply it on the maze problem and see how it performs.\n",
    "2. implement n-step Expected Sarsa and compare its performance with the n-step Sarsa.\n"
   ]
  },
  {
   "cell_type": "markdown",
   "id": "7e0a0824",
   "metadata": {},
   "source": [
    "## Challenge\n",
    "Try to implement the correct off-policy n-step Sarsa presented in page 149 of the textbook."
   ]
  }
 ],
 "metadata": {
  "kernelspec": {
   "display_name": "Python 3 (ipykernel)",
   "language": "python",
   "name": "python3"
  },
  "language_info": {
   "codemirror_mode": {
    "name": "ipython",
    "version": 3
   },
   "file_extension": ".py",
   "mimetype": "text/x-python",
   "name": "python",
   "nbconvert_exporter": "python",
   "pygments_lexer": "ipython3",
   "version": "3.9.7"
  }
 },
 "nbformat": 4,
 "nbformat_minor": 5
}
