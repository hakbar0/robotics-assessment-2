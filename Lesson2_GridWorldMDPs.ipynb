{
 "cells": [
  {
   "cell_type": "markdown",
   "id": "c17794d0",
   "metadata": {},
   "source": [
    "Author: Abdulrahman Altahhan, Jan 2023.\n",
    "\n",
    "The notebook use a library of functionality in RL that aims for simplicity and general insight into how algorithms work, these libraries are written from scratch using standard python libraries (numpy, matplotlib etc.).\n",
    "Please note that you will need to take a permission from the author to use the code for research, commercially or otherwise."
   ]
  },
  {
   "cell_type": "markdown",
   "id": "c3f5efa6",
   "metadata": {},
   "source": [
    "# Lesson 2: Grid World Environment Class"
   ]
  },
  {
   "cell_type": "markdown",
   "id": "b971de74",
   "metadata": {},
   "source": [
    "In this lesson we cover various grid world environments that are tackled as examples in the accompanying text book available online [here](http://incompleteideas.net/book/RLbook2020.pdf). Please note that we explain the ideas of this topic from a practical perspective and not from a theoretical perspective which is already covered in the textbook."
   ]
  },
  {
   "cell_type": "markdown",
   "id": "70beef74",
   "metadata": {},
   "source": [
    "**Learning outcomes**\n",
    "1. become familiar with the different types of grid world problems that we will tackle in our units\n",
    "2. become familiar with the way we assign a reward to an environment\n",
    "3. be able to execute actions in a grid world and observe the result\n",
    "4. be able to to visualise a policy and its action-value function"
   ]
  },
  {
   "cell_type": "markdown",
   "id": "f4748b1c",
   "metadata": {},
   "source": [
    "**Reading**:\n",
    "The accompanying reading of this lesson is **chapter 3** from our text book by Sutton and Barto available online [here](http://incompleteideas.net/book/RLbook2020.pdf). "
   ]
  },
  {
   "cell_type": "code",
   "execution_count": 46,
   "id": "74f6bf1b",
   "metadata": {
    "ExecuteTime": {
     "end_time": "2023-02-26T12:56:19.077331Z",
     "start_time": "2023-02-26T12:56:17.907041Z"
    }
   },
   "outputs": [],
   "source": [
    "%matplotlib inline"
   ]
  },
  {
   "cell_type": "code",
   "execution_count": 47,
   "id": "6e77ba24",
   "metadata": {
    "ExecuteTime": {
     "end_time": "2023-02-26T12:56:19.089718Z",
     "start_time": "2023-02-26T12:56:19.079649Z"
    }
   },
   "outputs": [],
   "source": [
    "import numpy as np\n",
    "import random\n",
    "import time\n",
    "import math\n",
    "import io\n",
    "import sys\n",
    "import os\n",
    "\n",
    "\n",
    "from IPython.display import clear_output\n",
    "import matplotlib.pyplot as plt\n",
    "import matplotlib.transforms as mtransforms\n",
    "from matplotlib import colors\n",
    "from numpy.random import rand, seed, randint, choice\n",
    "from random import choices, sample\n",
    "from tqdm import trange, tqdm"
   ]
  },
  {
   "cell_type": "markdown",
   "id": "2d056945",
   "metadata": {},
   "source": [
    "In a grid world, we have a set of cells that the agent can move between them inside a box. The agent can move left, right, up and down. We can also allow the agent to move diagonally, but this is uncommon. \n",
    "\n",
    "Below we develop our Grid class. We needed to be as efficient as possible, and hence we have chosen to represent each state by its count, where we count from the bottom left corner up to the right top corner, and we start with 0 up to nS-1 where nS is the number of states. This will allow us to streamline the process of accessing and storing a state and will be of at most efficiency. We also deal with actions similarly, i.e. each action of the nA actions is given an index 0..nA-1. For the usual grid, this means 0,1,2,3 for actions left, right, up and down. We represent a 2-d grid by a 1-d array, and so care must be taken on how the agent moves between cells. \n",
    "\n",
    "Moving left or right seems easy because we can add or subtract from the *current* state. But when the agent is on the edge of the box, we cannot allow for an action that takes it out of the box. So if the agent is on the far right, we cannot allow it to go further to the right. To account for this issue, we have written a valid() function to validate an action. Moving up and down is similar, but we need to add and subtract a full row, which is how many columns we have in our grid. the valid() function checks for the current state and what would be the next state, and it knows that an agent will overstep the boundary as follows: if s%cols!=0, this means that the agent was not on the left edge and executing a right action (s+a)%cols==0 will take it to the left edge. This means it was on the right edge and wanted to move off this right edge. Other checks are similar. We have also accounted for moving diagonally so the agent will not overstep the boundaries.\n",
    "\n",
    "We have also accounted for different reward schemes that we might want to use later in other lessons. These are formulated as an array of 4 elements [intermediate, goal1, goal2, cliff] the first reward represents the reward the agent obtains if it is on any intermediate cell. Intermediate cells are non-terminal cells. Goals or terminal states are those that a task would be completed if the agent steps into them. By setting the goals array, we can decide which cells are terminal/goals. As we can see, there are two goals, this will allow us to deal with all the classical problems we will tackle in our RL treatments, but we could have set up more. So, our reward array's second and third elements are for the goals. The last entry is for a cliff. A cliff cell is a special type of non-terminal cell where the agent will emulate falling off a cliff and usually is given a high negative reward and then will be hijacked and put in its start position when it steps into these types of cells. These types of cells are non-terminal in the sense that the agent did not achieve the task when it went to them, but they provoke a reset of the agent position with a large negative reward.\n",
    "\n",
    "The most important function in our class is the step(a) function. An agent will take a specific action in the environment via this function. Via this function, we return the reward from our environment and a flag (done) indicating whether the task is accomplished. This makes our environment compatible with the classic setup of an OpenAI Gym Atari games, which we deal with towards the end of our RL treatment."
   ]
  },
  {
   "cell_type": "code",
   "execution_count": 1,
   "id": "ba4630a1",
   "metadata": {
    "ExecuteTime": {
     "end_time": "2023-02-26T12:56:19.101576Z",
     "start_time": "2023-02-26T12:56:19.091037Z"
    },
    "code_folding": [
     1,
     28,
     33,
     36,
     65,
     69
    ]
   },
   "outputs": [],
   "source": [
    "class Grid:\n",
    "    def __init__(self, gridsize=[10,20], nA=4, s0=3*9, goals=None, Vstar=None):\n",
    "        self.rows = gridsize[0]\n",
    "        self.cols = gridsize[1]\n",
    "        self.nS = self.cols*self.rows # we assume cells IDs go left to right and top down\n",
    "        self.goals = [self.nS-1, self.nS-1] if goals is None else ([goals[0], goals[0]] if len(goals)==1 else goals)\n",
    "        self.Vstar = Vstar # optimal state value, needed for some of the environments\n",
    "        self.s0 = s0\n",
    "        self.s = s0\n",
    "        self.trace = [self.s0]\n",
    "        \n",
    "        # actions ---------------------------------------------------------------------       \n",
    "        cols = self.cols\n",
    "        self.actions_2 = [-1, +1]\n",
    "        self.actions_4 = [-1, +1, -cols, +cols]     # left, right, down and up\n",
    "        self.actions_8 = [-1, +1, -cols, +cols, -1-cols, -1+cols, 1-cols, 1+cols] # left-down, left-up, right-down, right-up\n",
    " \n",
    "        self.nA = nA\n",
    "        if nA==2: self.actions = self.actions_2\n",
    "        if nA==4: self.actions = self.actions_4\n",
    "        if nA==8: self.actions = self.actions_8\n",
    "        \n",
    "        # rewards types-----------------------------------------------------------------\n",
    "        self.nR = 4\n",
    "        self.rewards = [0, 1, 0, -100] # intermediate, goal1, goal2, cliff\n",
    "        self.obstacles, self.cliffs = [], [] # lists that will be checked when doing actions\n",
    "        \n",
    "        \n",
    "    def reset(self, withtrace=True):\n",
    "        self.s = self.s0\n",
    "        if withtrace: self.trace = [self.s0]\n",
    "        return self.s_()\n",
    "    #-----------------------------------------rewards related-------------------------------------------\n",
    "    def rewards_set(self):\n",
    "        return np.array(list(set(self.rewards)))\n",
    "        \n",
    "    def reward(self):\n",
    "        stype = self.stype()\n",
    "        reward = self.rewards[stype]\n",
    "        if stype==3: self.reset(False)    # s in cliffs\n",
    "        return reward, 2>=stype>=1        # either at goal1 or goal2\n",
    "    \n",
    "    #-----------------------------------------actions related-------------------------------------------\n",
    "    def invalid(self, s,a):\n",
    "        cols = self.cols\n",
    "        # invalid moves are \n",
    "        # 1. off grid boundaries\n",
    "        # 2. off the right edge (last and is for right up and down diagonal actions)\n",
    "        # 3. off the left edge  (last and is for left  up and down diagonal actions)\n",
    "        # 4. into an obstacle\n",
    "        return      not(0<=(s+a)<self.nS) \\\n",
    "                    or (s%cols!=0 and (s+a)%cols==0 and (a==1 or a==cols+1 or a==-cols+1))  \\\n",
    "                    or (s%cols==0 and (s+a)%cols!=0 and (a==-1 or a==cols-1 or a==-cols-1)) \\\n",
    "                    or (s+a) in self.obstacles\n",
    "\n",
    "    def step(self, a, *args):\n",
    "        a = self.actions[a]\n",
    "        if not self.invalid(self.s,a): self.s += a\n",
    "        \n",
    "        self.trace.append(self.s)\n",
    "        reward, done = self.reward()       # must be done in this order for the cliff reset to work properly\n",
    "        return self.s_(), reward, done, {} # empty dict for compatibility\n",
    "    \n",
    "    #-----------------------------------------state related-------------------------------------------\n",
    "    # useful for inheritance, observation can be a state (index) or a state representation (vector or image)\n",
    "    def s_(self):\n",
    "        return self.s\n",
    "    \n",
    "    # returns the number of states that are available for the agent to occupy\n",
    "    def nS_available(self):\n",
    "        return self.nS - len(self.obstacles)\n",
    "    \n",
    "    #-----------------------------------------goals related-------------------------------------------\n",
    "    # returns the type of the current state (0: intermediate, 1 or 2 at goal1 or goal2, 3:off cliff)\n",
    "    def stype(self):\n",
    "        s, goals, cliffs = self.s, self.goals, self.cliffs\n",
    "        # the order is significant and must not be changed\n",
    "        return [s not in goals+cliffs, s==goals[0], s==goals[1], s in cliffs].index(True)\n",
    "    \n",
    "    def isatgoal(self):\n",
    "        return self.stype() in [1,2] # either at goal1 or goal2\n"
   ]
  },
  {
   "cell_type": "markdown",
   "id": "96e6eace",
   "metadata": {},
   "source": [
    "In a sense, this is the bare-bones class we can readily use to tackle the different problems ahead of us.  Let us test this class to appreciate what it is doing. We have just used a simple state representation that gives each state an index(count). The actions are extremely efficient and boil down to adding or subtracting a number of cell positions depending on the action. If the action is right, then we add 1. If it is left, we subtract 1. When we want the agent to move up, we add one row (number of cols in the grid), and when we want the agent to move down, we subtract cols. Moving diagonally is similar, but we need to combine moving up and left, down and left, up and right, and down and right. Checking if the move is allowed (new state is allowed) as per the agent's current state consists of checking for 4 cases. \n",
    "1. the agent is not bypassing outside the grid to boundaries (top or bottom)\n",
    "2. the agent is not bypassing the right edge of the 2-d grid\n",
    "3. the agent is not bypassing the left edge of the 2-d grid\n",
    "4. the agent is not stepping into an obstacle\n",
    "\n",
    "The set of possible rewards is 4; one for 2 possible goals (terminal states), one for intermediate (non-terminal) states and one special for cliff falling. The class caller can assign one of the special rewards by passing its name, and the setattr() function will handle the rest."
   ]
  },
  {
   "cell_type": "code",
   "execution_count": 49,
   "id": "e911592b",
   "metadata": {
    "ExecuteTime": {
     "end_time": "2023-02-26T12:56:19.463051Z",
     "start_time": "2023-02-26T12:56:19.460183Z"
    }
   },
   "outputs": [
    {
     "name": "stdout",
     "output_type": "stream",
     "text": [
      "27\n",
      "28\n"
     ]
    }
   ],
   "source": [
    "gw = Grid()\n",
    "print(gw.s)\n",
    "gw.step(1) # move right\n",
    "print(gw.s)"
   ]
  },
  {
   "cell_type": "code",
   "execution_count": 50,
   "id": "0fff6889",
   "metadata": {
    "ExecuteTime": {
     "end_time": "2023-02-26T12:56:21.516335Z",
     "start_time": "2023-02-26T12:56:21.512867Z"
    }
   },
   "outputs": [
    {
     "name": "stdout",
     "output_type": "stream",
     "text": [
      "[27, 1, 2, 3, 4, 5, 6, 7, 8, 8, 8]\n"
     ]
    }
   ],
   "source": [
    "gw = Grid()\n",
    "def go_far_right():\n",
    "    gw.s = 0\n",
    "    for s in range(gw.cols+1):\n",
    "        gw.step(1)\n",
    "\n",
    "    print(gw.trace)\n",
    "    \n",
    "go_far_right()"
   ]
  },
  {
   "cell_type": "markdown",
   "id": "e8a077f7",
   "metadata": {},
   "source": [
    "Once the agent hits the right wall it stays there. To see that we adjust the function to overshoot the number of possible cells (cols in this case)."
   ]
  },
  {
   "cell_type": "code",
   "execution_count": 51,
   "id": "edcfc6d5",
   "metadata": {
    "ExecuteTime": {
     "end_time": "2023-02-26T12:56:24.787383Z",
     "start_time": "2023-02-26T12:56:24.783947Z"
    }
   },
   "outputs": [
    {
     "name": "stdout",
     "output_type": "stream",
     "text": [
      "[27, 1, 2, 3, 4, 5, 6, 7, 8, 8, 8, 1, 2, 3, 4, 5, 6, 7, 8, 8, 8]\n"
     ]
    }
   ],
   "source": [
    "def go_far_right():\n",
    "    gw.s = 0\n",
    "    for s in range(gw.cols+1):\n",
    "        gw.step(1)\n",
    "\n",
    "    print(gw.trace)\n",
    "    \n",
    "go_far_right()"
   ]
  },
  {
   "cell_type": "markdown",
   "id": "295e49c3",
   "metadata": {},
   "source": [
    "As we can see once the agent hits the right wall in state 8 it stays there. Note that the new trace is added to the original trace. If you want to create a new trace we can reset the Grid variable gw or we can reset the gw.trace variable."
   ]
  },
  {
   "cell_type": "code",
   "execution_count": 52,
   "id": "71caad11",
   "metadata": {
    "ExecuteTime": {
     "end_time": "2023-02-26T12:56:27.699314Z",
     "start_time": "2023-02-26T12:56:27.696431Z"
    }
   },
   "outputs": [
    {
     "name": "stdout",
     "output_type": "stream",
     "text": [
      "[27, 1, 2, 3, 4, 5, 6, 7, 8, 8, 8]\n"
     ]
    }
   ],
   "source": [
    "gw = Grid()\n",
    "go_far_right()"
   ]
  },
  {
   "cell_type": "markdown",
   "id": "ea40f51d",
   "metadata": {},
   "source": [
    "## Different Grid Styles\n",
    "Below we update the Grid class. In all of our treatments we will follow a trend of using the same class name if possible for the child and parent class so that we do not need to deal with different class names when we import theses classes. In this case we have Grid(Grid), which means the new Gris class inherits from the previous(above) Grid class. This allows us to gradually build the capabilities of our classes in a concise and manageable manner.\n"
   ]
  },
  {
   "cell_type": "code",
   "execution_count": 1,
   "id": "78a8298d",
   "metadata": {},
   "outputs": [],
   "source": []
  },
  {
   "cell_type": "code",
   "execution_count": 1,
   "id": "c3dff254",
   "metadata": {
    "ExecuteTime": {
     "end_time": "2023-02-26T12:56:33.484989Z",
     "start_time": "2023-02-26T12:56:33.475368Z"
    }
   },
   "outputs": [
    {
     "ename": "NameError",
     "evalue": "name 'Grid' is not defined",
     "output_type": "error",
     "traceback": [
      "\u001b[1;31m---------------------------------------------------------------------------\u001b[0m",
      "\u001b[1;31mNameError\u001b[0m                                 Traceback (most recent call last)",
      "\u001b[1;32m~\\AppData\\Local\\Temp/ipykernel_2320/2027343472.py\u001b[0m in \u001b[0;36m<module>\u001b[1;34m\u001b[0m\n\u001b[1;32m----> 1\u001b[1;33m \u001b[1;32mclass\u001b[0m \u001b[0mGrid\u001b[0m\u001b[1;33m(\u001b[0m\u001b[0mGrid\u001b[0m\u001b[1;33m)\u001b[0m\u001b[1;33m:\u001b[0m\u001b[1;33m\u001b[0m\u001b[1;33m\u001b[0m\u001b[0m\n\u001b[0m\u001b[0;32m      2\u001b[0m     \u001b[1;32mdef\u001b[0m \u001b[0m__init__\u001b[0m\u001b[1;33m(\u001b[0m\u001b[0mself\u001b[0m\u001b[1;33m,\u001b[0m \u001b[0mreward\u001b[0m\u001b[1;33m=\u001b[0m\u001b[1;34m''\u001b[0m\u001b[1;33m,\u001b[0m  \u001b[0mstyle\u001b[0m\u001b[1;33m=\u001b[0m\u001b[1;34m''\u001b[0m\u001b[1;33m,\u001b[0m \u001b[1;33m**\u001b[0m\u001b[0mkw\u001b[0m\u001b[1;33m)\u001b[0m\u001b[1;33m:\u001b[0m\u001b[1;33m\u001b[0m\u001b[1;33m\u001b[0m\u001b[0m\n\u001b[0;32m      3\u001b[0m         \u001b[0msuper\u001b[0m\u001b[1;33m(\u001b[0m\u001b[1;33m)\u001b[0m\u001b[1;33m.\u001b[0m\u001b[0m__init__\u001b[0m\u001b[1;33m(\u001b[0m\u001b[1;33m**\u001b[0m\u001b[0mkw\u001b[0m\u001b[1;33m)\u001b[0m\u001b[1;33m\u001b[0m\u001b[1;33m\u001b[0m\u001b[0m\n\u001b[0;32m      4\u001b[0m \u001b[1;33m\u001b[0m\u001b[0m\n\u001b[0;32m      5\u001b[0m         \u001b[1;31m# explicit rewards for[intermediate,goal0,goal1, cliff] states\u001b[0m\u001b[1;33m\u001b[0m\u001b[1;33m\u001b[0m\u001b[0m\n",
      "\u001b[1;31mNameError\u001b[0m: name 'Grid' is not defined"
     ]
    }
   ],
   "source": [
    "class Grid(Grid):\n",
    "    def __init__(self, reward='',  style='', **kw):\n",
    "        super().__init__(**kw)\n",
    "    \n",
    "        # explicit rewards for[intermediate,goal0,goal1, cliff] states\n",
    "        self.reward_    = [0,    1,   0, -100] # this is the default value for the rewards\n",
    "        self.cliffwalk  = [-1,  -1,  -1, -100]\n",
    "        self.randwalk   = [ 0,   0,   1,    0]\n",
    "        self.randwalk_  = [ 0,  -1,   1,    0]\n",
    "        self.reward0    = [-1,   0,   0,   -1]\n",
    "        self.reward_1   = [-1,  -1,  -1,   -1]\n",
    "        self.reward1    = [-1,   1,   1,   -1]\n",
    "        self.reward10   = [-1,  10,  10,   -1]\n",
    "        self.reward100  = [-1, 100, 100,   -1]\n",
    "        \n",
    "\n",
    "        if reward: self.rewards  = getattr(self, reward)\n",
    "        self.style = style\n",
    "        \n",
    "        # accommodating grids styles -------------------------------------------------------------\n",
    "        self.X, self.Y = None, None\n",
    "        self.Obstacles = self.Cliffs = 0 # np arrays for display only, related to self.obstacles, self.cliffs\n",
    "        self.wind = [0]*10               # [0,0,0,0,0,0,0,0,0,0]\n",
    "        \n",
    "        if self.style=='cliff':\n",
    "            self.Cliffs = None           # for displaying only, to be filled when render() is called\n",
    "            self.cliffs = list(range(1,self.cols-1))\n",
    "            \n",
    "        elif self.style=='maze':\n",
    "            self.Obstacles = None        # for displaying only, to be filled when render() is called\n",
    "            rows = self.rows\n",
    "            cols = self.cols\n",
    "            midc = int(cols/2)\n",
    "            \n",
    "            rows = 35\n",
    "            cols = 35\n",
    "\n",
    "            obstacles = [\n",
    "            *list(range(0, 2+(rows-1)*cols, cols)),\n",
    "            *list(range(1, 2+(rows-1)*cols, cols)),\n",
    "            *list(range(34, -2+(rows+1)*cols, cols)),\n",
    "            *list(range(33, -2+(rows+1)*cols, cols)),\n",
    "            *list(range(0, 34)),\n",
    "            *list(range(35, 69)),\n",
    "            *list(range(1190, 1224)),\n",
    "            *list(range(1155, 1189)),\n",
    "            *list(range(630, 639)),\n",
    "            *list(range(665, 674)),\n",
    "            *list(range(700, 709)),\n",
    "            *list(range(1028, 1039)),\n",
    "            *list(range(993, 1004)),\n",
    "            *list(range(958, 969)),\n",
    "            *list(range(574, 583)),\n",
    "            *list(range(539, 548)),\n",
    "            *list(range(504, 513)),\n",
    "            *list(range(251, 260)),\n",
    "            *list(range(286, 295)),\n",
    "            *list(range(321, 330)),\n",
    "            *list(range(271, 279)),\n",
    "            *list(range(306, 314)),\n",
    "            *list(range(341, 349)),\n",
    "            *list(range(915, 2+(rows-1)*cols, cols)),\n",
    "            *list(range(916, 2+(rows-1)*cols, cols)),\n",
    "            *list(range(917, 2+(rows-1)*cols, cols)),\n",
    "            *list(range(727, 1077, cols)),\n",
    "            *list(range(728, 1078, cols)),\n",
    "            *list(range(729, 1079, cols)),\n",
    "            *list(range(20, 300, cols)),\n",
    "            *list(range(19, 299, cols)),\n",
    "            *list(range(18, 298, cols))\n",
    "            ]\n",
    "            \n",
    "            ## WALLS\n",
    "            # Assign the obstacles list to the instance variable\n",
    "            self.obstacles = obstacles\n",
    "\n",
    "        # upward winds intensity for each column\n",
    "        elif self.style=='windy':\n",
    "            self.wind = [0,0,0,1,1,1,2,2,1,0] # as in example 6.5 of the book\n",
    "    \n",
    "    # override the step() function so that it can deal with wind\n",
    "    def step(self, a, *args):\n",
    "        a = self.actions[a]\n",
    "        if not self.invalid(self.s,a): self.s += a\n",
    "        \n",
    "        if self.style=='windy':\n",
    "            maxwind = self.wind[self.s%self.cols]\n",
    "            for wind in range(maxwind, 0, -1): # we need to try apply all the wind or at least part of it\n",
    "                if not self.invalid(self.s, wind*self.cols): self.s += wind*self.cols; break\n",
    "        \n",
    "        self.trace.append(self.s)\n",
    "        reward, done = self.reward()       # must be done in this order for the cliff reset to work properly\n",
    "        return self.s_(), reward, done, {} # empty dict for compatibility\n"
   ]
  },
  {
   "cell_type": "code",
   "execution_count": 54,
   "id": "5b52595f",
   "metadata": {},
   "outputs": [
    {
     "data": {
      "text/plain": [
       "[0, 0, 0, 0, 0, 0, 0, 0, 0, 0]"
      ]
     },
     "execution_count": 54,
     "metadata": {},
     "output_type": "execute_result"
    }
   ],
   "source": [
    "wind = [0]*10\n",
    "wind"
   ]
  },
  {
   "cell_type": "markdown",
   "id": "912a5ad9",
   "metadata": {},
   "source": [
    "There are a few points to realise in the above class. First, The getattr(self, reward) function allows us to pass a string to the class setter ex. Grid(reward='cliffwalk') and then python will search and return a corresponding attribute or function with the same name ex. self.cliffwalk. This gives us the flexibility to pick from a set of ready-made reward schemes we can choose from via passing their names. \n",
    "\n",
    "In addition, the class accounts for different 'style's of environments, such as the 'maze', the 'cliff' and the 'windy' environments. Each one of these styles will have a specific layout in terms of the number of cells and where the goals are. We will demo each to appreciate how they look and how the agent will behave inside them.\n",
    "Note that the way we structured the obstacles in the maze allows us to change the maze size while keeping the overall structure. This will be useful when we tackle planning algorithms.\n",
    "\n",
    "Finally, due to the wind adding to the displacement of the robot, we had to override the step(a) function. The function checks the validity of an action and then attempts to add as much of the wind displacement as the grid boundaries allow."
   ]
  },
  {
   "cell_type": "markdown",
   "id": "2b935203",
   "metadata": {},
   "source": [
    "## Visualising the Grid"
   ]
  },
  {
   "cell_type": "markdown",
   "id": "83b26347",
   "metadata": {},
   "source": [
    "Ok, dealing with the bare minimum grid without visualisation makes it difficult to observe the behaviour of an agent. Now we add useful set of visualisation routines to make this possible. \n",
    "\n",
    "This is will add an overhead so we try to minimise it by only initialising and calling when a render() function is called. \n",
    "\n",
    "Below we show an animation example which is based on what we can do in a notebook in contrast with a python standalone code."
   ]
  },
  {
   "cell_type": "code",
   "execution_count": 55,
   "id": "4da44286",
   "metadata": {},
   "outputs": [
    {
     "data": {
      "image/png": "[encoded data removed]",
      "text/plain": [
       "<Figure size 432x288 with 1 Axes>"
      ]
     },
     "metadata": {
      "needs_background": "light"
     },
     "output_type": "display_data"
    }
   ],
   "source": [
    "n = 40\n",
    "ax0 = plt.subplot()\n",
    "ax0.set_xlim(0, n)\n",
    "ax0.set_ylim(0, n)\n",
    "# plt.gcf().set_size_inches(15, 3)\n",
    "\n",
    "for i in range(n):\n",
    "    plt.sca(ax0)\n",
    "    plt.plot(i, i,'r.')\n",
    "    clear_output(wait=True)\n",
    "    plt.show()"
   ]
  },
  {
   "cell_type": "code",
   "execution_count": 56,
   "id": "57da8eba",
   "metadata": {},
   "outputs": [
    {
     "data": {
      "text/plain": [
       "array([[0.68400627, 0.94523756, 0.18409919, 0.45627852, 0.72838094],\n",
       "       [0.70587418, 0.55730812, 0.16412863, 0.64810203, 0.45091058],\n",
       "       [0.42500424, 0.53374192, 0.19691481, 0.8012802 , 0.4366286 ]])"
      ]
     },
     "execution_count": 56,
     "metadata": {},
     "output_type": "execute_result"
    }
   ],
   "source": [
    "np.random.rand(3, 5)"
   ]
  },
  {
   "cell_type": "code",
   "execution_count": 57,
   "id": "377d0fe7",
   "metadata": {},
   "outputs": [],
   "source": [
    "class Grid(Grid):\n",
    "    def __init__(self, pause=0, figsize=None, **kw):\n",
    "        super().__init__(**kw)\n",
    "        \n",
    "        self.figsize = figsize # desired figure size        \n",
    "        self.fig = None        # figure handle, may have several subplots        \n",
    "        self.ax0 = None        # Grid subplot handle\n",
    "        \n",
    "        self.pause = pause     # pause to slow animaiton\n",
    "        self.arrows = None     # policy arrows (direction of action with max value)\n",
    "        \n",
    "        # assuming env is not dynamic, otherwise should be moved to render() near self.to_pos(self.s)\n",
    "        self.start = self.to_pos(self.s0)         \n",
    "        self.goal1 = self.to_pos(self.goals[0])\n",
    "        self.goal2 = self.to_pos(self.goals[1])\n",
    "        self.cmap = colors.ListedColormap(['w', 'darkgray'])\n",
    "\n",
    "    # state representation function that converts 1-d list of state representation into a 2-d coordinates\n",
    "    def to_pos(self, s):\n",
    "        return [s%self.cols + 1, s//self.cols + 1]\n",
    "\n",
    "    #------------------------------------------initialise------------------------------------------------- \n",
    "    def init_cells(self, cells): \n",
    "        Cells = np.zeros((self.rows+1, self.cols+1),  dtype=bool)\n",
    "        Cells[0,0] = True # to populate for drawing \n",
    "        poses = self.to_pos(np.array(cells))\n",
    "        Cells[poses[1], poses[0]] = True\n",
    "        return Cells[1:,1:]\n",
    "    \n",
    "    #------------------------------------------render ✍️-------------------------------------------------\n",
    "    # this function is to protect render() called twice for Gridi\n",
    "    def render(self, **kw):\n",
    "        self.render__(**kw)\n",
    "\n",
    "    # we have placed most of the render overhead in the render() function to keep the rest efficient.\n",
    "    # this funciton must not be called directly instead render() is to be called\n",
    "    def render__(self, underhood='', pause=None, label='', subplot=131, large=False, \n",
    "               animate=True, image=False, saveimg=False,  **kw):\n",
    "        \n",
    "        if self.figsize is None:\n",
    "            if   self.rows==1:             self.figsize = (15,.5) \n",
    "            elif underhood=='Q':           self.figsize = (20, 10)\n",
    "            elif underhood=='V' and large: self.figsize = (30, 25)\n",
    "            else:                          self.figsize = (17, 3)\n",
    "        if image: self.figsize = (17, 3) # changing the default figure size is dissallowed for games\n",
    "\n",
    "        if self.fig is None: self.fig = plt.figure(1)\n",
    "        #if self.ax0 is None: self.ax0 = plt.subplot(subplot)\n",
    "        plt.gcf().set_size_inches(self.figsize[0], self.figsize[1])\n",
    "            \n",
    "        #if   animate: self.ax0 = plt.subplot(subplot)\n",
    "        #elif image:   plt.cla() \n",
    "        self.ax0 = plt.subplot(subplot)\n",
    "        if image and not animate: plt.cla()\n",
    "           \n",
    "        \n",
    "        # get hooks for self properties\n",
    "        rows, cols = self.rows, self.cols\n",
    "        pos, start, goal1, goal2 = self.to_pos(self.s), self.start, self.goal1, self.goal2\n",
    "        \n",
    "        pause = self.pause if pause is None else pause\n",
    "        \n",
    "        # a set of properties for the grid subplot\n",
    "        \n",
    "        prop = {'xticks': np.linspace(0, cols, cols+1),     'xticklabels':[],\n",
    "                'yticks': np.linspace(0, rows, rows+1)+.01, 'yticklabels':[],\n",
    "                'xlim':(0, cols), 'ylim':(0, rows), 'xlabel': label} # useful info\n",
    "        self.ax0.update(prop)\n",
    "        self.ax0.tick_params(bottom=False, left=False, labelbottom=False, labelleft=False)\n",
    "        if self.style not in ['maze', 'cliff']: self.ax0.grid(True)\n",
    "\n",
    "        # robot visuals :-)\n",
    "        mrgn = .5\n",
    "        eyes = '˚-˚' if underhood!='Q' else '' \n",
    "        body = 'ro'  if underhood!='Q' else 'co'\n",
    "        \n",
    "        # plot goals and start state\n",
    "        for (x,y), s in zip([goal1, goal2, start], ['G', 'G', 'S']):\n",
    "            self.ax0.text(x-mrgn, y-mrgn, s, fontsize=14)\n",
    "        \n",
    "        # plot robot\n",
    "        self.ax0.text(pos[0]-mrgn-.2, pos[1]-mrgn-.15, eyes, fontsize=10)\n",
    "        self.ax0.plot(pos[0]-mrgn,    pos[1]-mrgn,     body, markersize=15) \n",
    "        #self.ax0.plot(pos, body, markersize=15) # this causes the body not be up to date in later lessons\n",
    "\n",
    "        # to reduce overhead, pre-store coordinates in the grid only when render is needed\n",
    "        if self.X is None: \n",
    "            self.X, self.Y = np.array(self.to_pos(np.arange(self.nS))) \n",
    "            self.Ox, self.Oy = np.arange(cols+1), np.arange(rows+1)\n",
    "\n",
    "        # underhood obstacles and a cliffs\n",
    "        if self.style=='maze':  \n",
    "            if self.Obstacles is None: self.Obstacles = self.init_cells(self.obstacles)\n",
    "            self.ax0.pcolormesh(self.Ox, self.Oy, self.Obstacles, edgecolors='lightgray', cmap=self.cmap)\n",
    "        \n",
    "        if self.style=='cliff': \n",
    "            if self.Cliffs is None: self.Cliffs = self.init_cells(self.cliffs)\n",
    "            self.ax0.pcolormesh(self.Ox, self.Oy, self.Cliffs, edgecolors='lightgray', cmap=self.cmap)\n",
    "\n",
    "        # this means that the user wants to draw the policy arrows (actions)\n",
    "        if 'Q' in kw and underhood=='': underhood='maxQ'\n",
    "        \n",
    "        # a placeholder function for extra rendering jobs\n",
    "        render_ = getattr(self, 'render_'+ underhood)(**kw)\n",
    "        # windy style needs a bespoke rendering\n",
    "        if self.style =='windy': self.render_windy()\n",
    "\n",
    "        if image: self.render_image(saveimg=saveimg)\n",
    "            \n",
    "        # to animate clear and plot the Grid\n",
    "        if animate: clear_output(wait=True); plt.show(); time.sleep(pause)\n",
    "        #else: plt.subplot(subplot)\n",
    "    \n",
    "    #-------------------------helper functions for rendering policies and value functions---------------------\n",
    "    def render_(self, **kw):\n",
    "        pass # a placeholder for a another drawing if needed\n",
    "    \n",
    "    def render_image(self, **kw):\n",
    "        pass # a placeholder for capturing and saving Grid as images\n",
    "    \n",
    "    # renders all states numbers' reprsentation on the grid\n",
    "    def render_states(self, **kw):\n",
    "        X,Y  = self.X, self.Y\n",
    "        for s in range(self.nS): \n",
    "            self.ax0.text(X[s]-.5,Y[s]-.5, s, fontsize=13, color='g')\n"
   ]
  },
  {
   "cell_type": "markdown",
   "id": "319398af",
   "metadata": {},
   "source": [
    "Note that we are moving from 1-d list of states to a 2-d set of coordinates. We use the modulus % and the floor division operators to achieve this. Both are built-in operators and very efficient. The function to_pos() convert a state into its correspondent position coordinates. \n",
    "\n",
    "The render function does all the heavy lifting of visualising the environment and the agent's current state s. It basically renders a 2-d grid as per the dimension of the grid along the side with the agent and any obstacles (which block the agent pathway) or cliff cells (which cause the agent to reinitialise its position to state s0). We also call a placeholder function render_(), which will be called to render further info. such as the states' representation in the grid, as we will see next."
   ]
  },
  {
   "cell_type": "code",
   "execution_count": 58,
   "id": "1aa474c4",
   "metadata": {},
   "outputs": [
    {
     "data": {
      "image/png": "[encoded data removed]",
      "text/plain": [
       "<Figure size 1224x216 with 1 Axes>"
      ]
     },
     "metadata": {},
     "output_type": "display_data"
    }
   ],
   "source": [
    "gw = Grid(style='maze')\n",
    "gw.render()"
   ]
  },
  {
   "cell_type": "markdown",
   "id": "7c953927",
   "metadata": {},
   "source": [
    "To see the internal state representation that we use in our grid world we can render it  as follows"
   ]
  },
  {
   "cell_type": "code",
   "execution_count": 59,
   "id": "2d72d6b8",
   "metadata": {},
   "outputs": [
    {
     "data": {
      "image/png": "[encoded data removed]",
      "text/plain": [
       "<Figure size 1224x216 with 1 Axes>"
      ]
     },
     "metadata": {},
     "output_type": "display_data"
    }
   ],
   "source": [
    "gw.render(underhood='states')"
   ]
  },
  {
   "cell_type": "markdown",
   "id": "191a038e",
   "metadata": {},
   "source": [
    "## Animating the Grid\n",
    "Grid animation is very easy thanks to the render function which take care of setting the scene and clearing the output. Below we show a simple function that achieve this."
   ]
  },
  {
   "cell_type": "code",
   "execution_count": 60,
   "id": "d5a35804",
   "metadata": {},
   "outputs": [],
   "source": [
    "def animate_right(gw=Grid(), pause=0):\n",
    "    gw.s=gw.s0 # reset the agent position\n",
    "    # let us go right\n",
    "    for s in range(5):\n",
    "        gw.step(1)\n",
    "        gw.render(pause=pause)"
   ]
  },
  {
   "cell_type": "code",
   "execution_count": 61,
   "id": "12fd52e6",
   "metadata": {},
   "outputs": [
    {
     "data": {
      "image/png": "[encoded data removed]",
      "text/plain": [
       "<Figure size 1224x216 with 1 Axes>"
      ]
     },
     "metadata": {},
     "output_type": "display_data"
    }
   ],
   "source": [
    "animate_right()"
   ]
  },
  {
   "cell_type": "code",
   "execution_count": 62,
   "id": "567646ef",
   "metadata": {},
   "outputs": [],
   "source": [
    "def scan(env, animate=True, pause=0):\n",
    "    env.s = 0 # env.s0 # reset the agent position\n",
    "\n",
    "    # scan the whole env\n",
    "    for s in range(env.s, env.nS):#env.s0,env.s0+1):\n",
    "        if s in env.obstacles: continue\n",
    "        for a in range(gw.nA):\n",
    "            env.s = s\n",
    "            env.render(animate=animate, pause=pause)\n",
    "            env.step(a)\n",
    "            env.render(animate=animate, pause=pause)\n",
    "        env.s = s\n",
    "        #plt.pause(.5)"
   ]
  },
  {
   "cell_type": "code",
   "execution_count": 63,
   "id": "28de3537",
   "metadata": {
    "scrolled": false
   },
   "outputs": [],
   "source": [
    "# %time scan(gw)"
   ]
  },
  {
   "cell_type": "code",
   "execution_count": 64,
   "id": "f8768391",
   "metadata": {},
   "outputs": [],
   "source": [
    "def wander(gw, animate=True, pause=0):\n",
    "    gw.s=gw.s0 # reset the agent position\n",
    "    \n",
    "    # let us go right\n",
    "    for s in range(gw.cols):\n",
    "        gw.step(1)\n",
    "        gw.render(animate=animate, pause=pause)\n",
    "    \n",
    "    # let us go left\n",
    "    for s in range(gw.rows):\n",
    "        gw.step(0)\n",
    "        gw.render(animate=animate, pause=pause)\n",
    "\n",
    "    # scan the whole env\n",
    "    for s in range(gw.s,gw.nS):#gw.s0,gw.s0+1):\n",
    "        if s in gw.obstacles: continue\n",
    "        for a in range(gw.nA):\n",
    "            gw.s = s\n",
    "            gw.render(animate=animate, pause=pause)\n",
    "            gw.step(a)\n",
    "            gw.render(animate=animate, pause=pause)\n",
    "        gw.s = s\n",
    "        #plt.pause(.5)"
   ]
  },
  {
   "cell_type": "code",
   "execution_count": 65,
   "id": "29ca1e1c",
   "metadata": {},
   "outputs": [],
   "source": [
    "# %time wander(Grid())"
   ]
  },
  {
   "cell_type": "markdown",
   "id": "f7c2021d",
   "metadata": {},
   "source": [
    "## Visualising the a Policy on a Grid"
   ]
  },
  {
   "cell_type": "markdown",
   "id": "73b55f0c",
   "metadata": {},
   "source": [
    "Next we further add more rendering routines to enhance and enrich the Grid class. Mainly these rendering routines will be used to visualise the policy of an agent either via  π or via Q function. The arrows are used with the quiver function which yields much faster results than using the plt.text(x,y, '→') function."
   ]
  },
  {
   "cell_type": "code",
   "execution_count": 66,
   "id": "7c1568a3",
   "metadata": {},
   "outputs": [],
   "source": [
    "class Grid(Grid):\n",
    "    def __init__(self, **kw):\n",
    "        super().__init__(**kw)\n",
    "\n",
    "    def init_arrows(self):       \n",
    "        self._left,      self._right,   self._down,       self._up       = tuple(range(0,4))\n",
    "        self._left_down, self._left_up, self._right_down, self._right_up = tuple(range(4,8))\n",
    "        \n",
    "        # works for quiver and pos, max action can potentially go upto 8! if we are dealing with a grid world\n",
    "        self.arrows = np.zeros((self.nA,2), dtype=int)\n",
    "        \n",
    "        self.arrows[self._left ] =[-1, 0]  # '←'\n",
    "        self.arrows[self._right] =[ 1, 0]  # '→'\n",
    "        \n",
    "        if self.nA>2:\n",
    "            self.arrows[self._down ] =[ 0,-1]  # '↓'\n",
    "            self.arrows[self._up   ] =[ 0, 1]  # '↑'\n",
    "\n",
    "        if self.nA>4:\n",
    "            self.arrows[self._left_down ]=[-1,-1]  # '↓←'\n",
    "            self.arrows[self._left_up   ]=[-1, 1]  # '↑←'\n",
    "            self.arrows[self._right_down]=[ 1,-1]  # '→↓'\n",
    "            self.arrows[self._right_up  ]=[ 1, 1]  # '→↑'\n",
    "    \n",
    "\n",
    "    # renders a policy\n",
    "    def render_π(self, π=None, **kw): \n",
    "        if π is None: π=np.ones(self.nS, dtype=int)\n",
    "        if self.arrows is None: self.init_arrows()\n",
    "        X, Y = self.X, self.Y\n",
    "        U, Z = self.arrows[π].T\n",
    "        ind = [s for s in range(self.nS) if s not in self.goals and s not in self.obstacles + self.cliffs]\n",
    "        ind = np.array(ind)\n",
    "        if ind.any()==False: return\n",
    "        plt.quiver(X[ind]-.5,Y[ind]-.5,  U[ind],Z[ind],color='b')\n",
    "  \n",
    "    # renders a policy deduced from a Q function\n",
    "    def render_maxQ(self, Q=None, **kw): \n",
    "        if Q is None: Q=np.ones((self.nS, self.nA ))\n",
    "        X, Y = self.X, self.Y\n",
    "        if self.arrows is None: self.init_arrows()\n",
    "        U, Z = self.arrows[np.argmax(Q,1)].T\n",
    "        ind  = np.sum(Q,1)!=0\n",
    "        if ind.any()==False: return\n",
    "        plt.quiver(X[ind]-.5,Y[ind]-.5,  U[ind],Z[ind],color='b')\n",
    "    \n",
    "    # renders state value function\n",
    "    def render_V(self, V=None, **kw):\n",
    "        if V is None: V=np.ones(self.nS)\n",
    "        X,Y  = self.X, self.Y\n",
    "        fntsz, clr = 14 - int(self.cols/5), 'b'\n",
    "        for s in range(self.nS):\n",
    "            if s in self.obstacles or s in self.goals: continue\n",
    "            plt.text(X[s]-.7,Y[s]-.7, '%.1f  '% V[s], fontsize=fntsz, color=clr) \n",
    "    \n",
    "    # renders action-state value function\n",
    "    def render_Q(self, Q=None, **kw):\n",
    "        if Q is None: Q=np.ones((self.nS, self.nA ))\n",
    "        X,Y  = self.X, self.Y\n",
    "        fntsz, mrgn, clr = 12 - (5-self.nA) - int(self.cols/5), 0.4, 'b'\n",
    "        for s in range(self.nS):\n",
    "            if s in self.obstacles: continue        \n",
    "            #  '→', '←', '↑', '↓'\n",
    "            plt.text(X[s]-mrgn,Y[s]-mrgn, '←%.2f, '% Q[s,0], ha='right', va='bottom', fontsize=fntsz, color=clr) \n",
    "            plt.text(X[s]-mrgn,Y[s]-mrgn, '%.2f→  '% Q[s,1], ha='left' , va='bottom', fontsize=fntsz, color=clr)\n",
    "            if self.nA==2: continue\n",
    "            plt.text(X[s]-mrgn,Y[s]-mrgn, '↓%.2f, '% Q[s,2], ha='right', va='top'   , fontsize=fntsz, color=clr) \n",
    "            plt.text(X[s]-mrgn,Y[s]-mrgn, '%.2f↑  '% Q[s,3], ha='left' , va='top'   , fontsize=fntsz, color=clr) "
   ]
  },
  {
   "cell_type": "markdown",
   "id": "982913c5",
   "metadata": {},
   "source": [
    "Do not worry if you could not catch all details of the functionality, it will not matter because we will simply call these rendering functions to visualise results. So as along as you can call them that is sufficient."
   ]
  },
  {
   "cell_type": "code",
   "execution_count": 67,
   "id": "1d8be802",
   "metadata": {
    "scrolled": false
   },
   "outputs": [],
   "source": [
    "gw = Grid(style='maze')"
   ]
  },
  {
   "cell_type": "code",
   "execution_count": 68,
   "id": "44804e97",
   "metadata": {},
   "outputs": [
    {
     "data": {
      "image/png": "[encoded data removed]",
      "text/plain": [
       "<Figure size 1224x216 with 1 Axes>"
      ]
     },
     "metadata": {},
     "output_type": "display_data"
    }
   ],
   "source": [
    "gw.render(underhood='V',    pause=1)"
   ]
  },
  {
   "cell_type": "code",
   "execution_count": 69,
   "id": "1cd5b718",
   "metadata": {},
   "outputs": [
    {
     "data": {
      "image/png": "[encoded data removed]",
      "text/plain": [
       "<Figure size 2880x504 with 1 Axes>"
      ]
     },
     "metadata": {},
     "output_type": "display_data"
    }
   ],
   "source": [
    "gw = Grid(style='maze',figsize=(40, 7))\n",
    "gw.render(underhood='Q')"
   ]
  },
  {
   "cell_type": "markdown",
   "id": "e1694dc2",
   "metadata": {},
   "source": [
    "Note that the above is due to  plt.text('←') function which is a slow function for the display."
   ]
  },
  {
   "cell_type": "code",
   "execution_count": 70,
   "id": "2f50b650",
   "metadata": {
    "scrolled": true
   },
   "outputs": [
    {
     "data": {
      "image/png": "[encoded data removed]",
      "text/plain": [
       "<Figure size 1224x216 with 1 Axes>"
      ]
     },
     "metadata": {},
     "output_type": "display_data"
    }
   ],
   "source": [
    "gw = Grid(style='maze')\n",
    "gw.render(underhood='maxQ', pause=1)"
   ]
  },
  {
   "cell_type": "markdown",
   "id": "cec394bc",
   "metadata": {},
   "source": [
    "Note that the above arrows are due to the plt.quiver() function and **not** the slower plt.text('←') function. "
   ]
  },
  {
   "cell_type": "markdown",
   "id": "71643191",
   "metadata": {},
   "source": [
    "## Visualisation for a specialist Grids"
   ]
  },
  {
   "cell_type": "code",
   "execution_count": 71,
   "id": "ff95966b",
   "metadata": {},
   "outputs": [],
   "source": [
    "class Grid(Grid):\n",
    "    def __init__(self, **kw):\n",
    "        super().__init__(**kw)\n",
    "        \n",
    "        # randwalk related\n",
    "        self.letters = None                    # letter rep. for states\n",
    "        \n",
    "    #---------------------------------helper functions specific for some env and exercises----------------------\n",
    "    # renders winds values on a grid\n",
    "    def render_windy(self, **kw):\n",
    "        for col in range(self.cols): # skipping the first and final states\n",
    "            plt.text(col+.2,-.5, self.wind[col], fontsize=13, color='k')\n",
    "        plt.text(6.15,1, '⬆',fontsize=60, color='lightgray')\n",
    "        plt.text(6.15,4, '⬆',fontsize=60, color='lightgray')\n",
    "    \n",
    "    # renders a trace path on a grid\n",
    "    def render_trace(self, **kw):\n",
    "        poses = self.to_pos(np.array(self.trace))\n",
    "        plt.plot(poses[0]-.5, poses[1]-.5, '->c')\n",
    "\n",
    "    def render_V(self, **kw):\n",
    "        super().render_V(**kw)\n",
    "        if self.rows==1: self.render_letters()\n",
    "\n",
    "    # renders all states letters' reprsentation on the grid\n",
    "    def render_letters(self, **kw): # for drawing states numbers on the grid\n",
    "        if self.nS>26: return\n",
    "        X,Y  = self.X, self.Y\n",
    "        # to reduce overhead, create the list only when render_letters is needed\n",
    "        if self.letters is None: self.letters = self.letters_list() \n",
    "        for s in range(1,self.nS-1): # skipping the first and final states\n",
    "            plt.text(X[s]-.5,Y[s]+.02, self.letters[s], fontsize=13, color='g')\n",
    "    \n",
    "    def letters_list(self, **kw):\n",
    "        letters = [chr(letter) for letter in range(ord('A'),ord('A')+(self.nS-2))]\n",
    "        letters.insert(0, 'G1')\n",
    "        letters.append('G2')\n",
    "        return letters\n"
   ]
  },
  {
   "cell_type": "code",
   "execution_count": 72,
   "id": "99831e20",
   "metadata": {},
   "outputs": [
    {
     "data": {
      "image/png": "[encoded data removed]",
      "text/plain": [
       "<Figure size 1224x216 with 1 Axes>"
      ]
     },
     "metadata": {},
     "output_type": "display_data"
    }
   ],
   "source": [
    "gw = Grid(style='maze')\n",
    "for _ in range(2):gw.step(1)\n",
    "for _ in range(4):gw.step(2)\n",
    "for _ in range(2):gw.step(1)\n",
    "    \n",
    "gw.render(underhood='trace')"
   ]
  },
  {
   "cell_type": "code",
   "execution_count": 73,
   "id": "bcff52d1",
   "metadata": {},
   "outputs": [
    {
     "data": {
      "text/plain": [
       "53"
      ]
     },
     "execution_count": 73,
     "metadata": {},
     "output_type": "execute_result"
    }
   ],
   "source": [
    "6*9-1"
   ]
  },
  {
   "cell_type": "code",
   "execution_count": 74,
   "id": "10a060c0",
   "metadata": {},
   "outputs": [
    {
     "data": {
      "text/plain": [
       "0"
      ]
     },
     "execution_count": 74,
     "metadata": {},
     "output_type": "execute_result"
    }
   ],
   "source": [
    "5//(2*10)"
   ]
  },
  {
   "cell_type": "markdown",
   "id": "fca862d0",
   "metadata": {},
   "source": [
    "## Jumping Grid Class!\n",
    "We can define a class that allows the agent to jump randomly or to a specific location in the grid without going through intermediate states. This will be used later in other lessons that deal with state representations. Here we pass jGrid to the maze function to obtain an instance of a jumping Grid class without redefining the maze."
   ]
  },
  {
   "cell_type": "code",
   "execution_count": 75,
   "id": "9e037df2",
   "metadata": {},
   "outputs": [],
   "source": [
    "# jumping grid !\n",
    "class Grid(Grid):\n",
    "    def __init__(self, jump=1, randjump=True, **kw):\n",
    "        super().__init__(**kw)\n",
    "        self.jump = jump\n",
    "        self.randjump = randjump\n",
    "        \n",
    "    #-----------------------------------------actions related-------------------------------------------\n",
    "    def step(self, a):\n",
    "        jump = randint(1, min(self.jump, self.nS - self.s) +1) if self.randjump else self.jump\n",
    "        if self.jump==1: return super().step(a)\n",
    "            \n",
    "        a = self.actions[a]*jump\n",
    "        if not self.invalid(self.s, a):  \n",
    "            #print('valid jump')\n",
    "            self.s += a\n",
    "        else: \n",
    "            #print('invalid jump')\n",
    "            self.s = max(min(self.s+a, self.nS-1),0)\n",
    "        \n",
    "        self.trace.append(self.s)\n",
    "        reward, done = self.reward() \n",
    "        return self.s_(), reward, done, {}\n"
   ]
  },
  {
   "cell_type": "code",
   "execution_count": 76,
   "id": "c7cd7aba",
   "metadata": {},
   "outputs": [
    {
     "data": {
      "image/png": "[encoded data removed]",
      "text/plain": [
       "<Figure size 1224x216 with 1 Axes>"
      ]
     },
     "metadata": {},
     "output_type": "display_data"
    }
   ],
   "source": [
    "mz = Grid(style='maze')\n",
    "mz.render()\n",
    "plt.pause(1)\n",
    "mz.jump = 3\n",
    "mz.step(2)\n",
    "mz.render()"
   ]
  },
  {
   "cell_type": "markdown",
   "id": "26b8c2a5",
   "metadata": {},
   "source": [
    "Note how the agent jumped from start state to the bottom state directly, repeat the execution to see the effect of random jumps. You can switch this randomness off to see also the effect."
   ]
  },
  {
   "cell_type": "markdown",
   "id": "eb01d812",
   "metadata": {},
   "source": [
    "## Defining a Gridi: A Grid with Images States\n",
    "Below we establish a class that will return after each step an observation which is the image of the grid instead of its state id. This is essential to be able to deal with a more general set of RL methods that are capable of learning by observing its environment instead of being given the state's id. Note that we save the images into a folder called img, so you will need to create such a folder in the folder of this notebook. If you want to change this behaviour or save images in the same folder of this notebook adjust the code accordingly."
   ]
  },
  {
   "cell_type": "code",
   "execution_count": 77,
   "id": "9d8192f4",
   "metadata": {},
   "outputs": [],
   "source": [
    "class Gridi(Grid):\n",
    "    \n",
    "    def __init__(self, animate=False, saveimg=False, **kw):\n",
    "        super().__init__(**kw)\n",
    "        self.i = 0                  # snapshot counter\n",
    "        self.img = None             # snapshot image\n",
    "        self.io = None              # snapshot io buffer\n",
    "        self.animate = animate\n",
    "        self.saveimg = saveimg\n",
    "        \n",
    "    # calling render__() directly is not a good idea for Gridi because s_() is calling it as well\n",
    "    # calling render() allows us to turn animation/saveimg on/off\n",
    "    def render(self, animate=None, saveimg=None, **kw):  \n",
    "        if animate is not None: self.animate = animate \n",
    "        if saveimg is not None: self.saveimg = saveimg\n",
    "\n",
    "    def render_image(self, saveimg):\n",
    "       # prepare and scale the area that will be captured \n",
    "        if self.io is None : self.io = io.BytesIO()\n",
    "        box = self.ax0.get_window_extent().transformed(mtransforms.Affine2D().scale(0.0138888))\n",
    "       \n",
    "        # place frame in memory buffer then save to disk if you want\n",
    "        plt.savefig(self.io, format='raw', bbox_inches=box)\n",
    "        if saveimg: \n",
    "            plt.savefig('img/img%d.png'%self.i, bbox_inches=box); self.i+=1 \n",
    "            \n",
    "        # reshape the image then crop excess from sides due to masking #(163, 244, -1) \n",
    "        self.img = np.reshape(np.frombuffer(self.io.getvalue(), dtype=np.uint8), newshape=(163, 278, -1))\n",
    "        #self.img = self.img[:,18:-16,:3] if self.style in['maze','cliff'] else self.img[:,:,:3]\n",
    "        \n",
    "        # save only latest image to buffer and not accumulate\n",
    "        self.io.seek(0) \n",
    "\n",
    "        \n",
    "    def s_(self):\n",
    "        self.render__(image=True, animate=self.animate, saveimg=self.saveimg)#, animate=self.animate)\n",
    "        return self.img"
   ]
  },
  {
   "cell_type": "code",
   "execution_count": 93,
   "id": "f4597fd1",
   "metadata": {},
   "outputs": [],
   "source": [
    "def play(env, steps=5):\n",
    "    \n",
    "    #img = [env.s_()]*steps                                             # initial and declare\n",
    "    img = np.ones((steps,*env.s_().shape),dtype=int);img[0]=env.s_() # more efficent for large steps\n",
    "    for i in range(steps):\n",
    "        img[i], reward, done,_ = env.step(randint(3))\n",
    "        env.render()                                                   # makes no effect since s_() calls render()\n",
    "    return img"
   ]
  },
  {
   "cell_type": "code",
   "execution_count": 94,
   "id": "23e8760f",
   "metadata": {
    "scrolled": false
   },
   "outputs": [
    {
     "ename": "FileNotFoundError",
     "evalue": "[Errno 2] No such file or directory: 'img/img0.png'",
     "output_type": "error",
     "traceback": [
      "\u001b[1;31m---------------------------------------------------------------------------\u001b[0m",
      "\u001b[1;31mFileNotFoundError\u001b[0m                         Traceback (most recent call last)",
      "\u001b[1;32m<timed exec>\u001b[0m in \u001b[0;36m<module>\u001b[1;34m\u001b[0m\n",
      "\u001b[1;32m~\\AppData\\Local\\Temp/ipykernel_2636/476923957.py\u001b[0m in \u001b[0;36mplay\u001b[1;34m(env, steps)\u001b[0m\n\u001b[0;32m      2\u001b[0m \u001b[1;33m\u001b[0m\u001b[0m\n\u001b[0;32m      3\u001b[0m     \u001b[1;31m#img = [env.s_()]*steps                                             # initial and declare\u001b[0m\u001b[1;33m\u001b[0m\u001b[1;33m\u001b[0m\u001b[0m\n\u001b[1;32m----> 4\u001b[1;33m     \u001b[0mimg\u001b[0m \u001b[1;33m=\u001b[0m \u001b[0mnp\u001b[0m\u001b[1;33m.\u001b[0m\u001b[0mones\u001b[0m\u001b[1;33m(\u001b[0m\u001b[1;33m(\u001b[0m\u001b[0msteps\u001b[0m\u001b[1;33m,\u001b[0m\u001b[1;33m*\u001b[0m\u001b[0menv\u001b[0m\u001b[1;33m.\u001b[0m\u001b[0ms_\u001b[0m\u001b[1;33m(\u001b[0m\u001b[1;33m)\u001b[0m\u001b[1;33m.\u001b[0m\u001b[0mshape\u001b[0m\u001b[1;33m)\u001b[0m\u001b[1;33m,\u001b[0m\u001b[0mdtype\u001b[0m\u001b[1;33m=\u001b[0m\u001b[0mint\u001b[0m\u001b[1;33m)\u001b[0m\u001b[1;33m;\u001b[0m\u001b[0mimg\u001b[0m\u001b[1;33m[\u001b[0m\u001b[1;36m0\u001b[0m\u001b[1;33m]\u001b[0m\u001b[1;33m=\u001b[0m\u001b[0menv\u001b[0m\u001b[1;33m.\u001b[0m\u001b[0ms_\u001b[0m\u001b[1;33m(\u001b[0m\u001b[1;33m)\u001b[0m \u001b[1;31m# more efficent for large steps\u001b[0m\u001b[1;33m\u001b[0m\u001b[1;33m\u001b[0m\u001b[0m\n\u001b[0m\u001b[0;32m      5\u001b[0m     \u001b[1;32mfor\u001b[0m \u001b[0mi\u001b[0m \u001b[1;32min\u001b[0m \u001b[0mrange\u001b[0m\u001b[1;33m(\u001b[0m\u001b[0msteps\u001b[0m\u001b[1;33m)\u001b[0m\u001b[1;33m:\u001b[0m\u001b[1;33m\u001b[0m\u001b[1;33m\u001b[0m\u001b[0m\n\u001b[0;32m      6\u001b[0m         \u001b[0mimg\u001b[0m\u001b[1;33m[\u001b[0m\u001b[0mi\u001b[0m\u001b[1;33m]\u001b[0m\u001b[1;33m,\u001b[0m \u001b[0mreward\u001b[0m\u001b[1;33m,\u001b[0m \u001b[0mdone\u001b[0m\u001b[1;33m,\u001b[0m\u001b[0m_\u001b[0m \u001b[1;33m=\u001b[0m \u001b[0menv\u001b[0m\u001b[1;33m.\u001b[0m\u001b[0mstep\u001b[0m\u001b[1;33m(\u001b[0m\u001b[0mrandint\u001b[0m\u001b[1;33m(\u001b[0m\u001b[1;36m3\u001b[0m\u001b[1;33m)\u001b[0m\u001b[1;33m)\u001b[0m\u001b[1;33m\u001b[0m\u001b[1;33m\u001b[0m\u001b[0m\n",
      "\u001b[1;32m~\\AppData\\Local\\Temp/ipykernel_2636/3980179361.py\u001b[0m in \u001b[0;36ms_\u001b[1;34m(self)\u001b[0m\n\u001b[0;32m     34\u001b[0m \u001b[1;33m\u001b[0m\u001b[0m\n\u001b[0;32m     35\u001b[0m     \u001b[1;32mdef\u001b[0m \u001b[0ms_\u001b[0m\u001b[1;33m(\u001b[0m\u001b[0mself\u001b[0m\u001b[1;33m)\u001b[0m\u001b[1;33m:\u001b[0m\u001b[1;33m\u001b[0m\u001b[1;33m\u001b[0m\u001b[0m\n\u001b[1;32m---> 36\u001b[1;33m         \u001b[0mself\u001b[0m\u001b[1;33m.\u001b[0m\u001b[0mrender__\u001b[0m\u001b[1;33m(\u001b[0m\u001b[0mimage\u001b[0m\u001b[1;33m=\u001b[0m\u001b[1;32mTrue\u001b[0m\u001b[1;33m,\u001b[0m \u001b[0manimate\u001b[0m\u001b[1;33m=\u001b[0m\u001b[0mself\u001b[0m\u001b[1;33m.\u001b[0m\u001b[0manimate\u001b[0m\u001b[1;33m,\u001b[0m \u001b[0msaveimg\u001b[0m\u001b[1;33m=\u001b[0m\u001b[0mself\u001b[0m\u001b[1;33m.\u001b[0m\u001b[0msaveimg\u001b[0m\u001b[1;33m)\u001b[0m\u001b[1;31m#, animate=self.animate)\u001b[0m\u001b[1;33m\u001b[0m\u001b[1;33m\u001b[0m\u001b[0m\n\u001b[0m\u001b[0;32m     37\u001b[0m         \u001b[1;32mreturn\u001b[0m \u001b[0mself\u001b[0m\u001b[1;33m.\u001b[0m\u001b[0mimg\u001b[0m\u001b[1;33m\u001b[0m\u001b[1;33m\u001b[0m\u001b[0m\n",
      "\u001b[1;32m~\\AppData\\Local\\Temp/ipykernel_2636/3071795681.py\u001b[0m in \u001b[0;36mrender__\u001b[1;34m(self, underhood, pause, label, subplot, large, animate, image, saveimg, **kw)\u001b[0m\n\u001b[0;32m    106\u001b[0m         \u001b[1;32mif\u001b[0m \u001b[0mself\u001b[0m\u001b[1;33m.\u001b[0m\u001b[0mstyle\u001b[0m \u001b[1;33m==\u001b[0m\u001b[1;34m'windy'\u001b[0m\u001b[1;33m:\u001b[0m \u001b[0mself\u001b[0m\u001b[1;33m.\u001b[0m\u001b[0mrender_windy\u001b[0m\u001b[1;33m(\u001b[0m\u001b[1;33m)\u001b[0m\u001b[1;33m\u001b[0m\u001b[1;33m\u001b[0m\u001b[0m\n\u001b[0;32m    107\u001b[0m \u001b[1;33m\u001b[0m\u001b[0m\n\u001b[1;32m--> 108\u001b[1;33m         \u001b[1;32mif\u001b[0m \u001b[0mimage\u001b[0m\u001b[1;33m:\u001b[0m \u001b[0mself\u001b[0m\u001b[1;33m.\u001b[0m\u001b[0mrender_image\u001b[0m\u001b[1;33m(\u001b[0m\u001b[0msaveimg\u001b[0m\u001b[1;33m=\u001b[0m\u001b[0msaveimg\u001b[0m\u001b[1;33m)\u001b[0m\u001b[1;33m\u001b[0m\u001b[1;33m\u001b[0m\u001b[0m\n\u001b[0m\u001b[0;32m    109\u001b[0m \u001b[1;33m\u001b[0m\u001b[0m\n\u001b[0;32m    110\u001b[0m         \u001b[1;31m# to animate clear and plot the Grid\u001b[0m\u001b[1;33m\u001b[0m\u001b[1;33m\u001b[0m\u001b[0m\n",
      "\u001b[1;32m~\\AppData\\Local\\Temp/ipykernel_2636/3980179361.py\u001b[0m in \u001b[0;36mrender_image\u001b[1;34m(self, saveimg)\u001b[0m\n\u001b[0;32m     23\u001b[0m         \u001b[0mplt\u001b[0m\u001b[1;33m.\u001b[0m\u001b[0msavefig\u001b[0m\u001b[1;33m(\u001b[0m\u001b[0mself\u001b[0m\u001b[1;33m.\u001b[0m\u001b[0mio\u001b[0m\u001b[1;33m,\u001b[0m \u001b[0mformat\u001b[0m\u001b[1;33m=\u001b[0m\u001b[1;34m'raw'\u001b[0m\u001b[1;33m,\u001b[0m \u001b[0mbbox_inches\u001b[0m\u001b[1;33m=\u001b[0m\u001b[0mbox\u001b[0m\u001b[1;33m)\u001b[0m\u001b[1;33m\u001b[0m\u001b[1;33m\u001b[0m\u001b[0m\n\u001b[0;32m     24\u001b[0m         \u001b[1;32mif\u001b[0m \u001b[0msaveimg\u001b[0m\u001b[1;33m:\u001b[0m\u001b[1;33m\u001b[0m\u001b[1;33m\u001b[0m\u001b[0m\n\u001b[1;32m---> 25\u001b[1;33m             \u001b[0mplt\u001b[0m\u001b[1;33m.\u001b[0m\u001b[0msavefig\u001b[0m\u001b[1;33m(\u001b[0m\u001b[1;34m'img/img%d.png'\u001b[0m\u001b[1;33m%\u001b[0m\u001b[0mself\u001b[0m\u001b[1;33m.\u001b[0m\u001b[0mi\u001b[0m\u001b[1;33m,\u001b[0m \u001b[0mbbox_inches\u001b[0m\u001b[1;33m=\u001b[0m\u001b[0mbox\u001b[0m\u001b[1;33m)\u001b[0m\u001b[1;33m;\u001b[0m \u001b[0mself\u001b[0m\u001b[1;33m.\u001b[0m\u001b[0mi\u001b[0m\u001b[1;33m+=\u001b[0m\u001b[1;36m1\u001b[0m\u001b[1;33m\u001b[0m\u001b[1;33m\u001b[0m\u001b[0m\n\u001b[0m\u001b[0;32m     26\u001b[0m \u001b[1;33m\u001b[0m\u001b[0m\n\u001b[0;32m     27\u001b[0m         \u001b[1;31m# reshape the image then crop excess from sides due to masking #(163, 244, -1)\u001b[0m\u001b[1;33m\u001b[0m\u001b[1;33m\u001b[0m\u001b[0m\n",
      "\u001b[1;32m~\\anaconda3\\lib\\site-packages\\matplotlib\\pyplot.py\u001b[0m in \u001b[0;36msavefig\u001b[1;34m(*args, **kwargs)\u001b[0m\n\u001b[0;32m    964\u001b[0m \u001b[1;32mdef\u001b[0m \u001b[0msavefig\u001b[0m\u001b[1;33m(\u001b[0m\u001b[1;33m*\u001b[0m\u001b[0margs\u001b[0m\u001b[1;33m,\u001b[0m \u001b[1;33m**\u001b[0m\u001b[0mkwargs\u001b[0m\u001b[1;33m)\u001b[0m\u001b[1;33m:\u001b[0m\u001b[1;33m\u001b[0m\u001b[1;33m\u001b[0m\u001b[0m\n\u001b[0;32m    965\u001b[0m     \u001b[0mfig\u001b[0m \u001b[1;33m=\u001b[0m \u001b[0mgcf\u001b[0m\u001b[1;33m(\u001b[0m\u001b[1;33m)\u001b[0m\u001b[1;33m\u001b[0m\u001b[1;33m\u001b[0m\u001b[0m\n\u001b[1;32m--> 966\u001b[1;33m     \u001b[0mres\u001b[0m \u001b[1;33m=\u001b[0m \u001b[0mfig\u001b[0m\u001b[1;33m.\u001b[0m\u001b[0msavefig\u001b[0m\u001b[1;33m(\u001b[0m\u001b[1;33m*\u001b[0m\u001b[0margs\u001b[0m\u001b[1;33m,\u001b[0m \u001b[1;33m**\u001b[0m\u001b[0mkwargs\u001b[0m\u001b[1;33m)\u001b[0m\u001b[1;33m\u001b[0m\u001b[1;33m\u001b[0m\u001b[0m\n\u001b[0m\u001b[0;32m    967\u001b[0m     \u001b[0mfig\u001b[0m\u001b[1;33m.\u001b[0m\u001b[0mcanvas\u001b[0m\u001b[1;33m.\u001b[0m\u001b[0mdraw_idle\u001b[0m\u001b[1;33m(\u001b[0m\u001b[1;33m)\u001b[0m   \u001b[1;31m# need this if 'transparent=True' to reset colors\u001b[0m\u001b[1;33m\u001b[0m\u001b[1;33m\u001b[0m\u001b[0m\n\u001b[0;32m    968\u001b[0m     \u001b[1;32mreturn\u001b[0m \u001b[0mres\u001b[0m\u001b[1;33m\u001b[0m\u001b[1;33m\u001b[0m\u001b[0m\n",
      "\u001b[1;32m~\\anaconda3\\lib\\site-packages\\matplotlib\\figure.py\u001b[0m in \u001b[0;36msavefig\u001b[1;34m(self, fname, transparent, **kwargs)\u001b[0m\n\u001b[0;32m   3013\u001b[0m                 \u001b[0mpatch\u001b[0m\u001b[1;33m.\u001b[0m\u001b[0mset_edgecolor\u001b[0m\u001b[1;33m(\u001b[0m\u001b[1;34m'none'\u001b[0m\u001b[1;33m)\u001b[0m\u001b[1;33m\u001b[0m\u001b[1;33m\u001b[0m\u001b[0m\n\u001b[0;32m   3014\u001b[0m \u001b[1;33m\u001b[0m\u001b[0m\n\u001b[1;32m-> 3015\u001b[1;33m         \u001b[0mself\u001b[0m\u001b[1;33m.\u001b[0m\u001b[0mcanvas\u001b[0m\u001b[1;33m.\u001b[0m\u001b[0mprint_figure\u001b[0m\u001b[1;33m(\u001b[0m\u001b[0mfname\u001b[0m\u001b[1;33m,\u001b[0m \u001b[1;33m**\u001b[0m\u001b[0mkwargs\u001b[0m\u001b[1;33m)\u001b[0m\u001b[1;33m\u001b[0m\u001b[1;33m\u001b[0m\u001b[0m\n\u001b[0m\u001b[0;32m   3016\u001b[0m \u001b[1;33m\u001b[0m\u001b[0m\n\u001b[0;32m   3017\u001b[0m         \u001b[1;32mif\u001b[0m \u001b[0mtransparent\u001b[0m\u001b[1;33m:\u001b[0m\u001b[1;33m\u001b[0m\u001b[1;33m\u001b[0m\u001b[0m\n",
      "\u001b[1;32m~\\anaconda3\\lib\\site-packages\\matplotlib\\backend_bases.py\u001b[0m in \u001b[0;36mprint_figure\u001b[1;34m(self, filename, dpi, facecolor, edgecolor, orientation, format, bbox_inches, pad_inches, bbox_extra_artists, backend, **kwargs)\u001b[0m\n\u001b[0;32m   2253\u001b[0m                 \u001b[1;31m# force the figure dpi to 72), so we need to set it again here.\u001b[0m\u001b[1;33m\u001b[0m\u001b[1;33m\u001b[0m\u001b[0m\n\u001b[0;32m   2254\u001b[0m                 \u001b[1;32mwith\u001b[0m \u001b[0mcbook\u001b[0m\u001b[1;33m.\u001b[0m\u001b[0m_setattr_cm\u001b[0m\u001b[1;33m(\u001b[0m\u001b[0mself\u001b[0m\u001b[1;33m.\u001b[0m\u001b[0mfigure\u001b[0m\u001b[1;33m,\u001b[0m \u001b[0mdpi\u001b[0m\u001b[1;33m=\u001b[0m\u001b[0mdpi\u001b[0m\u001b[1;33m)\u001b[0m\u001b[1;33m:\u001b[0m\u001b[1;33m\u001b[0m\u001b[1;33m\u001b[0m\u001b[0m\n\u001b[1;32m-> 2255\u001b[1;33m                     result = print_method(\n\u001b[0m\u001b[0;32m   2256\u001b[0m                         \u001b[0mfilename\u001b[0m\u001b[1;33m,\u001b[0m\u001b[1;33m\u001b[0m\u001b[1;33m\u001b[0m\u001b[0m\n\u001b[0;32m   2257\u001b[0m                         \u001b[0mfacecolor\u001b[0m\u001b[1;33m=\u001b[0m\u001b[0mfacecolor\u001b[0m\u001b[1;33m,\u001b[0m\u001b[1;33m\u001b[0m\u001b[1;33m\u001b[0m\u001b[0m\n",
      "\u001b[1;32m~\\anaconda3\\lib\\site-packages\\matplotlib\\backend_bases.py\u001b[0m in \u001b[0;36mwrapper\u001b[1;34m(*args, **kwargs)\u001b[0m\n\u001b[0;32m   1667\u001b[0m             \u001b[0mkwargs\u001b[0m\u001b[1;33m.\u001b[0m\u001b[0mpop\u001b[0m\u001b[1;33m(\u001b[0m\u001b[0marg\u001b[0m\u001b[1;33m)\u001b[0m\u001b[1;33m\u001b[0m\u001b[1;33m\u001b[0m\u001b[0m\n\u001b[0;32m   1668\u001b[0m \u001b[1;33m\u001b[0m\u001b[0m\n\u001b[1;32m-> 1669\u001b[1;33m         \u001b[1;32mreturn\u001b[0m \u001b[0mfunc\u001b[0m\u001b[1;33m(\u001b[0m\u001b[1;33m*\u001b[0m\u001b[0margs\u001b[0m\u001b[1;33m,\u001b[0m \u001b[1;33m**\u001b[0m\u001b[0mkwargs\u001b[0m\u001b[1;33m)\u001b[0m\u001b[1;33m\u001b[0m\u001b[1;33m\u001b[0m\u001b[0m\n\u001b[0m\u001b[0;32m   1670\u001b[0m \u001b[1;33m\u001b[0m\u001b[0m\n\u001b[0;32m   1671\u001b[0m     \u001b[1;32mreturn\u001b[0m \u001b[0mwrapper\u001b[0m\u001b[1;33m\u001b[0m\u001b[1;33m\u001b[0m\u001b[0m\n",
      "\u001b[1;32m~\\anaconda3\\lib\\site-packages\\matplotlib\\backends\\backend_agg.py\u001b[0m in \u001b[0;36mprint_png\u001b[1;34m(self, filename_or_obj, metadata, pil_kwargs, *args)\u001b[0m\n\u001b[0;32m    507\u001b[0m         \"\"\"\n\u001b[0;32m    508\u001b[0m         \u001b[0mFigureCanvasAgg\u001b[0m\u001b[1;33m.\u001b[0m\u001b[0mdraw\u001b[0m\u001b[1;33m(\u001b[0m\u001b[0mself\u001b[0m\u001b[1;33m)\u001b[0m\u001b[1;33m\u001b[0m\u001b[1;33m\u001b[0m\u001b[0m\n\u001b[1;32m--> 509\u001b[1;33m         mpl.image.imsave(\n\u001b[0m\u001b[0;32m    510\u001b[0m             \u001b[0mfilename_or_obj\u001b[0m\u001b[1;33m,\u001b[0m \u001b[0mself\u001b[0m\u001b[1;33m.\u001b[0m\u001b[0mbuffer_rgba\u001b[0m\u001b[1;33m(\u001b[0m\u001b[1;33m)\u001b[0m\u001b[1;33m,\u001b[0m \u001b[0mformat\u001b[0m\u001b[1;33m=\u001b[0m\u001b[1;34m\"png\"\u001b[0m\u001b[1;33m,\u001b[0m \u001b[0morigin\u001b[0m\u001b[1;33m=\u001b[0m\u001b[1;34m\"upper\"\u001b[0m\u001b[1;33m,\u001b[0m\u001b[1;33m\u001b[0m\u001b[1;33m\u001b[0m\u001b[0m\n\u001b[0;32m    511\u001b[0m             dpi=self.figure.dpi, metadata=metadata, pil_kwargs=pil_kwargs)\n",
      "\u001b[1;32m~\\anaconda3\\lib\\site-packages\\matplotlib\\image.py\u001b[0m in \u001b[0;36mimsave\u001b[1;34m(fname, arr, vmin, vmax, cmap, format, origin, dpi, metadata, pil_kwargs)\u001b[0m\n\u001b[0;32m   1614\u001b[0m         \u001b[0mpil_kwargs\u001b[0m\u001b[1;33m.\u001b[0m\u001b[0msetdefault\u001b[0m\u001b[1;33m(\u001b[0m\u001b[1;34m\"format\"\u001b[0m\u001b[1;33m,\u001b[0m \u001b[0mformat\u001b[0m\u001b[1;33m)\u001b[0m\u001b[1;33m\u001b[0m\u001b[1;33m\u001b[0m\u001b[0m\n\u001b[0;32m   1615\u001b[0m         \u001b[0mpil_kwargs\u001b[0m\u001b[1;33m.\u001b[0m\u001b[0msetdefault\u001b[0m\u001b[1;33m(\u001b[0m\u001b[1;34m\"dpi\"\u001b[0m\u001b[1;33m,\u001b[0m \u001b[1;33m(\u001b[0m\u001b[0mdpi\u001b[0m\u001b[1;33m,\u001b[0m \u001b[0mdpi\u001b[0m\u001b[1;33m)\u001b[0m\u001b[1;33m)\u001b[0m\u001b[1;33m\u001b[0m\u001b[1;33m\u001b[0m\u001b[0m\n\u001b[1;32m-> 1616\u001b[1;33m         \u001b[0mimage\u001b[0m\u001b[1;33m.\u001b[0m\u001b[0msave\u001b[0m\u001b[1;33m(\u001b[0m\u001b[0mfname\u001b[0m\u001b[1;33m,\u001b[0m \u001b[1;33m**\u001b[0m\u001b[0mpil_kwargs\u001b[0m\u001b[1;33m)\u001b[0m\u001b[1;33m\u001b[0m\u001b[1;33m\u001b[0m\u001b[0m\n\u001b[0m\u001b[0;32m   1617\u001b[0m \u001b[1;33m\u001b[0m\u001b[0m\n\u001b[0;32m   1618\u001b[0m \u001b[1;33m\u001b[0m\u001b[0m\n",
      "\u001b[1;32m~\\anaconda3\\lib\\site-packages\\PIL\\Image.py\u001b[0m in \u001b[0;36msave\u001b[1;34m(self, fp, format, **params)\u001b[0m\n\u001b[0;32m   2235\u001b[0m                 \u001b[0mfp\u001b[0m \u001b[1;33m=\u001b[0m \u001b[0mbuiltins\u001b[0m\u001b[1;33m.\u001b[0m\u001b[0mopen\u001b[0m\u001b[1;33m(\u001b[0m\u001b[0mfilename\u001b[0m\u001b[1;33m,\u001b[0m \u001b[1;34m\"r+b\"\u001b[0m\u001b[1;33m)\u001b[0m\u001b[1;33m\u001b[0m\u001b[1;33m\u001b[0m\u001b[0m\n\u001b[0;32m   2236\u001b[0m             \u001b[1;32melse\u001b[0m\u001b[1;33m:\u001b[0m\u001b[1;33m\u001b[0m\u001b[1;33m\u001b[0m\u001b[0m\n\u001b[1;32m-> 2237\u001b[1;33m                 \u001b[0mfp\u001b[0m \u001b[1;33m=\u001b[0m \u001b[0mbuiltins\u001b[0m\u001b[1;33m.\u001b[0m\u001b[0mopen\u001b[0m\u001b[1;33m(\u001b[0m\u001b[0mfilename\u001b[0m\u001b[1;33m,\u001b[0m \u001b[1;34m\"w+b\"\u001b[0m\u001b[1;33m)\u001b[0m\u001b[1;33m\u001b[0m\u001b[1;33m\u001b[0m\u001b[0m\n\u001b[0m\u001b[0;32m   2238\u001b[0m \u001b[1;33m\u001b[0m\u001b[0m\n\u001b[0;32m   2239\u001b[0m         \u001b[1;32mtry\u001b[0m\u001b[1;33m:\u001b[0m\u001b[1;33m\u001b[0m\u001b[1;33m\u001b[0m\u001b[0m\n",
      "\u001b[1;31mFileNotFoundError\u001b[0m: [Errno 2] No such file or directory: 'img/img0.png'"
     ]
    },
    {
     "ename": "FileNotFoundError",
     "evalue": "[Errno 2] No such file or directory: 'img/img0.png'",
     "output_type": "error",
     "traceback": [
      "\u001b[1;31m---------------------------------------------------------------------------\u001b[0m",
      "\u001b[1;31mFileNotFoundError\u001b[0m                         Traceback (most recent call last)",
      "\u001b[1;32m<timed exec>\u001b[0m in \u001b[0;36m<module>\u001b[1;34m\u001b[0m\n",
      "\u001b[1;32m~\\AppData\\Local\\Temp/ipykernel_2636/476923957.py\u001b[0m in \u001b[0;36mplay\u001b[1;34m(env, steps)\u001b[0m\n\u001b[0;32m      2\u001b[0m \u001b[1;33m\u001b[0m\u001b[0m\n\u001b[0;32m      3\u001b[0m     \u001b[1;31m#img = [env.s_()]*steps                                             # initial and declare\u001b[0m\u001b[1;33m\u001b[0m\u001b[1;33m\u001b[0m\u001b[0m\n\u001b[1;32m----> 4\u001b[1;33m     \u001b[0mimg\u001b[0m \u001b[1;33m=\u001b[0m \u001b[0mnp\u001b[0m\u001b[1;33m.\u001b[0m\u001b[0mones\u001b[0m\u001b[1;33m(\u001b[0m\u001b[1;33m(\u001b[0m\u001b[0msteps\u001b[0m\u001b[1;33m,\u001b[0m\u001b[1;33m*\u001b[0m\u001b[0menv\u001b[0m\u001b[1;33m.\u001b[0m\u001b[0ms_\u001b[0m\u001b[1;33m(\u001b[0m\u001b[1;33m)\u001b[0m\u001b[1;33m.\u001b[0m\u001b[0mshape\u001b[0m\u001b[1;33m)\u001b[0m\u001b[1;33m,\u001b[0m\u001b[0mdtype\u001b[0m\u001b[1;33m=\u001b[0m\u001b[0mint\u001b[0m\u001b[1;33m)\u001b[0m\u001b[1;33m;\u001b[0m\u001b[0mimg\u001b[0m\u001b[1;33m[\u001b[0m\u001b[1;36m0\u001b[0m\u001b[1;33m]\u001b[0m\u001b[1;33m=\u001b[0m\u001b[0menv\u001b[0m\u001b[1;33m.\u001b[0m\u001b[0ms_\u001b[0m\u001b[1;33m(\u001b[0m\u001b[1;33m)\u001b[0m \u001b[1;31m# more efficent for large steps\u001b[0m\u001b[1;33m\u001b[0m\u001b[1;33m\u001b[0m\u001b[0m\n\u001b[0m\u001b[0;32m      5\u001b[0m     \u001b[1;32mfor\u001b[0m \u001b[0mi\u001b[0m \u001b[1;32min\u001b[0m \u001b[0mrange\u001b[0m\u001b[1;33m(\u001b[0m\u001b[0msteps\u001b[0m\u001b[1;33m)\u001b[0m\u001b[1;33m:\u001b[0m\u001b[1;33m\u001b[0m\u001b[1;33m\u001b[0m\u001b[0m\n\u001b[0;32m      6\u001b[0m         \u001b[0mimg\u001b[0m\u001b[1;33m[\u001b[0m\u001b[0mi\u001b[0m\u001b[1;33m]\u001b[0m\u001b[1;33m,\u001b[0m \u001b[0mreward\u001b[0m\u001b[1;33m,\u001b[0m \u001b[0mdone\u001b[0m\u001b[1;33m,\u001b[0m\u001b[0m_\u001b[0m \u001b[1;33m=\u001b[0m \u001b[0menv\u001b[0m\u001b[1;33m.\u001b[0m\u001b[0mstep\u001b[0m\u001b[1;33m(\u001b[0m\u001b[0mrandint\u001b[0m\u001b[1;33m(\u001b[0m\u001b[1;36m3\u001b[0m\u001b[1;33m)\u001b[0m\u001b[1;33m)\u001b[0m\u001b[1;33m\u001b[0m\u001b[1;33m\u001b[0m\u001b[0m\n",
      "\u001b[1;32m~\\AppData\\Local\\Temp/ipykernel_2636/3980179361.py\u001b[0m in \u001b[0;36ms_\u001b[1;34m(self)\u001b[0m\n\u001b[0;32m     34\u001b[0m \u001b[1;33m\u001b[0m\u001b[0m\n\u001b[0;32m     35\u001b[0m     \u001b[1;32mdef\u001b[0m \u001b[0ms_\u001b[0m\u001b[1;33m(\u001b[0m\u001b[0mself\u001b[0m\u001b[1;33m)\u001b[0m\u001b[1;33m:\u001b[0m\u001b[1;33m\u001b[0m\u001b[1;33m\u001b[0m\u001b[0m\n\u001b[1;32m---> 36\u001b[1;33m         \u001b[0mself\u001b[0m\u001b[1;33m.\u001b[0m\u001b[0mrender__\u001b[0m\u001b[1;33m(\u001b[0m\u001b[0mimage\u001b[0m\u001b[1;33m=\u001b[0m\u001b[1;32mTrue\u001b[0m\u001b[1;33m,\u001b[0m \u001b[0manimate\u001b[0m\u001b[1;33m=\u001b[0m\u001b[0mself\u001b[0m\u001b[1;33m.\u001b[0m\u001b[0manimate\u001b[0m\u001b[1;33m,\u001b[0m \u001b[0msaveimg\u001b[0m\u001b[1;33m=\u001b[0m\u001b[0mself\u001b[0m\u001b[1;33m.\u001b[0m\u001b[0msaveimg\u001b[0m\u001b[1;33m)\u001b[0m\u001b[1;31m#, animate=self.animate)\u001b[0m\u001b[1;33m\u001b[0m\u001b[1;33m\u001b[0m\u001b[0m\n\u001b[0m\u001b[0;32m     37\u001b[0m         \u001b[1;32mreturn\u001b[0m \u001b[0mself\u001b[0m\u001b[1;33m.\u001b[0m\u001b[0mimg\u001b[0m\u001b[1;33m\u001b[0m\u001b[1;33m\u001b[0m\u001b[0m\n",
      "\u001b[1;32m~\\AppData\\Local\\Temp/ipykernel_2636/3071795681.py\u001b[0m in \u001b[0;36mrender__\u001b[1;34m(self, underhood, pause, label, subplot, large, animate, image, saveimg, **kw)\u001b[0m\n\u001b[0;32m    106\u001b[0m         \u001b[1;32mif\u001b[0m \u001b[0mself\u001b[0m\u001b[1;33m.\u001b[0m\u001b[0mstyle\u001b[0m \u001b[1;33m==\u001b[0m\u001b[1;34m'windy'\u001b[0m\u001b[1;33m:\u001b[0m \u001b[0mself\u001b[0m\u001b[1;33m.\u001b[0m\u001b[0mrender_windy\u001b[0m\u001b[1;33m(\u001b[0m\u001b[1;33m)\u001b[0m\u001b[1;33m\u001b[0m\u001b[1;33m\u001b[0m\u001b[0m\n\u001b[0;32m    107\u001b[0m \u001b[1;33m\u001b[0m\u001b[0m\n\u001b[1;32m--> 108\u001b[1;33m         \u001b[1;32mif\u001b[0m \u001b[0mimage\u001b[0m\u001b[1;33m:\u001b[0m \u001b[0mself\u001b[0m\u001b[1;33m.\u001b[0m\u001b[0mrender_image\u001b[0m\u001b[1;33m(\u001b[0m\u001b[0msaveimg\u001b[0m\u001b[1;33m=\u001b[0m\u001b[0msaveimg\u001b[0m\u001b[1;33m)\u001b[0m\u001b[1;33m\u001b[0m\u001b[1;33m\u001b[0m\u001b[0m\n\u001b[0m\u001b[0;32m    109\u001b[0m \u001b[1;33m\u001b[0m\u001b[0m\n\u001b[0;32m    110\u001b[0m         \u001b[1;31m# to animate clear and plot the Grid\u001b[0m\u001b[1;33m\u001b[0m\u001b[1;33m\u001b[0m\u001b[0m\n",
      "\u001b[1;32m~\\AppData\\Local\\Temp/ipykernel_2636/3980179361.py\u001b[0m in \u001b[0;36mrender_image\u001b[1;34m(self, saveimg)\u001b[0m\n\u001b[0;32m     23\u001b[0m         \u001b[0mplt\u001b[0m\u001b[1;33m.\u001b[0m\u001b[0msavefig\u001b[0m\u001b[1;33m(\u001b[0m\u001b[0mself\u001b[0m\u001b[1;33m.\u001b[0m\u001b[0mio\u001b[0m\u001b[1;33m,\u001b[0m \u001b[0mformat\u001b[0m\u001b[1;33m=\u001b[0m\u001b[1;34m'raw'\u001b[0m\u001b[1;33m,\u001b[0m \u001b[0mbbox_inches\u001b[0m\u001b[1;33m=\u001b[0m\u001b[0mbox\u001b[0m\u001b[1;33m)\u001b[0m\u001b[1;33m\u001b[0m\u001b[1;33m\u001b[0m\u001b[0m\n\u001b[0;32m     24\u001b[0m         \u001b[1;32mif\u001b[0m \u001b[0msaveimg\u001b[0m\u001b[1;33m:\u001b[0m\u001b[1;33m\u001b[0m\u001b[1;33m\u001b[0m\u001b[0m\n\u001b[1;32m---> 25\u001b[1;33m             \u001b[0mplt\u001b[0m\u001b[1;33m.\u001b[0m\u001b[0msavefig\u001b[0m\u001b[1;33m(\u001b[0m\u001b[1;34m'img/img%d.png'\u001b[0m\u001b[1;33m%\u001b[0m\u001b[0mself\u001b[0m\u001b[1;33m.\u001b[0m\u001b[0mi\u001b[0m\u001b[1;33m,\u001b[0m \u001b[0mbbox_inches\u001b[0m\u001b[1;33m=\u001b[0m\u001b[0mbox\u001b[0m\u001b[1;33m)\u001b[0m\u001b[1;33m;\u001b[0m \u001b[0mself\u001b[0m\u001b[1;33m.\u001b[0m\u001b[0mi\u001b[0m\u001b[1;33m+=\u001b[0m\u001b[1;36m1\u001b[0m\u001b[1;33m\u001b[0m\u001b[1;33m\u001b[0m\u001b[0m\n\u001b[0m\u001b[0;32m     26\u001b[0m \u001b[1;33m\u001b[0m\u001b[0m\n\u001b[0;32m     27\u001b[0m         \u001b[1;31m# reshape the image then crop excess from sides due to masking #(163, 244, -1)\u001b[0m\u001b[1;33m\u001b[0m\u001b[1;33m\u001b[0m\u001b[0m\n",
      "\u001b[1;32m~\\anaconda3\\lib\\site-packages\\matplotlib\\pyplot.py\u001b[0m in \u001b[0;36msavefig\u001b[1;34m(*args, **kwargs)\u001b[0m\n\u001b[0;32m    964\u001b[0m \u001b[1;32mdef\u001b[0m \u001b[0msavefig\u001b[0m\u001b[1;33m(\u001b[0m\u001b[1;33m*\u001b[0m\u001b[0margs\u001b[0m\u001b[1;33m,\u001b[0m \u001b[1;33m**\u001b[0m\u001b[0mkwargs\u001b[0m\u001b[1;33m)\u001b[0m\u001b[1;33m:\u001b[0m\u001b[1;33m\u001b[0m\u001b[1;33m\u001b[0m\u001b[0m\n\u001b[0;32m    965\u001b[0m     \u001b[0mfig\u001b[0m \u001b[1;33m=\u001b[0m \u001b[0mgcf\u001b[0m\u001b[1;33m(\u001b[0m\u001b[1;33m)\u001b[0m\u001b[1;33m\u001b[0m\u001b[1;33m\u001b[0m\u001b[0m\n\u001b[1;32m--> 966\u001b[1;33m     \u001b[0mres\u001b[0m \u001b[1;33m=\u001b[0m \u001b[0mfig\u001b[0m\u001b[1;33m.\u001b[0m\u001b[0msavefig\u001b[0m\u001b[1;33m(\u001b[0m\u001b[1;33m*\u001b[0m\u001b[0margs\u001b[0m\u001b[1;33m,\u001b[0m \u001b[1;33m**\u001b[0m\u001b[0mkwargs\u001b[0m\u001b[1;33m)\u001b[0m\u001b[1;33m\u001b[0m\u001b[1;33m\u001b[0m\u001b[0m\n\u001b[0m\u001b[0;32m    967\u001b[0m     \u001b[0mfig\u001b[0m\u001b[1;33m.\u001b[0m\u001b[0mcanvas\u001b[0m\u001b[1;33m.\u001b[0m\u001b[0mdraw_idle\u001b[0m\u001b[1;33m(\u001b[0m\u001b[1;33m)\u001b[0m   \u001b[1;31m# need this if 'transparent=True' to reset colors\u001b[0m\u001b[1;33m\u001b[0m\u001b[1;33m\u001b[0m\u001b[0m\n\u001b[0;32m    968\u001b[0m     \u001b[1;32mreturn\u001b[0m \u001b[0mres\u001b[0m\u001b[1;33m\u001b[0m\u001b[1;33m\u001b[0m\u001b[0m\n",
      "\u001b[1;32m~\\anaconda3\\lib\\site-packages\\matplotlib\\figure.py\u001b[0m in \u001b[0;36msavefig\u001b[1;34m(self, fname, transparent, **kwargs)\u001b[0m\n\u001b[0;32m   3013\u001b[0m                 \u001b[0mpatch\u001b[0m\u001b[1;33m.\u001b[0m\u001b[0mset_edgecolor\u001b[0m\u001b[1;33m(\u001b[0m\u001b[1;34m'none'\u001b[0m\u001b[1;33m)\u001b[0m\u001b[1;33m\u001b[0m\u001b[1;33m\u001b[0m\u001b[0m\n\u001b[0;32m   3014\u001b[0m \u001b[1;33m\u001b[0m\u001b[0m\n\u001b[1;32m-> 3015\u001b[1;33m         \u001b[0mself\u001b[0m\u001b[1;33m.\u001b[0m\u001b[0mcanvas\u001b[0m\u001b[1;33m.\u001b[0m\u001b[0mprint_figure\u001b[0m\u001b[1;33m(\u001b[0m\u001b[0mfname\u001b[0m\u001b[1;33m,\u001b[0m \u001b[1;33m**\u001b[0m\u001b[0mkwargs\u001b[0m\u001b[1;33m)\u001b[0m\u001b[1;33m\u001b[0m\u001b[1;33m\u001b[0m\u001b[0m\n\u001b[0m\u001b[0;32m   3016\u001b[0m \u001b[1;33m\u001b[0m\u001b[0m\n\u001b[0;32m   3017\u001b[0m         \u001b[1;32mif\u001b[0m \u001b[0mtransparent\u001b[0m\u001b[1;33m:\u001b[0m\u001b[1;33m\u001b[0m\u001b[1;33m\u001b[0m\u001b[0m\n",
      "\u001b[1;32m~\\anaconda3\\lib\\site-packages\\matplotlib\\backend_bases.py\u001b[0m in \u001b[0;36mprint_figure\u001b[1;34m(self, filename, dpi, facecolor, edgecolor, orientation, format, bbox_inches, pad_inches, bbox_extra_artists, backend, **kwargs)\u001b[0m\n\u001b[0;32m   2253\u001b[0m                 \u001b[1;31m# force the figure dpi to 72), so we need to set it again here.\u001b[0m\u001b[1;33m\u001b[0m\u001b[1;33m\u001b[0m\u001b[0m\n\u001b[0;32m   2254\u001b[0m                 \u001b[1;32mwith\u001b[0m \u001b[0mcbook\u001b[0m\u001b[1;33m.\u001b[0m\u001b[0m_setattr_cm\u001b[0m\u001b[1;33m(\u001b[0m\u001b[0mself\u001b[0m\u001b[1;33m.\u001b[0m\u001b[0mfigure\u001b[0m\u001b[1;33m,\u001b[0m \u001b[0mdpi\u001b[0m\u001b[1;33m=\u001b[0m\u001b[0mdpi\u001b[0m\u001b[1;33m)\u001b[0m\u001b[1;33m:\u001b[0m\u001b[1;33m\u001b[0m\u001b[1;33m\u001b[0m\u001b[0m\n\u001b[1;32m-> 2255\u001b[1;33m                     result = print_method(\n\u001b[0m\u001b[0;32m   2256\u001b[0m                         \u001b[0mfilename\u001b[0m\u001b[1;33m,\u001b[0m\u001b[1;33m\u001b[0m\u001b[1;33m\u001b[0m\u001b[0m\n\u001b[0;32m   2257\u001b[0m                         \u001b[0mfacecolor\u001b[0m\u001b[1;33m=\u001b[0m\u001b[0mfacecolor\u001b[0m\u001b[1;33m,\u001b[0m\u001b[1;33m\u001b[0m\u001b[1;33m\u001b[0m\u001b[0m\n",
      "\u001b[1;32m~\\anaconda3\\lib\\site-packages\\matplotlib\\backend_bases.py\u001b[0m in \u001b[0;36mwrapper\u001b[1;34m(*args, **kwargs)\u001b[0m\n\u001b[0;32m   1667\u001b[0m             \u001b[0mkwargs\u001b[0m\u001b[1;33m.\u001b[0m\u001b[0mpop\u001b[0m\u001b[1;33m(\u001b[0m\u001b[0marg\u001b[0m\u001b[1;33m)\u001b[0m\u001b[1;33m\u001b[0m\u001b[1;33m\u001b[0m\u001b[0m\n\u001b[0;32m   1668\u001b[0m \u001b[1;33m\u001b[0m\u001b[0m\n\u001b[1;32m-> 1669\u001b[1;33m         \u001b[1;32mreturn\u001b[0m \u001b[0mfunc\u001b[0m\u001b[1;33m(\u001b[0m\u001b[1;33m*\u001b[0m\u001b[0margs\u001b[0m\u001b[1;33m,\u001b[0m \u001b[1;33m**\u001b[0m\u001b[0mkwargs\u001b[0m\u001b[1;33m)\u001b[0m\u001b[1;33m\u001b[0m\u001b[1;33m\u001b[0m\u001b[0m\n\u001b[0m\u001b[0;32m   1670\u001b[0m \u001b[1;33m\u001b[0m\u001b[0m\n\u001b[0;32m   1671\u001b[0m     \u001b[1;32mreturn\u001b[0m \u001b[0mwrapper\u001b[0m\u001b[1;33m\u001b[0m\u001b[1;33m\u001b[0m\u001b[0m\n",
      "\u001b[1;32m~\\anaconda3\\lib\\site-packages\\matplotlib\\backends\\backend_agg.py\u001b[0m in \u001b[0;36mprint_png\u001b[1;34m(self, filename_or_obj, metadata, pil_kwargs, *args)\u001b[0m\n\u001b[0;32m    507\u001b[0m         \"\"\"\n\u001b[0;32m    508\u001b[0m         \u001b[0mFigureCanvasAgg\u001b[0m\u001b[1;33m.\u001b[0m\u001b[0mdraw\u001b[0m\u001b[1;33m(\u001b[0m\u001b[0mself\u001b[0m\u001b[1;33m)\u001b[0m\u001b[1;33m\u001b[0m\u001b[1;33m\u001b[0m\u001b[0m\n\u001b[1;32m--> 509\u001b[1;33m         mpl.image.imsave(\n\u001b[0m\u001b[0;32m    510\u001b[0m             \u001b[0mfilename_or_obj\u001b[0m\u001b[1;33m,\u001b[0m \u001b[0mself\u001b[0m\u001b[1;33m.\u001b[0m\u001b[0mbuffer_rgba\u001b[0m\u001b[1;33m(\u001b[0m\u001b[1;33m)\u001b[0m\u001b[1;33m,\u001b[0m \u001b[0mformat\u001b[0m\u001b[1;33m=\u001b[0m\u001b[1;34m\"png\"\u001b[0m\u001b[1;33m,\u001b[0m \u001b[0morigin\u001b[0m\u001b[1;33m=\u001b[0m\u001b[1;34m\"upper\"\u001b[0m\u001b[1;33m,\u001b[0m\u001b[1;33m\u001b[0m\u001b[1;33m\u001b[0m\u001b[0m\n\u001b[0;32m    511\u001b[0m             dpi=self.figure.dpi, metadata=metadata, pil_kwargs=pil_kwargs)\n",
      "\u001b[1;32m~\\anaconda3\\lib\\site-packages\\matplotlib\\image.py\u001b[0m in \u001b[0;36mimsave\u001b[1;34m(fname, arr, vmin, vmax, cmap, format, origin, dpi, metadata, pil_kwargs)\u001b[0m\n\u001b[0;32m   1614\u001b[0m         \u001b[0mpil_kwargs\u001b[0m\u001b[1;33m.\u001b[0m\u001b[0msetdefault\u001b[0m\u001b[1;33m(\u001b[0m\u001b[1;34m\"format\"\u001b[0m\u001b[1;33m,\u001b[0m \u001b[0mformat\u001b[0m\u001b[1;33m)\u001b[0m\u001b[1;33m\u001b[0m\u001b[1;33m\u001b[0m\u001b[0m\n\u001b[0;32m   1615\u001b[0m         \u001b[0mpil_kwargs\u001b[0m\u001b[1;33m.\u001b[0m\u001b[0msetdefault\u001b[0m\u001b[1;33m(\u001b[0m\u001b[1;34m\"dpi\"\u001b[0m\u001b[1;33m,\u001b[0m \u001b[1;33m(\u001b[0m\u001b[0mdpi\u001b[0m\u001b[1;33m,\u001b[0m \u001b[0mdpi\u001b[0m\u001b[1;33m)\u001b[0m\u001b[1;33m)\u001b[0m\u001b[1;33m\u001b[0m\u001b[1;33m\u001b[0m\u001b[0m\n\u001b[1;32m-> 1616\u001b[1;33m         \u001b[0mimage\u001b[0m\u001b[1;33m.\u001b[0m\u001b[0msave\u001b[0m\u001b[1;33m(\u001b[0m\u001b[0mfname\u001b[0m\u001b[1;33m,\u001b[0m \u001b[1;33m**\u001b[0m\u001b[0mpil_kwargs\u001b[0m\u001b[1;33m)\u001b[0m\u001b[1;33m\u001b[0m\u001b[1;33m\u001b[0m\u001b[0m\n\u001b[0m\u001b[0;32m   1617\u001b[0m \u001b[1;33m\u001b[0m\u001b[0m\n\u001b[0;32m   1618\u001b[0m \u001b[1;33m\u001b[0m\u001b[0m\n",
      "\u001b[1;32m~\\anaconda3\\lib\\site-packages\\PIL\\Image.py\u001b[0m in \u001b[0;36msave\u001b[1;34m(self, fp, format, **params)\u001b[0m\n\u001b[0;32m   2235\u001b[0m                 \u001b[0mfp\u001b[0m \u001b[1;33m=\u001b[0m \u001b[0mbuiltins\u001b[0m\u001b[1;33m.\u001b[0m\u001b[0mopen\u001b[0m\u001b[1;33m(\u001b[0m\u001b[0mfilename\u001b[0m\u001b[1;33m,\u001b[0m \u001b[1;34m\"r+b\"\u001b[0m\u001b[1;33m)\u001b[0m\u001b[1;33m\u001b[0m\u001b[1;33m\u001b[0m\u001b[0m\n\u001b[0;32m   2236\u001b[0m             \u001b[1;32melse\u001b[0m\u001b[1;33m:\u001b[0m\u001b[1;33m\u001b[0m\u001b[1;33m\u001b[0m\u001b[0m\n\u001b[1;32m-> 2237\u001b[1;33m                 \u001b[0mfp\u001b[0m \u001b[1;33m=\u001b[0m \u001b[0mbuiltins\u001b[0m\u001b[1;33m.\u001b[0m\u001b[0mopen\u001b[0m\u001b[1;33m(\u001b[0m\u001b[0mfilename\u001b[0m\u001b[1;33m,\u001b[0m \u001b[1;34m\"w+b\"\u001b[0m\u001b[1;33m)\u001b[0m\u001b[1;33m\u001b[0m\u001b[1;33m\u001b[0m\u001b[0m\n\u001b[0m\u001b[0;32m   2238\u001b[0m \u001b[1;33m\u001b[0m\u001b[0m\n\u001b[0;32m   2239\u001b[0m         \u001b[1;32mtry\u001b[0m\u001b[1;33m:\u001b[0m\u001b[1;33m\u001b[0m\u001b[1;33m\u001b[0m\u001b[0m\n",
      "\u001b[1;31mFileNotFoundError\u001b[0m: [Errno 2] No such file or directory: 'img/img0.png'"
     ]
    },
    {
     "data": {
      "image/png": "[encoded data removed]",
      "text/plain": [
       "<Figure size 1224x216 with 1 Axes>"
      ]
     },
     "metadata": {},
     "output_type": "display_data"
    }
   ],
   "source": [
    "%time imgs0 = play(Gridi(animate=False, saveimg=True, style='maze'))\n",
    "# plt.close()\n",
    "%time imgs1 = play(Gridi(animate=True, saveimg=True, style='maze'))"
   ]
  },
  {
   "cell_type": "code",
   "execution_count": 95,
   "id": "2c5c01f0",
   "metadata": {},
   "outputs": [
    {
     "ename": "NameError",
     "evalue": "name 'imgs0' is not defined",
     "output_type": "error",
     "traceback": [
      "\u001b[1;31m---------------------------------------------------------------------------\u001b[0m",
      "\u001b[1;31mNameError\u001b[0m                                 Traceback (most recent call last)",
      "\u001b[1;32m~\\AppData\\Local\\Temp/ipykernel_2636/3654069716.py\u001b[0m in \u001b[0;36m<module>\u001b[1;34m\u001b[0m\n\u001b[0;32m      1\u001b[0m \u001b[0m_\u001b[0m\u001b[1;33m,\u001b[0m \u001b[0max\u001b[0m \u001b[1;33m=\u001b[0m \u001b[0mplt\u001b[0m\u001b[1;33m.\u001b[0m\u001b[0msubplots\u001b[0m\u001b[1;33m(\u001b[0m\u001b[1;36m1\u001b[0m\u001b[1;33m,\u001b[0m\u001b[1;36m2\u001b[0m\u001b[1;33m,\u001b[0m \u001b[0mfigsize\u001b[0m\u001b[1;33m=\u001b[0m\u001b[1;33m(\u001b[0m\u001b[1;36m10\u001b[0m\u001b[1;33m,\u001b[0m\u001b[1;36m10\u001b[0m\u001b[1;33m)\u001b[0m\u001b[1;33m)\u001b[0m\u001b[1;33m\u001b[0m\u001b[1;33m\u001b[0m\u001b[0m\n\u001b[1;32m----> 2\u001b[1;33m \u001b[0max\u001b[0m\u001b[1;33m[\u001b[0m\u001b[1;36m0\u001b[0m\u001b[1;33m]\u001b[0m\u001b[1;33m.\u001b[0m\u001b[0mimshow\u001b[0m\u001b[1;33m(\u001b[0m\u001b[0mimgs0\u001b[0m\u001b[1;33m[\u001b[0m\u001b[1;36m4\u001b[0m\u001b[1;33m]\u001b[0m\u001b[1;33m)\u001b[0m\u001b[1;33m\u001b[0m\u001b[1;33m\u001b[0m\u001b[0m\n\u001b[0m\u001b[0;32m      3\u001b[0m \u001b[0max\u001b[0m\u001b[1;33m[\u001b[0m\u001b[1;36m1\u001b[0m\u001b[1;33m]\u001b[0m\u001b[1;33m.\u001b[0m\u001b[0mimshow\u001b[0m\u001b[1;33m(\u001b[0m\u001b[0mimgs1\u001b[0m\u001b[1;33m[\u001b[0m\u001b[1;36m4\u001b[0m\u001b[1;33m]\u001b[0m\u001b[1;33m)\u001b[0m\u001b[1;33m\u001b[0m\u001b[1;33m\u001b[0m\u001b[0m\n",
      "\u001b[1;31mNameError\u001b[0m: name 'imgs0' is not defined"
     ]
    },
    {
     "data": {
      "image/png": "[encoded data removed]",
      "text/plain": [
       "<Figure size 720x720 with 2 Axes>"
      ]
     },
     "metadata": {
      "needs_background": "light"
     },
     "output_type": "display_data"
    }
   ],
   "source": [
    "_, ax = plt.subplots(1,2, figsize=(10,10))\n",
    "ax[0].imshow(imgs0[4])\n",
    "ax[1].imshow(imgs1[4])"
   ]
  },
  {
   "cell_type": "code",
   "execution_count": 96,
   "id": "0d7a2ac5",
   "metadata": {},
   "outputs": [
    {
     "data": {
      "image/png": "[encoded data removed]",
      "text/plain": [
       "<Figure size 1224x216 with 1 Axes>"
      ]
     },
     "metadata": {},
     "output_type": "display_data"
    },
    {
     "name": "stdout",
     "output_type": "stream",
     "text": [
      "Wall time: 6.92 s\n"
     ]
    }
   ],
   "source": [
    "def test():\n",
    "    gw=Gridi()#animate=False)\n",
    "    for s in range(100): \n",
    "        gw.step(1)\n",
    "        gw.render(image=True, animate=True)\n",
    "\n",
    "%time test()"
   ]
  },
  {
   "cell_type": "markdown",
   "id": "3773c8d0",
   "metadata": {},
   "source": [
    "### Using s_() directly\n",
    "We can use s_() function directly, in addition to step() function to obtain current image."
   ]
  },
  {
   "cell_type": "code",
   "execution_count": 97,
   "id": "0678e596",
   "metadata": {
    "scrolled": false
   },
   "outputs": [
    {
     "data": {
      "image/png": "[encoded data removed]",
      "text/plain": [
       "<Figure size 1224x216 with 1 Axes>"
      ]
     },
     "metadata": {},
     "output_type": "display_data"
    }
   ],
   "source": [
    "mz = Gridi(style='maze')\n",
    "s = mz.s_()"
   ]
  },
  {
   "cell_type": "code",
   "execution_count": 98,
   "id": "5b342e4f",
   "metadata": {},
   "outputs": [
    {
     "data": {
      "image/png": "[encoded data removed]",
      "text/plain": [
       "<Figure size 1224x216 with 1 Axes>"
      ]
     },
     "metadata": {},
     "output_type": "display_data"
    }
   ],
   "source": [
    "gw = Gridi(style='maze')\n",
    "s = gw.step(1)"
   ]
  },
  {
   "cell_type": "markdown",
   "id": "7dae4091",
   "metadata": {},
   "source": [
    "Note that using animate is slow because render() is being called twice unnecessarily."
   ]
  },
  {
   "cell_type": "code",
   "execution_count": 99,
   "id": "aaf52095",
   "metadata": {
    "scrolled": true
   },
   "outputs": [
    {
     "data": {
      "text/plain": [
       "(163, 278, 4)"
      ]
     },
     "execution_count": 99,
     "metadata": {},
     "output_type": "execute_result"
    },
    {
     "data": {
      "image/png": "[encoded data removed]",
      "text/plain": [
       "<Figure size 1224x216 with 1 Axes>"
      ]
     },
     "metadata": {},
     "output_type": "display_data"
    }
   ],
   "source": [
    "gw.s_().shape"
   ]
  },
  {
   "cell_type": "markdown",
   "id": "3c4321d3",
   "metadata": {},
   "source": [
    "Let us scan the grid and store the images on disk so that we can train a deep learning model later to extract useful features from the pixels automatically!"
   ]
  },
  {
   "cell_type": "code",
   "execution_count": 100,
   "id": "4d043d89",
   "metadata": {},
   "outputs": [
    {
     "ename": "FileNotFoundError",
     "evalue": "[Errno 2] No such file or directory: 'img/img0.png'",
     "output_type": "error",
     "traceback": [
      "\u001b[1;31m---------------------------------------------------------------------------\u001b[0m",
      "\u001b[1;31mFileNotFoundError\u001b[0m                         Traceback (most recent call last)",
      "\u001b[1;32m~\\AppData\\Local\\Temp/ipykernel_2636/833417492.py\u001b[0m in \u001b[0;36m<module>\u001b[1;34m\u001b[0m\n\u001b[1;32m----> 1\u001b[1;33m \u001b[0mscan\u001b[0m\u001b[1;33m(\u001b[0m\u001b[0mGridi\u001b[0m\u001b[1;33m(\u001b[0m\u001b[0mstyle\u001b[0m\u001b[1;33m=\u001b[0m\u001b[1;34m'maze'\u001b[0m\u001b[1;33m,\u001b[0m \u001b[0msaveimg\u001b[0m\u001b[1;33m=\u001b[0m\u001b[1;32mTrue\u001b[0m\u001b[1;33m)\u001b[0m\u001b[1;33m)\u001b[0m\u001b[1;33m\u001b[0m\u001b[1;33m\u001b[0m\u001b[0m\n\u001b[0m",
      "\u001b[1;32m~\\AppData\\Local\\Temp/ipykernel_2636/2178213700.py\u001b[0m in \u001b[0;36mscan\u001b[1;34m(env, animate, pause)\u001b[0m\n\u001b[0;32m      8\u001b[0m             \u001b[0menv\u001b[0m\u001b[1;33m.\u001b[0m\u001b[0ms\u001b[0m \u001b[1;33m=\u001b[0m \u001b[0ms\u001b[0m\u001b[1;33m\u001b[0m\u001b[1;33m\u001b[0m\u001b[0m\n\u001b[0;32m      9\u001b[0m             \u001b[0menv\u001b[0m\u001b[1;33m.\u001b[0m\u001b[0mrender\u001b[0m\u001b[1;33m(\u001b[0m\u001b[0manimate\u001b[0m\u001b[1;33m=\u001b[0m\u001b[0manimate\u001b[0m\u001b[1;33m,\u001b[0m \u001b[0mpause\u001b[0m\u001b[1;33m=\u001b[0m\u001b[0mpause\u001b[0m\u001b[1;33m)\u001b[0m\u001b[1;33m\u001b[0m\u001b[1;33m\u001b[0m\u001b[0m\n\u001b[1;32m---> 10\u001b[1;33m             \u001b[0menv\u001b[0m\u001b[1;33m.\u001b[0m\u001b[0mstep\u001b[0m\u001b[1;33m(\u001b[0m\u001b[0ma\u001b[0m\u001b[1;33m)\u001b[0m\u001b[1;33m\u001b[0m\u001b[1;33m\u001b[0m\u001b[0m\n\u001b[0m\u001b[0;32m     11\u001b[0m             \u001b[0menv\u001b[0m\u001b[1;33m.\u001b[0m\u001b[0mrender\u001b[0m\u001b[1;33m(\u001b[0m\u001b[0manimate\u001b[0m\u001b[1;33m=\u001b[0m\u001b[0manimate\u001b[0m\u001b[1;33m,\u001b[0m \u001b[0mpause\u001b[0m\u001b[1;33m=\u001b[0m\u001b[0mpause\u001b[0m\u001b[1;33m)\u001b[0m\u001b[1;33m\u001b[0m\u001b[1;33m\u001b[0m\u001b[0m\n\u001b[0;32m     12\u001b[0m         \u001b[0menv\u001b[0m\u001b[1;33m.\u001b[0m\u001b[0ms\u001b[0m \u001b[1;33m=\u001b[0m \u001b[0ms\u001b[0m\u001b[1;33m\u001b[0m\u001b[1;33m\u001b[0m\u001b[0m\n",
      "\u001b[1;32m~\\AppData\\Local\\Temp/ipykernel_2636/729215236.py\u001b[0m in \u001b[0;36mstep\u001b[1;34m(self, a)\u001b[0m\n\u001b[0;32m      9\u001b[0m     \u001b[1;32mdef\u001b[0m \u001b[0mstep\u001b[0m\u001b[1;33m(\u001b[0m\u001b[0mself\u001b[0m\u001b[1;33m,\u001b[0m \u001b[0ma\u001b[0m\u001b[1;33m)\u001b[0m\u001b[1;33m:\u001b[0m\u001b[1;33m\u001b[0m\u001b[1;33m\u001b[0m\u001b[0m\n\u001b[0;32m     10\u001b[0m         \u001b[0mjump\u001b[0m \u001b[1;33m=\u001b[0m \u001b[0mrandint\u001b[0m\u001b[1;33m(\u001b[0m\u001b[1;36m1\u001b[0m\u001b[1;33m,\u001b[0m \u001b[0mmin\u001b[0m\u001b[1;33m(\u001b[0m\u001b[0mself\u001b[0m\u001b[1;33m.\u001b[0m\u001b[0mjump\u001b[0m\u001b[1;33m,\u001b[0m \u001b[0mself\u001b[0m\u001b[1;33m.\u001b[0m\u001b[0mnS\u001b[0m \u001b[1;33m-\u001b[0m \u001b[0mself\u001b[0m\u001b[1;33m.\u001b[0m\u001b[0ms\u001b[0m\u001b[1;33m)\u001b[0m \u001b[1;33m+\u001b[0m\u001b[1;36m1\u001b[0m\u001b[1;33m)\u001b[0m \u001b[1;32mif\u001b[0m \u001b[0mself\u001b[0m\u001b[1;33m.\u001b[0m\u001b[0mrandjump\u001b[0m \u001b[1;32melse\u001b[0m \u001b[0mself\u001b[0m\u001b[1;33m.\u001b[0m\u001b[0mjump\u001b[0m\u001b[1;33m\u001b[0m\u001b[1;33m\u001b[0m\u001b[0m\n\u001b[1;32m---> 11\u001b[1;33m         \u001b[1;32mif\u001b[0m \u001b[0mself\u001b[0m\u001b[1;33m.\u001b[0m\u001b[0mjump\u001b[0m\u001b[1;33m==\u001b[0m\u001b[1;36m1\u001b[0m\u001b[1;33m:\u001b[0m \u001b[1;32mreturn\u001b[0m \u001b[0msuper\u001b[0m\u001b[1;33m(\u001b[0m\u001b[1;33m)\u001b[0m\u001b[1;33m.\u001b[0m\u001b[0mstep\u001b[0m\u001b[1;33m(\u001b[0m\u001b[0ma\u001b[0m\u001b[1;33m)\u001b[0m\u001b[1;33m\u001b[0m\u001b[1;33m\u001b[0m\u001b[0m\n\u001b[0m\u001b[0;32m     12\u001b[0m \u001b[1;33m\u001b[0m\u001b[0m\n\u001b[0;32m     13\u001b[0m         \u001b[0ma\u001b[0m \u001b[1;33m=\u001b[0m \u001b[0mself\u001b[0m\u001b[1;33m.\u001b[0m\u001b[0mactions\u001b[0m\u001b[1;33m[\u001b[0m\u001b[0ma\u001b[0m\u001b[1;33m]\u001b[0m\u001b[1;33m*\u001b[0m\u001b[0mjump\u001b[0m\u001b[1;33m\u001b[0m\u001b[1;33m\u001b[0m\u001b[0m\n",
      "\u001b[1;32m~\\AppData\\Local\\Temp/ipykernel_2636/2595875383.py\u001b[0m in \u001b[0;36mstep\u001b[1;34m(self, a, *args)\u001b[0m\n\u001b[0;32m     53\u001b[0m         \u001b[0mself\u001b[0m\u001b[1;33m.\u001b[0m\u001b[0mtrace\u001b[0m\u001b[1;33m.\u001b[0m\u001b[0mappend\u001b[0m\u001b[1;33m(\u001b[0m\u001b[0mself\u001b[0m\u001b[1;33m.\u001b[0m\u001b[0ms\u001b[0m\u001b[1;33m)\u001b[0m\u001b[1;33m\u001b[0m\u001b[1;33m\u001b[0m\u001b[0m\n\u001b[0;32m     54\u001b[0m         \u001b[0mreward\u001b[0m\u001b[1;33m,\u001b[0m \u001b[0mdone\u001b[0m \u001b[1;33m=\u001b[0m \u001b[0mself\u001b[0m\u001b[1;33m.\u001b[0m\u001b[0mreward\u001b[0m\u001b[1;33m(\u001b[0m\u001b[1;33m)\u001b[0m       \u001b[1;31m# must be done in this order for the cliff reset to work properly\u001b[0m\u001b[1;33m\u001b[0m\u001b[1;33m\u001b[0m\u001b[0m\n\u001b[1;32m---> 55\u001b[1;33m         \u001b[1;32mreturn\u001b[0m \u001b[0mself\u001b[0m\u001b[1;33m.\u001b[0m\u001b[0ms_\u001b[0m\u001b[1;33m(\u001b[0m\u001b[1;33m)\u001b[0m\u001b[1;33m,\u001b[0m \u001b[0mreward\u001b[0m\u001b[1;33m,\u001b[0m \u001b[0mdone\u001b[0m\u001b[1;33m,\u001b[0m \u001b[1;33m{\u001b[0m\u001b[1;33m}\u001b[0m \u001b[1;31m# empty dict for compatibility\u001b[0m\u001b[1;33m\u001b[0m\u001b[1;33m\u001b[0m\u001b[0m\n\u001b[0m",
      "\u001b[1;32m~\\AppData\\Local\\Temp/ipykernel_2636/3980179361.py\u001b[0m in \u001b[0;36ms_\u001b[1;34m(self)\u001b[0m\n\u001b[0;32m     34\u001b[0m \u001b[1;33m\u001b[0m\u001b[0m\n\u001b[0;32m     35\u001b[0m     \u001b[1;32mdef\u001b[0m \u001b[0ms_\u001b[0m\u001b[1;33m(\u001b[0m\u001b[0mself\u001b[0m\u001b[1;33m)\u001b[0m\u001b[1;33m:\u001b[0m\u001b[1;33m\u001b[0m\u001b[1;33m\u001b[0m\u001b[0m\n\u001b[1;32m---> 36\u001b[1;33m         \u001b[0mself\u001b[0m\u001b[1;33m.\u001b[0m\u001b[0mrender__\u001b[0m\u001b[1;33m(\u001b[0m\u001b[0mimage\u001b[0m\u001b[1;33m=\u001b[0m\u001b[1;32mTrue\u001b[0m\u001b[1;33m,\u001b[0m \u001b[0manimate\u001b[0m\u001b[1;33m=\u001b[0m\u001b[0mself\u001b[0m\u001b[1;33m.\u001b[0m\u001b[0manimate\u001b[0m\u001b[1;33m,\u001b[0m \u001b[0msaveimg\u001b[0m\u001b[1;33m=\u001b[0m\u001b[0mself\u001b[0m\u001b[1;33m.\u001b[0m\u001b[0msaveimg\u001b[0m\u001b[1;33m)\u001b[0m\u001b[1;31m#, animate=self.animate)\u001b[0m\u001b[1;33m\u001b[0m\u001b[1;33m\u001b[0m\u001b[0m\n\u001b[0m\u001b[0;32m     37\u001b[0m         \u001b[1;32mreturn\u001b[0m \u001b[0mself\u001b[0m\u001b[1;33m.\u001b[0m\u001b[0mimg\u001b[0m\u001b[1;33m\u001b[0m\u001b[1;33m\u001b[0m\u001b[0m\n",
      "\u001b[1;32m~\\AppData\\Local\\Temp/ipykernel_2636/3071795681.py\u001b[0m in \u001b[0;36mrender__\u001b[1;34m(self, underhood, pause, label, subplot, large, animate, image, saveimg, **kw)\u001b[0m\n\u001b[0;32m    106\u001b[0m         \u001b[1;32mif\u001b[0m \u001b[0mself\u001b[0m\u001b[1;33m.\u001b[0m\u001b[0mstyle\u001b[0m \u001b[1;33m==\u001b[0m\u001b[1;34m'windy'\u001b[0m\u001b[1;33m:\u001b[0m \u001b[0mself\u001b[0m\u001b[1;33m.\u001b[0m\u001b[0mrender_windy\u001b[0m\u001b[1;33m(\u001b[0m\u001b[1;33m)\u001b[0m\u001b[1;33m\u001b[0m\u001b[1;33m\u001b[0m\u001b[0m\n\u001b[0;32m    107\u001b[0m \u001b[1;33m\u001b[0m\u001b[0m\n\u001b[1;32m--> 108\u001b[1;33m         \u001b[1;32mif\u001b[0m \u001b[0mimage\u001b[0m\u001b[1;33m:\u001b[0m \u001b[0mself\u001b[0m\u001b[1;33m.\u001b[0m\u001b[0mrender_image\u001b[0m\u001b[1;33m(\u001b[0m\u001b[0msaveimg\u001b[0m\u001b[1;33m=\u001b[0m\u001b[0msaveimg\u001b[0m\u001b[1;33m)\u001b[0m\u001b[1;33m\u001b[0m\u001b[1;33m\u001b[0m\u001b[0m\n\u001b[0m\u001b[0;32m    109\u001b[0m \u001b[1;33m\u001b[0m\u001b[0m\n\u001b[0;32m    110\u001b[0m         \u001b[1;31m# to animate clear and plot the Grid\u001b[0m\u001b[1;33m\u001b[0m\u001b[1;33m\u001b[0m\u001b[0m\n",
      "\u001b[1;32m~\\AppData\\Local\\Temp/ipykernel_2636/3980179361.py\u001b[0m in \u001b[0;36mrender_image\u001b[1;34m(self, saveimg)\u001b[0m\n\u001b[0;32m     23\u001b[0m         \u001b[0mplt\u001b[0m\u001b[1;33m.\u001b[0m\u001b[0msavefig\u001b[0m\u001b[1;33m(\u001b[0m\u001b[0mself\u001b[0m\u001b[1;33m.\u001b[0m\u001b[0mio\u001b[0m\u001b[1;33m,\u001b[0m \u001b[0mformat\u001b[0m\u001b[1;33m=\u001b[0m\u001b[1;34m'raw'\u001b[0m\u001b[1;33m,\u001b[0m \u001b[0mbbox_inches\u001b[0m\u001b[1;33m=\u001b[0m\u001b[0mbox\u001b[0m\u001b[1;33m)\u001b[0m\u001b[1;33m\u001b[0m\u001b[1;33m\u001b[0m\u001b[0m\n\u001b[0;32m     24\u001b[0m         \u001b[1;32mif\u001b[0m \u001b[0msaveimg\u001b[0m\u001b[1;33m:\u001b[0m\u001b[1;33m\u001b[0m\u001b[1;33m\u001b[0m\u001b[0m\n\u001b[1;32m---> 25\u001b[1;33m             \u001b[0mplt\u001b[0m\u001b[1;33m.\u001b[0m\u001b[0msavefig\u001b[0m\u001b[1;33m(\u001b[0m\u001b[1;34m'img/img%d.png'\u001b[0m\u001b[1;33m%\u001b[0m\u001b[0mself\u001b[0m\u001b[1;33m.\u001b[0m\u001b[0mi\u001b[0m\u001b[1;33m,\u001b[0m \u001b[0mbbox_inches\u001b[0m\u001b[1;33m=\u001b[0m\u001b[0mbox\u001b[0m\u001b[1;33m)\u001b[0m\u001b[1;33m;\u001b[0m \u001b[0mself\u001b[0m\u001b[1;33m.\u001b[0m\u001b[0mi\u001b[0m\u001b[1;33m+=\u001b[0m\u001b[1;36m1\u001b[0m\u001b[1;33m\u001b[0m\u001b[1;33m\u001b[0m\u001b[0m\n\u001b[0m\u001b[0;32m     26\u001b[0m \u001b[1;33m\u001b[0m\u001b[0m\n\u001b[0;32m     27\u001b[0m         \u001b[1;31m# reshape the image then crop excess from sides due to masking #(163, 244, -1)\u001b[0m\u001b[1;33m\u001b[0m\u001b[1;33m\u001b[0m\u001b[0m\n",
      "\u001b[1;32m~\\anaconda3\\lib\\site-packages\\matplotlib\\pyplot.py\u001b[0m in \u001b[0;36msavefig\u001b[1;34m(*args, **kwargs)\u001b[0m\n\u001b[0;32m    964\u001b[0m \u001b[1;32mdef\u001b[0m \u001b[0msavefig\u001b[0m\u001b[1;33m(\u001b[0m\u001b[1;33m*\u001b[0m\u001b[0margs\u001b[0m\u001b[1;33m,\u001b[0m \u001b[1;33m**\u001b[0m\u001b[0mkwargs\u001b[0m\u001b[1;33m)\u001b[0m\u001b[1;33m:\u001b[0m\u001b[1;33m\u001b[0m\u001b[1;33m\u001b[0m\u001b[0m\n\u001b[0;32m    965\u001b[0m     \u001b[0mfig\u001b[0m \u001b[1;33m=\u001b[0m \u001b[0mgcf\u001b[0m\u001b[1;33m(\u001b[0m\u001b[1;33m)\u001b[0m\u001b[1;33m\u001b[0m\u001b[1;33m\u001b[0m\u001b[0m\n\u001b[1;32m--> 966\u001b[1;33m     \u001b[0mres\u001b[0m \u001b[1;33m=\u001b[0m \u001b[0mfig\u001b[0m\u001b[1;33m.\u001b[0m\u001b[0msavefig\u001b[0m\u001b[1;33m(\u001b[0m\u001b[1;33m*\u001b[0m\u001b[0margs\u001b[0m\u001b[1;33m,\u001b[0m \u001b[1;33m**\u001b[0m\u001b[0mkwargs\u001b[0m\u001b[1;33m)\u001b[0m\u001b[1;33m\u001b[0m\u001b[1;33m\u001b[0m\u001b[0m\n\u001b[0m\u001b[0;32m    967\u001b[0m     \u001b[0mfig\u001b[0m\u001b[1;33m.\u001b[0m\u001b[0mcanvas\u001b[0m\u001b[1;33m.\u001b[0m\u001b[0mdraw_idle\u001b[0m\u001b[1;33m(\u001b[0m\u001b[1;33m)\u001b[0m   \u001b[1;31m# need this if 'transparent=True' to reset colors\u001b[0m\u001b[1;33m\u001b[0m\u001b[1;33m\u001b[0m\u001b[0m\n\u001b[0;32m    968\u001b[0m     \u001b[1;32mreturn\u001b[0m \u001b[0mres\u001b[0m\u001b[1;33m\u001b[0m\u001b[1;33m\u001b[0m\u001b[0m\n",
      "\u001b[1;32m~\\anaconda3\\lib\\site-packages\\matplotlib\\figure.py\u001b[0m in \u001b[0;36msavefig\u001b[1;34m(self, fname, transparent, **kwargs)\u001b[0m\n\u001b[0;32m   3013\u001b[0m                 \u001b[0mpatch\u001b[0m\u001b[1;33m.\u001b[0m\u001b[0mset_edgecolor\u001b[0m\u001b[1;33m(\u001b[0m\u001b[1;34m'none'\u001b[0m\u001b[1;33m)\u001b[0m\u001b[1;33m\u001b[0m\u001b[1;33m\u001b[0m\u001b[0m\n\u001b[0;32m   3014\u001b[0m \u001b[1;33m\u001b[0m\u001b[0m\n\u001b[1;32m-> 3015\u001b[1;33m         \u001b[0mself\u001b[0m\u001b[1;33m.\u001b[0m\u001b[0mcanvas\u001b[0m\u001b[1;33m.\u001b[0m\u001b[0mprint_figure\u001b[0m\u001b[1;33m(\u001b[0m\u001b[0mfname\u001b[0m\u001b[1;33m,\u001b[0m \u001b[1;33m**\u001b[0m\u001b[0mkwargs\u001b[0m\u001b[1;33m)\u001b[0m\u001b[1;33m\u001b[0m\u001b[1;33m\u001b[0m\u001b[0m\n\u001b[0m\u001b[0;32m   3016\u001b[0m \u001b[1;33m\u001b[0m\u001b[0m\n\u001b[0;32m   3017\u001b[0m         \u001b[1;32mif\u001b[0m \u001b[0mtransparent\u001b[0m\u001b[1;33m:\u001b[0m\u001b[1;33m\u001b[0m\u001b[1;33m\u001b[0m\u001b[0m\n",
      "\u001b[1;32m~\\anaconda3\\lib\\site-packages\\matplotlib\\backend_bases.py\u001b[0m in \u001b[0;36mprint_figure\u001b[1;34m(self, filename, dpi, facecolor, edgecolor, orientation, format, bbox_inches, pad_inches, bbox_extra_artists, backend, **kwargs)\u001b[0m\n\u001b[0;32m   2253\u001b[0m                 \u001b[1;31m# force the figure dpi to 72), so we need to set it again here.\u001b[0m\u001b[1;33m\u001b[0m\u001b[1;33m\u001b[0m\u001b[0m\n\u001b[0;32m   2254\u001b[0m                 \u001b[1;32mwith\u001b[0m \u001b[0mcbook\u001b[0m\u001b[1;33m.\u001b[0m\u001b[0m_setattr_cm\u001b[0m\u001b[1;33m(\u001b[0m\u001b[0mself\u001b[0m\u001b[1;33m.\u001b[0m\u001b[0mfigure\u001b[0m\u001b[1;33m,\u001b[0m \u001b[0mdpi\u001b[0m\u001b[1;33m=\u001b[0m\u001b[0mdpi\u001b[0m\u001b[1;33m)\u001b[0m\u001b[1;33m:\u001b[0m\u001b[1;33m\u001b[0m\u001b[1;33m\u001b[0m\u001b[0m\n\u001b[1;32m-> 2255\u001b[1;33m                     result = print_method(\n\u001b[0m\u001b[0;32m   2256\u001b[0m                         \u001b[0mfilename\u001b[0m\u001b[1;33m,\u001b[0m\u001b[1;33m\u001b[0m\u001b[1;33m\u001b[0m\u001b[0m\n\u001b[0;32m   2257\u001b[0m                         \u001b[0mfacecolor\u001b[0m\u001b[1;33m=\u001b[0m\u001b[0mfacecolor\u001b[0m\u001b[1;33m,\u001b[0m\u001b[1;33m\u001b[0m\u001b[1;33m\u001b[0m\u001b[0m\n",
      "\u001b[1;32m~\\anaconda3\\lib\\site-packages\\matplotlib\\backend_bases.py\u001b[0m in \u001b[0;36mwrapper\u001b[1;34m(*args, **kwargs)\u001b[0m\n\u001b[0;32m   1667\u001b[0m             \u001b[0mkwargs\u001b[0m\u001b[1;33m.\u001b[0m\u001b[0mpop\u001b[0m\u001b[1;33m(\u001b[0m\u001b[0marg\u001b[0m\u001b[1;33m)\u001b[0m\u001b[1;33m\u001b[0m\u001b[1;33m\u001b[0m\u001b[0m\n\u001b[0;32m   1668\u001b[0m \u001b[1;33m\u001b[0m\u001b[0m\n\u001b[1;32m-> 1669\u001b[1;33m         \u001b[1;32mreturn\u001b[0m \u001b[0mfunc\u001b[0m\u001b[1;33m(\u001b[0m\u001b[1;33m*\u001b[0m\u001b[0margs\u001b[0m\u001b[1;33m,\u001b[0m \u001b[1;33m**\u001b[0m\u001b[0mkwargs\u001b[0m\u001b[1;33m)\u001b[0m\u001b[1;33m\u001b[0m\u001b[1;33m\u001b[0m\u001b[0m\n\u001b[0m\u001b[0;32m   1670\u001b[0m \u001b[1;33m\u001b[0m\u001b[0m\n\u001b[0;32m   1671\u001b[0m     \u001b[1;32mreturn\u001b[0m \u001b[0mwrapper\u001b[0m\u001b[1;33m\u001b[0m\u001b[1;33m\u001b[0m\u001b[0m\n",
      "\u001b[1;32m~\\anaconda3\\lib\\site-packages\\matplotlib\\backends\\backend_agg.py\u001b[0m in \u001b[0;36mprint_png\u001b[1;34m(self, filename_or_obj, metadata, pil_kwargs, *args)\u001b[0m\n\u001b[0;32m    507\u001b[0m         \"\"\"\n\u001b[0;32m    508\u001b[0m         \u001b[0mFigureCanvasAgg\u001b[0m\u001b[1;33m.\u001b[0m\u001b[0mdraw\u001b[0m\u001b[1;33m(\u001b[0m\u001b[0mself\u001b[0m\u001b[1;33m)\u001b[0m\u001b[1;33m\u001b[0m\u001b[1;33m\u001b[0m\u001b[0m\n\u001b[1;32m--> 509\u001b[1;33m         mpl.image.imsave(\n\u001b[0m\u001b[0;32m    510\u001b[0m             \u001b[0mfilename_or_obj\u001b[0m\u001b[1;33m,\u001b[0m \u001b[0mself\u001b[0m\u001b[1;33m.\u001b[0m\u001b[0mbuffer_rgba\u001b[0m\u001b[1;33m(\u001b[0m\u001b[1;33m)\u001b[0m\u001b[1;33m,\u001b[0m \u001b[0mformat\u001b[0m\u001b[1;33m=\u001b[0m\u001b[1;34m\"png\"\u001b[0m\u001b[1;33m,\u001b[0m \u001b[0morigin\u001b[0m\u001b[1;33m=\u001b[0m\u001b[1;34m\"upper\"\u001b[0m\u001b[1;33m,\u001b[0m\u001b[1;33m\u001b[0m\u001b[1;33m\u001b[0m\u001b[0m\n\u001b[0;32m    511\u001b[0m             dpi=self.figure.dpi, metadata=metadata, pil_kwargs=pil_kwargs)\n",
      "\u001b[1;32m~\\anaconda3\\lib\\site-packages\\matplotlib\\image.py\u001b[0m in \u001b[0;36mimsave\u001b[1;34m(fname, arr, vmin, vmax, cmap, format, origin, dpi, metadata, pil_kwargs)\u001b[0m\n\u001b[0;32m   1614\u001b[0m         \u001b[0mpil_kwargs\u001b[0m\u001b[1;33m.\u001b[0m\u001b[0msetdefault\u001b[0m\u001b[1;33m(\u001b[0m\u001b[1;34m\"format\"\u001b[0m\u001b[1;33m,\u001b[0m \u001b[0mformat\u001b[0m\u001b[1;33m)\u001b[0m\u001b[1;33m\u001b[0m\u001b[1;33m\u001b[0m\u001b[0m\n\u001b[0;32m   1615\u001b[0m         \u001b[0mpil_kwargs\u001b[0m\u001b[1;33m.\u001b[0m\u001b[0msetdefault\u001b[0m\u001b[1;33m(\u001b[0m\u001b[1;34m\"dpi\"\u001b[0m\u001b[1;33m,\u001b[0m \u001b[1;33m(\u001b[0m\u001b[0mdpi\u001b[0m\u001b[1;33m,\u001b[0m \u001b[0mdpi\u001b[0m\u001b[1;33m)\u001b[0m\u001b[1;33m)\u001b[0m\u001b[1;33m\u001b[0m\u001b[1;33m\u001b[0m\u001b[0m\n\u001b[1;32m-> 1616\u001b[1;33m         \u001b[0mimage\u001b[0m\u001b[1;33m.\u001b[0m\u001b[0msave\u001b[0m\u001b[1;33m(\u001b[0m\u001b[0mfname\u001b[0m\u001b[1;33m,\u001b[0m \u001b[1;33m**\u001b[0m\u001b[0mpil_kwargs\u001b[0m\u001b[1;33m)\u001b[0m\u001b[1;33m\u001b[0m\u001b[1;33m\u001b[0m\u001b[0m\n\u001b[0m\u001b[0;32m   1617\u001b[0m \u001b[1;33m\u001b[0m\u001b[0m\n\u001b[0;32m   1618\u001b[0m \u001b[1;33m\u001b[0m\u001b[0m\n",
      "\u001b[1;32m~\\anaconda3\\lib\\site-packages\\PIL\\Image.py\u001b[0m in \u001b[0;36msave\u001b[1;34m(self, fp, format, **params)\u001b[0m\n\u001b[0;32m   2235\u001b[0m                 \u001b[0mfp\u001b[0m \u001b[1;33m=\u001b[0m \u001b[0mbuiltins\u001b[0m\u001b[1;33m.\u001b[0m\u001b[0mopen\u001b[0m\u001b[1;33m(\u001b[0m\u001b[0mfilename\u001b[0m\u001b[1;33m,\u001b[0m \u001b[1;34m\"r+b\"\u001b[0m\u001b[1;33m)\u001b[0m\u001b[1;33m\u001b[0m\u001b[1;33m\u001b[0m\u001b[0m\n\u001b[0;32m   2236\u001b[0m             \u001b[1;32melse\u001b[0m\u001b[1;33m:\u001b[0m\u001b[1;33m\u001b[0m\u001b[1;33m\u001b[0m\u001b[0m\n\u001b[1;32m-> 2237\u001b[1;33m                 \u001b[0mfp\u001b[0m \u001b[1;33m=\u001b[0m \u001b[0mbuiltins\u001b[0m\u001b[1;33m.\u001b[0m\u001b[0mopen\u001b[0m\u001b[1;33m(\u001b[0m\u001b[0mfilename\u001b[0m\u001b[1;33m,\u001b[0m \u001b[1;34m\"w+b\"\u001b[0m\u001b[1;33m)\u001b[0m\u001b[1;33m\u001b[0m\u001b[1;33m\u001b[0m\u001b[0m\n\u001b[0m\u001b[0;32m   2238\u001b[0m \u001b[1;33m\u001b[0m\u001b[0m\n\u001b[0;32m   2239\u001b[0m         \u001b[1;32mtry\u001b[0m\u001b[1;33m:\u001b[0m\u001b[1;33m\u001b[0m\u001b[1;33m\u001b[0m\u001b[0m\n",
      "\u001b[1;31mFileNotFoundError\u001b[0m: [Errno 2] No such file or directory: 'img/img0.png'"
     ]
    },
    {
     "data": {
      "image/png": "[encoded data removed]",
      "text/plain": [
       "<Figure size 1224x216 with 1 Axes>"
      ]
     },
     "metadata": {},
     "output_type": "display_data"
    }
   ],
   "source": [
    "scan(Gridi(style='maze', saveimg=True))"
   ]
  },
  {
   "cell_type": "markdown",
   "id": "1f6e6813",
   "metadata": {},
   "source": [
    "## Testing Efficiency of Rendering\n",
    "Let us now test the efficiency of the Grid class with respect to rendering. To do so we design a function to run some action and then render. "
   ]
  },
  {
   "cell_type": "code",
   "execution_count": 101,
   "id": "d3f41b6b",
   "metadata": {},
   "outputs": [],
   "source": [
    "def test_efficiency(test, n=100):\n",
    "    gw=Gridi()\n",
    "    gw.s=gw.s0 # reset the agent position\n",
    "    # let us go right\n",
    "    for s in range(n):\n",
    "        gw.step(1)\n",
    "        if test==0: gw.render(image=True,  animate=True)\n",
    "        if test==1: gw.render(image=False, animate=True)\n",
    "        if test==2: gw.render(image=True,  animate=False)\n",
    "        if test==3: gw.render(image=False, animate=False)\n",
    "    \n",
    "    return gw"
   ]
  },
  {
   "cell_type": "code",
   "execution_count": 102,
   "id": "0c54d97b",
   "metadata": {},
   "outputs": [
    {
     "data": {
      "image/png": "[encoded data removed]",
      "text/plain": [
       "<Figure size 1224x216 with 1 Axes>"
      ]
     },
     "metadata": {},
     "output_type": "display_data"
    },
    {
     "name": "stdout",
     "output_type": "stream",
     "text": [
      "Wall time: 6.87 s\n"
     ]
    }
   ],
   "source": [
    "%time gw = test_efficiency(0)"
   ]
  },
  {
   "cell_type": "code",
   "execution_count": 103,
   "id": "a12df8b0",
   "metadata": {},
   "outputs": [
    {
     "data": {
      "image/png": "[encoded data removed]",
      "text/plain": [
       "<Figure size 1224x216 with 1 Axes>"
      ]
     },
     "metadata": {},
     "output_type": "display_data"
    },
    {
     "name": "stdout",
     "output_type": "stream",
     "text": [
      "Wall time: 6.93 s\n",
      "Wall time: 4.91 s\n",
      "Wall time: 4.92 s\n"
     ]
    },
    {
     "data": {
      "image/png": "[encoded data removed]",
      "text/plain": [
       "<Figure size 1224x216 with 1 Axes>"
      ]
     },
     "metadata": {},
     "output_type": "display_data"
    }
   ],
   "source": [
    "%time gw = test_efficiency(1)\n",
    "%time gw = test_efficiency(2)\n",
    "%time gw = test_efficiency(3)"
   ]
  },
  {
   "cell_type": "markdown",
   "id": "e1559e3c",
   "metadata": {},
   "source": [
    "Note how test3 is relatively efficient and taking little time although we are dealing images."
   ]
  },
  {
   "cell_type": "markdown",
   "id": "e295010d",
   "metadata": {},
   "source": [
    "## Useful functions to return special types of Grids\n",
    "Often we will be dealing with special types of Grid class such as grid with obstacles that constitute something like a *maze* or an agent walking on *cliff* which can occasionally fall off etc. Therefore, we define below a set of useful functions that returns these types of Grids. Also we have adopt the convention of adding a prefix to the word Grid to all classes that are derived from the Grid class. Finally, to avoid redefining the above functions we have used the Grid=Grid to pass the kind of Grid class that we meant to generate an instance of."
   ]
  },
  {
   "cell_type": "code",
   "execution_count": 1,
   "id": "3132d56b",
   "metadata": {},
   "outputs": [
    {
     "ename": "NameError",
     "evalue": "name 'Grid' is not defined",
     "output_type": "error",
     "traceback": [
      "\u001b[1;31m---------------------------------------------------------------------------\u001b[0m",
      "\u001b[1;31mNameError\u001b[0m                                 Traceback (most recent call last)",
      "\u001b[1;32m~\\AppData\\Local\\Temp/ipykernel_14060/3663066308.py\u001b[0m in \u001b[0;36m<module>\u001b[1;34m\u001b[0m\n\u001b[0;32m      1\u001b[0m \u001b[1;31m#-------------------------------suitable for control------------------------------------------------\u001b[0m\u001b[1;33m\u001b[0m\u001b[1;33m\u001b[0m\u001b[0m\n\u001b[1;32m----> 2\u001b[1;33m \u001b[1;32mdef\u001b[0m \u001b[0mgrid\u001b[0m\u001b[1;33m(\u001b[0m\u001b[0mGrid\u001b[0m\u001b[1;33m=\u001b[0m\u001b[0mGrid\u001b[0m\u001b[1;33m,\u001b[0m \u001b[1;33m**\u001b[0m\u001b[0mkw\u001b[0m\u001b[1;33m)\u001b[0m\u001b[1;33m:\u001b[0m\u001b[1;33m\u001b[0m\u001b[1;33m\u001b[0m\u001b[0m\n\u001b[0m\u001b[0;32m      3\u001b[0m     \u001b[1;32mreturn\u001b[0m \u001b[0mGrid\u001b[0m\u001b[1;33m(\u001b[0m\u001b[0mgridsize\u001b[0m\u001b[1;33m=\u001b[0m\u001b[1;33m[\u001b[0m\u001b[1;36m8\u001b[0m\u001b[1;33m,\u001b[0m \u001b[1;36m10\u001b[0m\u001b[1;33m]\u001b[0m\u001b[1;33m,\u001b[0m \u001b[0ms0\u001b[0m\u001b[1;33m=\u001b[0m\u001b[1;36m31\u001b[0m\u001b[1;33m,\u001b[0m \u001b[0mgoals\u001b[0m\u001b[1;33m=\u001b[0m\u001b[1;33m[\u001b[0m\u001b[1;36m36\u001b[0m\u001b[1;33m]\u001b[0m\u001b[1;33m,\u001b[0m \u001b[1;33m**\u001b[0m\u001b[0mkw\u001b[0m\u001b[1;33m)\u001b[0m\u001b[1;33m\u001b[0m\u001b[1;33m\u001b[0m\u001b[0m\n\u001b[0;32m      4\u001b[0m \u001b[1;33m\u001b[0m\u001b[0m\n\u001b[0;32m      5\u001b[0m \u001b[1;32mdef\u001b[0m \u001b[0mgrid8\u001b[0m\u001b[1;33m(\u001b[0m\u001b[0mGrid\u001b[0m\u001b[1;33m=\u001b[0m\u001b[0mGrid\u001b[0m\u001b[1;33m,\u001b[0m \u001b[1;33m**\u001b[0m\u001b[0mkw\u001b[0m\u001b[1;33m)\u001b[0m\u001b[1;33m:\u001b[0m\u001b[1;33m\u001b[0m\u001b[1;33m\u001b[0m\u001b[0m\n",
      "\u001b[1;31mNameError\u001b[0m: name 'Grid' is not defined"
     ]
    }
   ],
   "source": [
    "#-------------------------------suitable for control------------------------------------------------\n",
    "def grid(Grid=Grid, **kw):\n",
    "    return Grid(gridsize=[8, 10], s0=31, goals=[36], **kw)\n",
    "\n",
    "def grid8(Grid=Grid, **kw): \n",
    "    return grid(Grid=Grid, nA=8, **kw)\n",
    "\n",
    "def windy(Grid=Grid,  **kw):\n",
    "    return Grid(gridsize=[7, 10], s0=30, goals=[37], style='windy', **kw)\n",
    "\n",
    "def cliffwalk(Grid=Grid, **kw):\n",
    "    return Grid(gridsize=[4, 12], s0=0,  goals=[11], style='cliff', reward='cliffwalk', **kw)\n",
    "\n",
    "def maze(Grid=Grid, r=35, c=35, **kw):\n",
    "    return Grid(gridsize=[r,c], s0=720, goals=[1052, 134], style='maze', **kw)\n",
    "\n",
    "def maze_large(Grid=Grid, **kw):\n",
    "    return maze(Grid=Grid, r=16, c=26, figsize=[25,4],**kw)\n",
    "\n",
    "def maze8(Grid=Grid, **kw): \n",
    "    return maze(Grid=Grid, nA=8, **kw)\n",
    "\n",
    "def mazei(Grid=Gridi, r=6, c=9, **kw):\n",
    "    return Gridi(gridsize=[r,c], s0=r//2*c, goals=[r*c-1], style='maze', **kw)#figsize is made ineffective\n",
    "\n",
    "#-------------------------------suitable for prediction------------------------------------------------\n",
    "def randwalk(Grid=Grid, nS=5+2, Vstar=None, **kw):\n",
    "    if Vstar is None: Vstar = np.arange(0,nS)/(nS-1)\n",
    "    return Grid(gridsize=(1,nS), reward='randwalk', nA=2, goals=[0,nS-1], s0=nS//2, Vstar=Vstar, **kw)\n",
    "\n",
    "\n",
    "def randwalk_(Grid=Grid, nS=19+2, Vstar=None, **kw):\n",
    "    if Vstar is None: Vstar = np.arange(-(nS-1),nS,2)/(nS-1)\n",
    "    return Grid(gridsize=(1,nS), reward='randwalk_', nA=2, goals=[0,nS-1], s0=nS//2, Vstar=Vstar,**kw)"
   ]
  },
  {
   "cell_type": "markdown",
   "id": "583e0793",
   "metadata": {},
   "source": [
    "Let us now try these functions that return different grid environments with visualisation."
   ]
  },
  {
   "cell_type": "code",
   "execution_count": 105,
   "id": "2f71f507",
   "metadata": {},
   "outputs": [
    {
     "data": {
      "image/png": "[encoded data removed]",
      "text/plain": [
       "<Figure size 1224x216 with 1 Axes>"
      ]
     },
     "metadata": {},
     "output_type": "display_data"
    }
   ],
   "source": [
    "mzi = mazei(animate=True)\n",
    "imags = play(mzi, steps=10)"
   ]
  },
  {
   "cell_type": "markdown",
   "id": "fd240067",
   "metadata": {},
   "source": [
    "## Simple grid world environment\n",
    "In this environment the agent is placed in front of a goal and it just needs to go straight to find it. However to make it more difficult we ordered the actions from left to right and down to top so the agent usually picks left before right and down before top."
   ]
  },
  {
   "cell_type": "code",
   "execution_count": 106,
   "id": "1b48e694",
   "metadata": {},
   "outputs": [
    {
     "data": {
      "image/png": "[encoded data removed]",
      "text/plain": [
       "<Figure size 1224x216 with 1 Axes>"
      ]
     },
     "metadata": {},
     "output_type": "display_data"
    }
   ],
   "source": [
    "gw = grid()\n",
    "gw.render() "
   ]
  },
  {
   "cell_type": "code",
   "execution_count": 107,
   "id": "99848542",
   "metadata": {},
   "outputs": [
    {
     "data": {
      "text/plain": [
       "[0, 1, 0, -100]"
      ]
     },
     "execution_count": 107,
     "metadata": {},
     "output_type": "execute_result"
    }
   ],
   "source": [
    "gw.rewards"
   ]
  },
  {
   "cell_type": "markdown",
   "id": "80ebab93",
   "metadata": {},
   "source": [
    "## Windy Environment\n",
    "In a windy environment we apply a wind upwards which will push the agent 1 or 2 cells above what would be its next cell when moving in the grid. The result is that the agent will find itself pushed toward the top borders of the grid. Below we show an example."
   ]
  },
  {
   "cell_type": "code",
   "execution_count": 108,
   "id": "1f6eab5a",
   "metadata": {
    "scrolled": false
   },
   "outputs": [
    {
     "data": {
      "image/png": "[encoded data removed]",
      "text/plain": [
       "<Figure size 1224x216 with 1 Axes>"
      ]
     },
     "metadata": {},
     "output_type": "display_data"
    }
   ],
   "source": [
    "gw = windy()\n",
    "gw.render()\n",
    "gw.s0=0\n",
    "wander(gw, pause=0)"
   ]
  },
  {
   "cell_type": "code",
   "execution_count": 109,
   "id": "a4437399",
   "metadata": {},
   "outputs": [
    {
     "data": {
      "text/plain": [
       "[0, 1, 0, -100]"
      ]
     },
     "execution_count": 109,
     "metadata": {},
     "output_type": "execute_result"
    }
   ],
   "source": [
    "gw.rewards"
   ]
  },
  {
   "cell_type": "markdown",
   "id": "ce6bc343",
   "metadata": {},
   "source": [
    "## Maze environment\n",
    "In a maze environment the agent is supposed to go form a start position to a goal position. On the way there are some obstacles that block the agent path and the goal is almost hidden in the top corner so that it is not readily accessible by the agent."
   ]
  },
  {
   "cell_type": "code",
   "execution_count": 110,
   "id": "4f02793a",
   "metadata": {},
   "outputs": [
    {
     "data": {
      "image/png": "[encoded data removed]",
      "text/plain": [
       "<Figure size 1224x216 with 1 Axes>"
      ]
     },
     "metadata": {},
     "output_type": "display_data"
    }
   ],
   "source": [
    "wander(gw=Grid(style='maze'))"
   ]
  },
  {
   "cell_type": "markdown",
   "id": "1eccaae9",
   "metadata": {},
   "source": [
    "## Random walk environment\n",
    "In a random walk environment we simply allow the agent to flip a coin and accordingly either go left or right. The environment has two goals one to the right which yields a positive reward of 1 and one to the left which yields no reward or a negative reward, all intermediate states have rewards of 0. Below we show a visualisation of this environment."
   ]
  },
  {
   "cell_type": "code",
   "execution_count": 111,
   "id": "261b8021",
   "metadata": {},
   "outputs": [
    {
     "data": {
      "image/png": "[encoded data removed]",
      "text/plain": [
       "<Figure size 1080x36 with 1 Axes>"
      ]
     },
     "metadata": {},
     "output_type": "display_data"
    }
   ],
   "source": [
    "rw = randwalk()\n",
    "rw.render()"
   ]
  },
  {
   "cell_type": "code",
   "execution_count": 112,
   "id": "caebc69f",
   "metadata": {},
   "outputs": [
    {
     "data": {
      "image/png": "[encoded data removed]",
      "text/plain": [
       "<Figure size 1080x36 with 1 Axes>"
      ]
     },
     "metadata": {},
     "output_type": "display_data"
    }
   ],
   "source": [
    "rw.render(underhood='letters')"
   ]
  },
  {
   "cell_type": "markdown",
   "id": "6d7a3c28",
   "metadata": {},
   "source": [
    "The rewards array is different that the *set* of possible rewards that we will use later. Observe the difference in the below."
   ]
  },
  {
   "cell_type": "code",
   "execution_count": 113,
   "id": "8093e59b",
   "metadata": {},
   "outputs": [
    {
     "data": {
      "text/plain": [
       "[0, 0, 1, 0]"
      ]
     },
     "execution_count": 113,
     "metadata": {},
     "output_type": "execute_result"
    }
   ],
   "source": [
    "rw.rewards"
   ]
  },
  {
   "cell_type": "code",
   "execution_count": 114,
   "id": "3f9bc6c2",
   "metadata": {},
   "outputs": [
    {
     "data": {
      "text/plain": [
       "array([0, 1])"
      ]
     },
     "execution_count": 114,
     "metadata": {},
     "output_type": "execute_result"
    }
   ],
   "source": [
    "rw.rewards_set()"
   ]
  },
  {
   "cell_type": "code",
   "execution_count": 115,
   "id": "5fdc9737",
   "metadata": {},
   "outputs": [
    {
     "data": {
      "image/png": "[encoded data removed]",
      "text/plain": [
       "<Figure size 1080x36 with 1 Axes>"
      ]
     },
     "metadata": {},
     "output_type": "display_data"
    }
   ],
   "source": [
    "rw = randwalk_()\n",
    "rw.render()"
   ]
  },
  {
   "cell_type": "code",
   "execution_count": 116,
   "id": "8f33bab2",
   "metadata": {},
   "outputs": [
    {
     "name": "stdout",
     "output_type": "stream",
     "text": [
      "[0, -1, 1, 0]\n",
      "[ 0  1 -1]\n"
     ]
    }
   ],
   "source": [
    "print(rw.rewards)\n",
    "print(rw.rewards_set())"
   ]
  },
  {
   "cell_type": "code",
   "execution_count": 117,
   "id": "dc0b8f98",
   "metadata": {},
   "outputs": [
    {
     "data": {
      "image/png": "[encoded data removed]",
      "text/plain": [
       "<Figure size 1080x36 with 1 Axes>"
      ]
     },
     "metadata": {},
     "output_type": "display_data"
    }
   ],
   "source": [
    "wander(rw)"
   ]
  },
  {
   "cell_type": "code",
   "execution_count": 118,
   "id": "3f59dbc4",
   "metadata": {
    "scrolled": true
   },
   "outputs": [
    {
     "data": {
      "image/png": "[encoded data removed]",
      "text/plain": [
       "<Figure size 1224x216 with 1 Axes>"
      ]
     },
     "metadata": {},
     "output_type": "display_data"
    }
   ],
   "source": [
    "gw8 = grid8()\n",
    "gw8.s = 50\n",
    "wander(gw=gw8, pause=0)"
   ]
  },
  {
   "cell_type": "markdown",
   "id": "7e103e77",
   "metadata": {},
   "source": [
    "Let us now visualise a random policy. This policy will not be useful of course for the agent to achieve its goal but it will show us how to move from a chaotic policy to an optimal one."
   ]
  },
  {
   "cell_type": "code",
   "execution_count": 59,
   "id": "1814f9b3",
   "metadata": {},
   "outputs": [
    {
     "data": {
      "image/png": "[encoded data removed]",
      "text/plain": [
       "<Figure size 1224x216 with 1 Axes>"
      ]
     },
     "metadata": {},
     "output_type": "display_data"
    }
   ],
   "source": [
    "π=np.random.randint(gw8.nA, size=gw8.nS)\n",
    "gw8.render(underhood='π', π=π)"
   ]
  },
  {
   "cell_type": "markdown",
   "id": "035c1f07",
   "metadata": {},
   "source": [
    "## Cliff walking environment\n",
    "In a cliff walking environment the agent needs to go purposely from a start position to a goal state. In between there is a cliff edge cells that if the agent steps into it fall off and reset into its start position."
   ]
  },
  {
   "cell_type": "code",
   "execution_count": 60,
   "id": "e5338d20",
   "metadata": {
    "scrolled": true
   },
   "outputs": [
    {
     "data": {
      "image/png": "[encoded data removed]",
      "text/plain": [
       "<Figure size 1224x216 with 1 Axes>"
      ]
     },
     "metadata": {},
     "output_type": "display_data"
    }
   ],
   "source": [
    "cw = cliffwalk()\n",
    "cw.render()"
   ]
  },
  {
   "cell_type": "code",
   "execution_count": 61,
   "id": "e32803d8",
   "metadata": {},
   "outputs": [
    {
     "data": {
      "image/png": "[encoded data removed]",
      "text/plain": [
       "<Figure size 1224x216 with 1 Axes>"
      ]
     },
     "metadata": {},
     "output_type": "display_data"
    }
   ],
   "source": [
    "wander(cw, pause=0)"
   ]
  },
  {
   "cell_type": "markdown",
   "id": "245d34fd",
   "metadata": {},
   "source": [
    "## Grid class misuse"
   ]
  },
  {
   "cell_type": "markdown",
   "id": "5e6a1930",
   "metadata": {},
   "source": [
    "The Grid class is not perfect by any means, but we made enough effort to make it work for *our purposes* and it is not well-protected against hostile usage. For example, when we use the render with underhood ='letters' for a 2-d grid it will not make sense because it is intended for a 1-d random walk problem. See below"
   ]
  },
  {
   "cell_type": "code",
   "execution_count": 119,
   "id": "75566069",
   "metadata": {
    "scrolled": true
   },
   "outputs": [
    {
     "data": {
      "image/png": "[encoded data removed]",
      "text/plain": [
       "<Figure size 1224x216 with 1 Axes>"
      ]
     },
     "metadata": {},
     "output_type": "display_data"
    }
   ],
   "source": [
    "gw = Grid(style='maze')\n",
    "gw.render(underhood='letters', pause=1)"
   ]
  },
  {
   "cell_type": "markdown",
   "id": "3cf90f87",
   "metadata": {},
   "source": [
    "Likewise, jumping is not protected against invalid moves."
   ]
  },
  {
   "cell_type": "code",
   "execution_count": 120,
   "id": "dcf1e545",
   "metadata": {},
   "outputs": [
    {
     "data": {
      "image/png": "[encoded data removed]",
      "text/plain": [
       "<Figure size 1224x216 with 1 Axes>"
      ]
     },
     "metadata": {},
     "output_type": "display_data"
    }
   ],
   "source": [
    "mz = maze(Grid)\n",
    "mz.render()\n",
    "plt.pause(3)\n",
    "mz.jump = 3\n",
    "mz.step(0)\n",
    "mz.render()"
   ]
  },
  {
   "cell_type": "markdown",
   "id": "5cc16762",
   "metadata": {},
   "source": [
    "## Conclusion\n",
    "In this lesson, we covered a set of basic grid world environments that we will utilise in other lessons. You do not necessarily need to understand how the grid is programmatically built, but you need to understand how it operates.!"
   ]
  },
  {
   "cell_type": "markdown",
   "id": "5222ade1",
   "metadata": {},
   "source": [
    "## Your turn\n",
    "1. try to manually create a policy that will help the agent to reach its goal from any cell in the grid, use a simple 3x2 grid\n",
    "2. try increase the grid size and see if you can come up with a policy function that will scale up consistently when we increase the grid size."
   ]
  }
 ],
 "metadata": {
  "kernelspec": {
   "display_name": "Python 3 (ipykernel)",
   "language": "python",
   "name": "python3"
  },
  "language_info": {
   "codemirror_mode": {
    "name": "ipython",
    "version": 3
   },
   "file_extension": ".py",
   "mimetype": "text/x-python",
   "name": "python",
   "nbconvert_exporter": "python",
   "pygments_lexer": "ipython3",
   "version": "3.9.7"
  }
 },
 "nbformat": 4,
 "nbformat_minor": 5
}
